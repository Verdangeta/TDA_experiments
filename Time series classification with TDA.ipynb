{
 "cells": [
  {
   "cell_type": "code",
   "execution_count": 1,
   "id": "8a4208dc-6cb3-4bb7-adb7-ec91f63788f1",
   "metadata": {
    "execution": {
     "iopub.execute_input": "2024-04-05T12:29:06.522613Z",
     "iopub.status.busy": "2024-04-05T12:29:06.521869Z",
     "iopub.status.idle": "2024-04-05T12:29:10.797591Z",
     "shell.execute_reply": "2024-04-05T12:29:10.796447Z",
     "shell.execute_reply.started": "2024-04-05T12:29:06.522558Z"
    }
   },
   "outputs": [],
   "source": [
    "import numpy as np\n",
    "import mtd\n",
    "import pycatch22\n",
    "\n",
    "from torch.utils.data import DataLoader\n",
    "from aeon.datasets import load_basic_motions, load_italy_power_demand\n",
    "\n",
    "import numpy as np\n",
    "from plotly.subplots import make_subplots\n",
    "import plotly.graph_objects as go\n",
    "\n",
    "import warnings\n",
    "warnings.filterwarnings(\"ignore\")"
   ]
  },
  {
   "cell_type": "code",
   "execution_count": 31,
   "id": "b6bbdf2f-b44c-477a-9918-7c1e27eb3c4c",
   "metadata": {
    "execution": {
     "iopub.execute_input": "2024-04-16T11:35:14.850744Z",
     "iopub.status.busy": "2024-04-16T11:35:14.850136Z",
     "iopub.status.idle": "2024-04-16T11:35:16.325227Z",
     "shell.execute_reply": "2024-04-16T11:35:16.323874Z",
     "shell.execute_reply.started": "2024-04-16T11:35:14.850701Z"
    }
   },
   "outputs": [],
   "source": [
    "!git add persistence\\ density\\ estimation.ipynb"
   ]
  },
  {
   "cell_type": "code",
   "execution_count": 2,
   "id": "49939e45-5359-450e-9608-24f32c2e2792",
   "metadata": {
    "execution": {
     "iopub.execute_input": "2024-04-05T12:29:10.799620Z",
     "iopub.status.busy": "2024-04-05T12:29:10.799241Z",
     "iopub.status.idle": "2024-04-05T12:29:10.804303Z",
     "shell.execute_reply": "2024-04-05T12:29:10.803419Z",
     "shell.execute_reply.started": "2024-04-05T12:29:10.799594Z"
    }
   },
   "outputs": [],
   "source": [
    "from aeon.datasets import load_classification"
   ]
  },
  {
   "cell_type": "code",
   "execution_count": 3,
   "id": "a7b6cd85-3444-4d3d-8045-9af18b381e9a",
   "metadata": {
    "execution": {
     "iopub.execute_input": "2024-04-05T12:29:10.805515Z",
     "iopub.status.busy": "2024-04-05T12:29:10.805262Z",
     "iopub.status.idle": "2024-04-05T12:29:10.908438Z",
     "shell.execute_reply": "2024-04-05T12:29:10.907517Z",
     "shell.execute_reply.started": "2024-04-05T12:29:10.805492Z"
    }
   },
   "outputs": [],
   "source": [
    "X_train, y_train = load_classification(\"WormsTwoClass\", split = \"Train\")\n",
    "\n",
    "X_test, y_test = load_classification(\"WormsTwoClass\", split = \"Test\")"
   ]
  },
  {
   "cell_type": "code",
   "execution_count": 4,
   "id": "bf81e52f-ed79-45a4-8ce2-9e129fce56ae",
   "metadata": {
    "execution": {
     "iopub.execute_input": "2024-04-05T12:29:10.910671Z",
     "iopub.status.busy": "2024-04-05T12:29:10.910312Z",
     "iopub.status.idle": "2024-04-05T12:29:10.920157Z",
     "shell.execute_reply": "2024-04-05T12:29:10.919150Z",
     "shell.execute_reply.started": "2024-04-05T12:29:10.910646Z"
    }
   },
   "outputs": [
    {
     "data": {
      "text/plain": [
       "(181, 1, 900)"
      ]
     },
     "execution_count": 4,
     "metadata": {},
     "output_type": "execute_result"
    }
   ],
   "source": [
    "X_train.shape"
   ]
  },
  {
   "cell_type": "code",
   "execution_count": 5,
   "id": "d6060fff-1886-4b6e-9468-6adaaa112c55",
   "metadata": {
    "execution": {
     "iopub.execute_input": "2024-04-05T12:29:10.921239Z",
     "iopub.status.busy": "2024-04-05T12:29:10.920986Z",
     "iopub.status.idle": "2024-04-05T12:29:10.927205Z",
     "shell.execute_reply": "2024-04-05T12:29:10.926474Z",
     "shell.execute_reply.started": "2024-04-05T12:29:10.921216Z"
    }
   },
   "outputs": [
    {
     "data": {
      "text/plain": [
       "(77, 1, 900)"
      ]
     },
     "execution_count": 5,
     "metadata": {},
     "output_type": "execute_result"
    }
   ],
   "source": [
    "X_test.shape"
   ]
  },
  {
   "cell_type": "code",
   "execution_count": 23,
   "id": "448e1f0d-5ec9-4d9e-8e3d-5d6a464192bd",
   "metadata": {
    "execution": {
     "iopub.execute_input": "2024-04-05T12:34:35.502136Z",
     "iopub.status.busy": "2024-04-05T12:34:35.501682Z",
     "iopub.status.idle": "2024-04-05T12:34:35.515537Z",
     "shell.execute_reply": "2024-04-05T12:34:35.514105Z",
     "shell.execute_reply.started": "2024-04-05T12:34:35.502111Z"
    }
   },
   "outputs": [],
   "source": [
    "from aeon.transformations.collection.feature_based import TSFreshFeatureExtractor\n",
    "ts_comp = TSFreshFeatureExtractor(\n",
    "                default_fc_parameters=\"comprehensive\"\n",
    ") "
   ]
  },
  {
   "cell_type": "code",
   "execution_count": 24,
   "id": "d685475e-9a8b-4eee-8762-82a11eae3613",
   "metadata": {
    "execution": {
     "iopub.execute_input": "2024-04-05T12:34:35.951974Z",
     "iopub.status.busy": "2024-04-05T12:34:35.950818Z",
     "iopub.status.idle": "2024-04-05T12:35:52.429012Z",
     "shell.execute_reply": "2024-04-05T12:35:52.427898Z",
     "shell.execute_reply.started": "2024-04-05T12:34:35.951923Z"
    }
   },
   "outputs": [],
   "source": [
    "res = ts_comp.fit_transform(X_test, y_test)"
   ]
  },
  {
   "cell_type": "code",
   "execution_count": 25,
   "id": "6f81a1cd-0b1d-497e-90d3-dffd2b9c46f6",
   "metadata": {
    "execution": {
     "iopub.execute_input": "2024-04-05T12:35:52.430933Z",
     "iopub.status.busy": "2024-04-05T12:35:52.430549Z",
     "iopub.status.idle": "2024-04-05T12:35:52.437227Z",
     "shell.execute_reply": "2024-04-05T12:35:52.436234Z",
     "shell.execute_reply.started": "2024-04-05T12:35:52.430907Z"
    }
   },
   "outputs": [
    {
     "data": {
      "text/plain": [
       "(77, 783)"
      ]
     },
     "execution_count": 25,
     "metadata": {},
     "output_type": "execute_result"
    }
   ],
   "source": [
    "res.shape"
   ]
  },
  {
   "cell_type": "markdown",
   "id": "92574224-0cec-4cca-8d31-2220554368d8",
   "metadata": {},
   "source": [
    "https://www.timeseriesclassification.com/description.php?Dataset=WormsTwoClass\n",
    "\n",
    "We have 257 cases, which we split 70\\%/30\\% into a train and test set. Each series has 900 observations, and each worm is classified as either wild-type or one of four mutant types"
   ]
  },
  {
   "cell_type": "code",
   "execution_count": null,
   "id": "aea62fd6-bd5c-425f-99d1-7db71b04689d",
   "metadata": {},
   "outputs": [],
   "source": [
    "# get the index corresponding to the first pure noise time series\n",
    "first_idx = np.argmin(y_train)\n",
    "# get the index corresponding to the first noise + gravitational wave time series\n",
    "second_idx = np.argmax(y_train)\n",
    "\n",
    "ts_first = X_train[first_idx]\n",
    "ts_second = X_train[second_idx]\n",
    "\n",
    "\n",
    "fig = make_subplots(rows=1, cols=2)\n",
    "\n",
    "fig.add_trace(\n",
    "    go.Scatter(x=list(range(len(ts_first[0]))), y=ts_first[0], mode=\"lines\", name=\"first class\"),\n",
    "    row=1,\n",
    "    col=1,\n",
    ")\n",
    "\n",
    "fig.add_trace(\n",
    "    go.Scatter(\n",
    "        x=list(range(len(ts_second[0]))),\n",
    "        y=ts_second[0],\n",
    "        mode=\"lines\",\n",
    "        name=\"second class\",\n",
    "    ),\n",
    "    row=1,\n",
    "    col=2,\n",
    ")\n",
    "fig.show()"
   ]
  },
  {
   "cell_type": "markdown",
   "id": "ea8dfbff-56b7-4e4f-8c4c-817c57d72748",
   "metadata": {},
   "source": [
    "---\n",
    "## Let's generate topological features"
   ]
  },
  {
   "cell_type": "code",
   "execution_count": 19,
   "id": "c059d41b-c76b-40d7-9880-a33cb5e1e90e",
   "metadata": {
    "jupyter": {
     "source_hidden": true
    }
   },
   "outputs": [],
   "source": [
    "# from scipy.stats import entropy\n",
    "# from gtda.time_series import TakensEmbedding\n",
    "# from sklearn.decomposition import PCA\n",
    "# import mtd\n",
    "# from scipy.stats import entropy\n",
    "\n",
    "# def my_entropy(cross_barcodes, normalize = False):\n",
    "#     pers_entropy = np.zeros((len(cross_barcodes),2))\n",
    "\n",
    "#     sum_lifespan = np.zeros(len(cross_barcodes))\n",
    "\n",
    "    \n",
    "#     for barcode_idx in range(len(cross_barcodes)):\n",
    "#         for hom_dim in [0, 1]:\n",
    "#             lifespan_sums = cross_barcodes[barcode_idx][hom_dim][:, 1] - cross_barcodes[barcode_idx][hom_dim][:, 0]\n",
    "#             sum_lifespan[barcode_idx] += np.sum(lifespan_sums)\n",
    "\n",
    "            \n",
    "#             entropy_dim = entropy(lifespan_sums, base = 2)\n",
    "            \n",
    "#             pers_entropy[barcode_idx][hom_dim] = entropy_dim\n",
    "\n",
    "#     if normalize:\n",
    "#         pers_entropy /= np.log2(sum_lifespan[...,None])\n",
    "        \n",
    "#     return pers_entropy\n",
    "\n",
    "# embedding_dimension = 100\n",
    "# embedding_time_delay = 5\n",
    "# stride = 5\n",
    "\n",
    "# embedder = TakensEmbedding(time_delay=embedding_time_delay,\n",
    "#                            dimension=embedding_dimension,\n",
    "#                            stride=stride)\n",
    "\n",
    "# batch_pca = PCA(n_components=3)\n",
    "\n",
    "# persistence = mtd.calc_cross_barcodes "
   ]
  },
  {
   "cell_type": "markdown",
   "id": "a0489c4c-6e65-4642-9fd2-c55cd8a3b37d",
   "metadata": {},
   "source": [
    "---"
   ]
  },
  {
   "cell_type": "code",
   "execution_count": 20,
   "id": "c33a436e-98d6-4908-bacf-88df3f168505",
   "metadata": {
    "jupyter": {
     "source_hidden": true
    }
   },
   "outputs": [],
   "source": [
    "# features_train = np.array(embedder.fit_transform(X_train))\n",
    "\n",
    "# features_train = [batch_pca.fit_transform(cloud) for cloud in features_train]"
   ]
  },
  {
   "cell_type": "code",
   "execution_count": 21,
   "id": "911020b5-8cf2-4526-b055-1180b5a0bb09",
   "metadata": {
    "jupyter": {
     "source_hidden": true
    }
   },
   "outputs": [],
   "source": [
    "# features_test= np.array(embedder.fit_transform(X_test))\n",
    "\n",
    "# features_test = [batch_pca.fit_transform(cloud) for cloud in features_test]"
   ]
  },
  {
   "cell_type": "markdown",
   "id": "7c969bc7-28b9-4256-9e83-9d70ca22fe57",
   "metadata": {},
   "source": [
    "### Here we can optimise choice of representatives from both class, now I take two random=)"
   ]
  },
  {
   "cell_type": "code",
   "execution_count": 22,
   "id": "1a930452-55bf-478e-9652-54b7d9dd76c2",
   "metadata": {},
   "outputs": [],
   "source": [
    "first_represent = features_train[first_idx]\n",
    "second_represent = features_train[second_idx]\n",
    "\n",
    "del features_train[first_idx]\n",
    "del features_train[second_idx-1]"
   ]
  },
  {
   "cell_type": "code",
   "execution_count": 23,
   "id": "cce2e058-ba07-4227-a83f-be33c55a8adb",
   "metadata": {
    "jupyter": {
     "source_hidden": true
    }
   },
   "outputs": [
    {
     "name": "stderr",
     "output_type": "stream",
     "text": [
      "100%|█████████████████████████████████████████████████████████████████████████████████████████████████████████████████████████████████████████████████████████████████████| 179/179 [00:04<00:00, 37.76it/s]\n"
     ]
    }
   ],
   "source": [
    "import mtd\n",
    "from tqdm import tqdm\n",
    "\n",
    "cross_barcodes = []\n",
    "\n",
    "for cloud in tqdm(features_train):\n",
    "    cross_barcodes.append(persistence(first_represent , cloud, batch_size1 = 600, batch_size2 = 600, pdist_device = \"cuda\", is_plot = False))\n",
    "\n",
    "entropyes_first = my_entropy(cross_barcodes, normalize=False)\n",
    "mtd_first = [mtd.get_score(barc, 1, 'sum_length') for barc in cross_barcodes]"
   ]
  },
  {
   "cell_type": "code",
   "execution_count": 24,
   "id": "d0a5c8fb-394e-4b95-a5fe-0bbf0b934060",
   "metadata": {
    "jupyter": {
     "source_hidden": true
    }
   },
   "outputs": [
    {
     "name": "stderr",
     "output_type": "stream",
     "text": [
      "100%|█████████████████████████████████████████████████████████████████████████████████████████████████████████████████████████████████████████████████████████████████████| 179/179 [00:03<00:00, 58.38it/s]\n"
     ]
    }
   ],
   "source": [
    "import mtd\n",
    "from tqdm import tqdm\n",
    "\n",
    "cross_barcodes = []\n",
    "\n",
    "for cloud in tqdm(features_train):\n",
    "    cross_barcodes.append(persistence(cloud, first_represent, batch_size1 = 600, batch_size2 = 600, pdist_device = \"cuda\", is_plot = False))\n",
    "\n",
    "entropyes_first_rw = my_entropy(cross_barcodes, normalize=False)\n",
    "mtd_first_rw= [mtd.get_score(barc, 1, 'sum_length') for barc in cross_barcodes]"
   ]
  },
  {
   "cell_type": "code",
   "execution_count": 25,
   "id": "c6d96d60-82f1-47a1-a093-17e1d77a3737",
   "metadata": {
    "jupyter": {
     "source_hidden": true
    }
   },
   "outputs": [
    {
     "name": "stderr",
     "output_type": "stream",
     "text": [
      "100%|█████████████████████████████████████████████████████████████████████████████████████████████████████████████████████████████████████████████████████████████████████| 179/179 [00:03<00:00, 52.80it/s]\n"
     ]
    }
   ],
   "source": [
    "import mtd\n",
    "from tqdm import tqdm\n",
    "\n",
    "cross_barcodes = []\n",
    "\n",
    "for cloud in tqdm(features_train):\n",
    "    cross_barcodes.append(persistence(second_represent , cloud, batch_size1 = 600, batch_size2 = 600, pdist_device = \"cuda\", is_plot = False))\n",
    "\n",
    "entropyes_second = my_entropy(cross_barcodes, normalize=False)\n",
    "mtd_second = [mtd.get_score(barc, 1, 'sum_length') for barc in cross_barcodes]"
   ]
  },
  {
   "cell_type": "code",
   "execution_count": 26,
   "id": "fe038576-fb70-4797-ac2c-35abd128bc56",
   "metadata": {
    "jupyter": {
     "source_hidden": true
    }
   },
   "outputs": [
    {
     "name": "stderr",
     "output_type": "stream",
     "text": [
      "100%|█████████████████████████████████████████████████████████████████████████████████████████████████████████████████████████████████████████████████████████████████████| 179/179 [00:03<00:00, 59.11it/s]\n"
     ]
    }
   ],
   "source": [
    "import mtd\n",
    "from tqdm import tqdm\n",
    "\n",
    "cross_barcodes = []\n",
    "\n",
    "for cloud in tqdm(features_train):\n",
    "    cross_barcodes.append(persistence(cloud, second_represent, batch_size1 = 600, batch_size2 = 600, pdist_device = \"cuda\", is_plot = False))\n",
    "\n",
    "entropyes_second_rw = my_entropy(cross_barcodes, normalize=False)\n",
    "mtd_second_rw= [mtd.get_score(barc, 1, 'sum_length') for barc in cross_barcodes]"
   ]
  },
  {
   "cell_type": "code",
   "execution_count": 27,
   "id": "31702c80-d421-4cc0-86c9-f4df47fab4dc",
   "metadata": {
    "jupyter": {
     "source_hidden": true
    }
   },
   "outputs": [],
   "source": [
    "mtd_first = np.array(mtd_first).reshape(-1,1)\n",
    "mtd_first_rw = np.array(mtd_first_rw).reshape(-1,1)\n",
    "mtd_second = np.array(mtd_second).reshape(-1,1)\n",
    "mtd_second_rw = np.array(mtd_second_rw).reshape(-1,1)"
   ]
  },
  {
   "cell_type": "code",
   "execution_count": 28,
   "id": "f930a566-8dff-4b7d-a751-c23057e574f5",
   "metadata": {
    "jupyter": {
     "source_hidden": true
    }
   },
   "outputs": [],
   "source": [
    "mtds = np.concatenate([mtd_first, mtd_first_rw,\n",
    "                            mtd_second, mtd_second_rw,\n",
    "                           ], axis = 1)"
   ]
  },
  {
   "cell_type": "code",
   "execution_count": 29,
   "id": "59906e82-be12-457c-a89b-b14e5c192b5e",
   "metadata": {
    "jupyter": {
     "source_hidden": true
    }
   },
   "outputs": [],
   "source": [
    "entropyes = np.concatenate([entropyes_first, entropyes_first_rw,\n",
    "                            entropyes_second, entropyes_second_rw\n",
    "                           ], axis = 1)"
   ]
  },
  {
   "cell_type": "code",
   "execution_count": 30,
   "id": "4e8a7a8c-8c32-4e8d-a96b-6a648f063e70",
   "metadata": {
    "jupyter": {
     "source_hidden": true
    }
   },
   "outputs": [
    {
     "data": {
      "text/plain": [
       "(179, 2)"
      ]
     },
     "execution_count": 30,
     "metadata": {},
     "output_type": "execute_result"
    }
   ],
   "source": [
    "entropyes_first_rw.shape"
   ]
  },
  {
   "cell_type": "code",
   "execution_count": 31,
   "id": "753b7f96-45f6-4d2e-ba32-d8980092f92f",
   "metadata": {},
   "outputs": [],
   "source": [
    "topological_features_train = np.concatenate([entropyes, mtds],axis = 1)"
   ]
  },
  {
   "cell_type": "code",
   "execution_count": 32,
   "id": "affc835d-2aef-4c05-b949-7384e110231b",
   "metadata": {},
   "outputs": [
    {
     "data": {
      "text/plain": [
       "(179, 12)"
      ]
     },
     "execution_count": 32,
     "metadata": {},
     "output_type": "execute_result"
    }
   ],
   "source": [
    "topological_features_train.shape"
   ]
  },
  {
   "cell_type": "markdown",
   "id": "e1960870-3756-4fee-953f-76fd9bf73ef3",
   "metadata": {},
   "source": [
    "---"
   ]
  },
  {
   "cell_type": "code",
   "execution_count": 33,
   "id": "6b65bda4-b9ff-474c-bb70-7c0b77acaa62",
   "metadata": {
    "jupyter": {
     "source_hidden": true
    }
   },
   "outputs": [
    {
     "name": "stderr",
     "output_type": "stream",
     "text": [
      "100%|███████████████████████████████████████████████████████████████████████████████████████████████████████████████████████████████████████████████████████████████████████| 77/77 [00:01<00:00, 45.74it/s]\n"
     ]
    }
   ],
   "source": [
    "import mtd\n",
    "from tqdm import tqdm\n",
    "\n",
    "cross_barcodes = []\n",
    "\n",
    "for cloud in tqdm(features_test):\n",
    "    cross_barcodes.append(persistence(first_represent , cloud, batch_size1 = 600, batch_size2 = 600, pdist_device = \"cuda\", is_plot = False))\n",
    "\n",
    "entropyes_first = my_entropy(cross_barcodes, normalize=False)\n",
    "mtd_first = [mtd.get_score(barc, 1, 'sum_length') for barc in cross_barcodes]"
   ]
  },
  {
   "cell_type": "code",
   "execution_count": 34,
   "id": "977d6ca5-bd18-4e40-aa75-276cc1148e00",
   "metadata": {
    "jupyter": {
     "source_hidden": true
    }
   },
   "outputs": [
    {
     "name": "stderr",
     "output_type": "stream",
     "text": [
      "100%|███████████████████████████████████████████████████████████████████████████████████████████████████████████████████████████████████████████████████████████████████████| 77/77 [00:02<00:00, 36.42it/s]\n"
     ]
    }
   ],
   "source": [
    "import mtd\n",
    "from tqdm import tqdm\n",
    "\n",
    "cross_barcodes = []\n",
    "\n",
    "for cloud in tqdm(features_test):\n",
    "    cross_barcodes.append(persistence(cloud, first_represent, batch_size1 = 600, batch_size2 = 600, pdist_device = \"cuda\", is_plot = False))\n",
    "\n",
    "entropyes_first_rw = my_entropy(cross_barcodes, normalize=False)\n",
    "mtd_first_rw= [mtd.get_score(barc, 1, 'sum_length') for barc in cross_barcodes]"
   ]
  },
  {
   "cell_type": "code",
   "execution_count": 35,
   "id": "1b43b092-920a-439c-996b-64dcfe2054a2",
   "metadata": {
    "jupyter": {
     "source_hidden": true
    }
   },
   "outputs": [
    {
     "name": "stderr",
     "output_type": "stream",
     "text": [
      "100%|███████████████████████████████████████████████████████████████████████████████████████████████████████████████████████████████████████████████████████████████████████| 77/77 [00:02<00:00, 38.35it/s]\n"
     ]
    }
   ],
   "source": [
    "import mtd\n",
    "from tqdm import tqdm\n",
    "\n",
    "cross_barcodes = []\n",
    "\n",
    "for cloud in tqdm(features_test):\n",
    "    cross_barcodes.append(persistence(second_represent , cloud, batch_size1 = 600, batch_size2 = 600, pdist_device = \"cuda\", is_plot = False))\n",
    "\n",
    "entropyes_second = my_entropy(cross_barcodes, normalize=False)\n",
    "mtd_second = [mtd.get_score(barc, 1, 'sum_length') for barc in cross_barcodes]"
   ]
  },
  {
   "cell_type": "code",
   "execution_count": 54,
   "id": "543eed89-6f0c-4212-b0b9-39cb11b69009",
   "metadata": {
    "jupyter": {
     "source_hidden": true
    }
   },
   "outputs": [
    {
     "name": "stderr",
     "output_type": "stream",
     "text": [
      "100%|███████████████████████████████████████████████████████████████████████████████████████████████████████████████████████████████████████████████████████████████████████| 77/77 [00:01<00:00, 51.73it/s]\n"
     ]
    }
   ],
   "source": [
    "import mtd\n",
    "from tqdm import tqdm\n",
    "\n",
    "cross_barcodes = []\n",
    "\n",
    "for cloud in tqdm(features_test):\n",
    "    cross_barcodes.append(persistence(cloud, second_represent, batch_size1 = 600, batch_size2 = 600, pdist_device = \"cuda\", is_plot = False))\n",
    "\n",
    "entropyes_second_rw = my_entropy(cross_barcodes, normalize=False)\n",
    "mtd_second_rw= [mtd.get_score(barc, 1, 'sum_length') for barc in cross_barcodes]"
   ]
  },
  {
   "cell_type": "code",
   "execution_count": 57,
   "id": "867eb924-8b00-4a23-8da4-5ad4d53bc4b3",
   "metadata": {},
   "outputs": [
    {
     "data": {
      "text/plain": [
       "(77, 1)"
      ]
     },
     "execution_count": 57,
     "metadata": {},
     "output_type": "execute_result"
    }
   ],
   "source": [
    "np.array(mtd_second_rw).reshape(-1,1).shape"
   ]
  },
  {
   "cell_type": "code",
   "execution_count": 37,
   "id": "2dbc1fbd-e917-4de2-80bd-d0f481f740bc",
   "metadata": {
    "jupyter": {
     "source_hidden": true
    }
   },
   "outputs": [],
   "source": [
    "mtd_first = np.array(mtd_first).reshape(-1,1)\n",
    "mtd_first_rw = np.array(mtd_first_rw).reshape(-1,1)\n",
    "mtd_second = np.array(mtd_second).reshape(-1,1)\n",
    "mtd_second_rw = np.array(mtd_second_rw).reshape(-1,1)"
   ]
  },
  {
   "cell_type": "code",
   "execution_count": 38,
   "id": "fce4a34b-97bd-49c2-bf9f-ed0364ded9ef",
   "metadata": {
    "jupyter": {
     "source_hidden": true
    }
   },
   "outputs": [],
   "source": [
    "mtds = np.concatenate([mtd_first, mtd_first_rw,\n",
    "                            mtd_second, mtd_second_rw,\n",
    "                           ], axis = 1)"
   ]
  },
  {
   "cell_type": "code",
   "execution_count": 39,
   "id": "8a66dba5-c520-49a1-965d-f4e4ebf07a22",
   "metadata": {
    "jupyter": {
     "source_hidden": true
    }
   },
   "outputs": [],
   "source": [
    "entropyes = np.concatenate([entropyes_first, entropyes_first_rw,\n",
    "                            entropyes_second, entropyes_second_rw\n",
    "                           ], axis = 1)"
   ]
  },
  {
   "cell_type": "code",
   "execution_count": 40,
   "id": "39de91ca-56f0-4c6c-9cc1-a19535c44c4f",
   "metadata": {
    "jupyter": {
     "source_hidden": true
    }
   },
   "outputs": [
    {
     "data": {
      "text/plain": [
       "(77, 12)"
      ]
     },
     "execution_count": 40,
     "metadata": {},
     "output_type": "execute_result"
    }
   ],
   "source": [
    "topological_features_test = np.concatenate([entropyes, mtds],axis = 1)\n",
    "topological_features_test.shape"
   ]
  },
  {
   "cell_type": "markdown",
   "id": "100e62ad-d2a2-48b1-b112-eded65e5bd0b",
   "metadata": {},
   "source": [
    "---"
   ]
  },
  {
   "cell_type": "code",
   "execution_count": 37,
   "id": "9f9c9af9-9520-4ddb-aa9b-3cd33fa15dd3",
   "metadata": {},
   "outputs": [
    {
     "name": "stdout",
     "output_type": "stream",
     "text": [
      "Optimal time delay based on mutual information: 5\n",
      "Optimal embedding dimension based on false nearest neighbors: 6\n"
     ]
    }
   ],
   "source": [
    "from Topological_classifier import TopologicalFeatureGenerator\n",
    "from sklearn.pipeline import make_pipeline\n",
    "from sklearn.ensemble import RandomForestClassifier\n",
    "from sklearn.metrics import accuracy_score\n",
    "import xgboost as xgb\n",
    "\n",
    "# classificator = xgb.XGBClassifier(n_estimators=2000, max_depth=5, learning_rate=0.1)\n",
    "classificator = RandomForestClassifier(random_state=42, n_estimators = 1000)\n",
    "\n",
    "\n",
    "top_gen = TopologicalFeatureGenerator(embedding_dimension = 100,\n",
    "                                      embedding_time_delay = 5,\n",
    "                                      stride = 1,\n",
    "                                      representatives= X_train[[first_idx, second_idx]], search_opt_embd= True)\n",
    "\n",
    "X_train_new = np.delete(X_train,[first_idx, second_idx], axis = 0)\n",
    "y_train_new = np.delete(y_train,[first_idx, second_idx], axis = 0).astype(int)\n",
    "\n",
    "pipe_top = make_pipeline(\n",
    "    top_gen,\n",
    "    classificator\n",
    ")"
   ]
  },
  {
   "cell_type": "markdown",
   "id": "8518a1c9-a66a-4b1d-94a8-428a50b2a66d",
   "metadata": {},
   "source": [
    "https://www.aeon-toolkit.org/en/stable/getting_started.html#time-series-classification-tsc"
   ]
  },
  {
   "cell_type": "code",
   "execution_count": 38,
   "id": "9e39beeb-a962-46b3-8c32-19079d244eb4",
   "metadata": {},
   "outputs": [],
   "source": [
    "from aeon.transformations.collection.feature_based import Catch22\n",
    "from sklearn.ensemble import RandomForestClassifier\n",
    "from sklearn.pipeline import FeatureUnion, Pipeline\n",
    "from sklearn.metrics import accuracy_score\n",
    "\n",
    "# X_train_new = np.delete(X_train,[first_idx, second_idx], axis = 0)\n",
    "# y_train_new = np.delete(y_train,[first_idx, second_idx], axis = 0)\n",
    "# Create and fit the pipeline\n",
    "\n",
    "pipe_catch = make_pipeline(\n",
    "    Catch22(replace_nans=True),\n",
    "    classificator\n",
    ")\n",
    "\n",
    "catch = Catch22(replace_nans=True)\n",
    "\n",
    "# X_train_catch= catch.fit_transform(X_train_new)"
   ]
  },
  {
   "cell_type": "code",
   "execution_count": 39,
   "id": "33978570-67a7-41ca-9c10-73b5bfdc6ebd",
   "metadata": {},
   "outputs": [],
   "source": [
    "# X_test_catch = catch.transform(X_test)"
   ]
  },
  {
   "cell_type": "code",
   "execution_count": 40,
   "id": "a4171080-b6d6-4581-b0e8-e2b947202300",
   "metadata": {},
   "outputs": [],
   "source": [
    "combined_features = FeatureUnion([(\"top_gen\", top_gen), (\"catch\", Catch22(replace_nans=True))])\n",
    "\n",
    "pipe_catch_topgen = make_pipeline(\n",
    "    combined_features,\n",
    "    classificator\n",
    ")"
   ]
  },
  {
   "cell_type": "markdown",
   "id": "2437d789-c755-4c1d-bb0c-2b5f7cd9f394",
   "metadata": {},
   "source": [
    "---\n",
    "#### Catch22 results"
   ]
  },
  {
   "cell_type": "code",
   "execution_count": 16,
   "id": "a23d9edf-5b11-4b64-be1b-57c90c80bc73",
   "metadata": {},
   "outputs": [],
   "source": [
    "# Randomforest = RandomForestClassifier(random_state=42)"
   ]
  },
  {
   "cell_type": "code",
   "execution_count": 12,
   "id": "be333fff-2f8d-42b1-9d1e-190f2127fa10",
   "metadata": {},
   "outputs": [
    {
     "data": {
      "text/plain": [
       "0.8441558441558441"
      ]
     },
     "execution_count": 12,
     "metadata": {},
     "output_type": "execute_result"
    }
   ],
   "source": [
    "pipe_catch.fit(X_train_new,y_train_new-1)\n",
    "accuracy_score(pipe_catch.predict(X_test), y_test.astype(int)-1)"
   ]
  },
  {
   "cell_type": "markdown",
   "id": "bf909790-b301-45f6-bce6-96821aa3cebc",
   "metadata": {},
   "source": [
    "---\n",
    "### Topology based features results "
   ]
  },
  {
   "cell_type": "code",
   "execution_count": 13,
   "id": "571f7ef9-a891-434c-bf02-27831da900cd",
   "metadata": {},
   "outputs": [],
   "source": [
    "# Randomforest.fit(topological_features_train, y_train_new)\n",
    "# accuracy_score(Randomforest.predict(topological_features_test), y_test)"
   ]
  },
  {
   "cell_type": "code",
   "execution_count": 14,
   "id": "0c8572f6-8708-4cfb-8c91-2990d0474bc8",
   "metadata": {},
   "outputs": [
    {
     "name": "stderr",
     "output_type": "stream",
     "text": [
      "100%|█████████████████████████████████████████████████████████████████████████████████████████████████████████████████████████████████████████████████████████████████████████| 4/4 [00:07<00:00,  1.90s/it]\n",
      "100%|█████████████████████████████████████████████████████████████████████████████████████████████████████████████████████████████████████████████████████████████████████████| 4/4 [00:02<00:00,  1.46it/s]\n"
     ]
    },
    {
     "data": {
      "text/plain": [
       "0.7922077922077922"
      ]
     },
     "execution_count": 14,
     "metadata": {},
     "output_type": "execute_result"
    }
   ],
   "source": [
    "pipe_top.fit(X_train_new, y_train_new-1)\n",
    "accuracy_score(pipe_top.predict(X_test), y_test.astype(int)-1)"
   ]
  },
  {
   "cell_type": "markdown",
   "id": "569331c9-208e-4294-b0a3-2f3d7f8db719",
   "metadata": {},
   "source": [
    "---\n",
    "### Topology+Catch22 results"
   ]
  },
  {
   "cell_type": "code",
   "execution_count": 15,
   "id": "f85819d3-d90b-4974-8c27-b109f1ff4520",
   "metadata": {},
   "outputs": [],
   "source": [
    "# Randomforest.fit(np.concatenate([topological_features_train, X_train_catch], axis = 1), y_train_new)\n",
    "# accuracy_score(Randomforest.predict(np.concatenate([topological_features_test, X_test_catch], axis = 1)), y_test)"
   ]
  },
  {
   "cell_type": "code",
   "execution_count": 17,
   "id": "90381735-984d-4583-b75a-6876c18f0d79",
   "metadata": {},
   "outputs": [
    {
     "name": "stderr",
     "output_type": "stream",
     "text": [
      "100%|█████████████████████████████████████████████████████████████████████████████████████████████████████████████████████████████████████████████████████████████████████████| 4/4 [00:07<00:00,  1.89s/it]\n",
      "100%|█████████████████████████████████████████████████████████████████████████████████████████████████████████████████████████████████████████████████████████████████████████| 4/4 [00:03<00:00,  1.03it/s]\n"
     ]
    },
    {
     "data": {
      "text/plain": [
       "0.8831168831168831"
      ]
     },
     "execution_count": 17,
     "metadata": {},
     "output_type": "execute_result"
    }
   ],
   "source": [
    "pipe_catch_topgen.fit(X_train_new,y_train_new-1)\n",
    "accuracy_score(pipe_catch_topgen.predict(X_test), y_test.astype(int)-1)"
   ]
  },
  {
   "cell_type": "code",
   "execution_count": 18,
   "id": "04d70a87-1e1b-4d99-841d-62a9186a8007",
   "metadata": {},
   "outputs": [
    {
     "data": {
      "image/png": "[encoded data removed]",
      "text/plain": [
       "<Figure size 800x1000 with 1 Axes>"
      ]
     },
     "metadata": {},
     "output_type": "display_data"
    }
   ],
   "source": [
    "feature_names = catch.get_features_arguments + top_gen.get_feature_names_out(1)\n",
    "\n",
    "importances = pipe_catch_topgen[\"randomforestclassifier\"].feature_importances_\n",
    "\n",
    "std = np.std([tree.feature_importances_ for tree in pipe_catch_topgen[\"randomforestclassifier\"].estimators_], axis=0)\n",
    "\n",
    "import pandas as pd\n",
    "import matplotlib.pyplot as plt\n",
    "\n",
    "forest_importances = pd.Series(importances, index=feature_names)\n",
    "\n",
    "fig, ax = plt.subplots(figsize = (8,10))\n",
    "forest_importances.plot.bar(yerr=std, ax=ax)\n",
    "ax.set_title(\"Feature importances using MDI\")\n",
    "ax.set_ylabel(\"Mean decrease in impurity\")\n",
    "fig.tight_layout()"
   ]
  },
  {
   "cell_type": "markdown",
   "id": "eaf56dc6-e2a5-429f-b0f0-592d117a082d",
   "metadata": {},
   "source": [
    "---"
   ]
  },
  {
   "cell_type": "code",
   "execution_count": 23,
   "id": "007cba28-d5ce-439c-ae24-0a33a332dffe",
   "metadata": {},
   "outputs": [
    {
     "name": "stderr",
     "output_type": "stream",
     "text": [
      "100%|█████████████████████████████████████████████████████████████████████████████████████████████████████████████████████████████████████████████████████████████████████████| 4/4 [00:06<00:00,  1.75s/it]\n"
     ]
    },
    {
     "data": {
      "text/html": [
       "<style>#sk-container-id-2 {color: black;background-color: white;}#sk-container-id-2 pre{padding: 0;}#sk-container-id-2 div.sk-toggleable {background-color: white;}#sk-container-id-2 label.sk-toggleable__label {cursor: pointer;display: block;width: 100%;margin-bottom: 0;padding: 0.3em;box-sizing: border-box;text-align: center;}#sk-container-id-2 label.sk-toggleable__label-arrow:before {content: \"▸\";float: left;margin-right: 0.25em;color: #696969;}#sk-container-id-2 label.sk-toggleable__label-arrow:hover:before {color: black;}#sk-container-id-2 div.sk-estimator:hover label.sk-toggleable__label-arrow:before {color: black;}#sk-container-id-2 div.sk-toggleable__content {max-height: 0;max-width: 0;overflow: hidden;text-align: left;background-color: #f0f8ff;}#sk-container-id-2 div.sk-toggleable__content pre {margin: 0.2em;color: black;border-radius: 0.25em;background-color: #f0f8ff;}#sk-container-id-2 input.sk-toggleable__control:checked~div.sk-toggleable__content {max-height: 200px;max-width: 100%;overflow: auto;}#sk-container-id-2 input.sk-toggleable__control:checked~label.sk-toggleable__label-arrow:before {content: \"▾\";}#sk-container-id-2 div.sk-estimator input.sk-toggleable__control:checked~label.sk-toggleable__label {background-color: #d4ebff;}#sk-container-id-2 div.sk-label input.sk-toggleable__control:checked~label.sk-toggleable__label {background-color: #d4ebff;}#sk-container-id-2 input.sk-hidden--visually {border: 0;clip: rect(1px 1px 1px 1px);clip: rect(1px, 1px, 1px, 1px);height: 1px;margin: -1px;overflow: hidden;padding: 0;position: absolute;width: 1px;}#sk-container-id-2 div.sk-estimator {font-family: monospace;background-color: #f0f8ff;border: 1px dotted black;border-radius: 0.25em;box-sizing: border-box;margin-bottom: 0.5em;}#sk-container-id-2 div.sk-estimator:hover {background-color: #d4ebff;}#sk-container-id-2 div.sk-parallel-item::after {content: \"\";width: 100%;border-bottom: 1px solid gray;flex-grow: 1;}#sk-container-id-2 div.sk-label:hover label.sk-toggleable__label {background-color: #d4ebff;}#sk-container-id-2 div.sk-serial::before {content: \"\";position: absolute;border-left: 1px solid gray;box-sizing: border-box;top: 0;bottom: 0;left: 50%;z-index: 0;}#sk-container-id-2 div.sk-serial {display: flex;flex-direction: column;align-items: center;background-color: white;padding-right: 0.2em;padding-left: 0.2em;position: relative;}#sk-container-id-2 div.sk-item {position: relative;z-index: 1;}#sk-container-id-2 div.sk-parallel {display: flex;align-items: stretch;justify-content: center;background-color: white;position: relative;}#sk-container-id-2 div.sk-item::before, #sk-container-id-2 div.sk-parallel-item::before {content: \"\";position: absolute;border-left: 1px solid gray;box-sizing: border-box;top: 0;bottom: 0;left: 50%;z-index: -1;}#sk-container-id-2 div.sk-parallel-item {display: flex;flex-direction: column;z-index: 1;position: relative;background-color: white;}#sk-container-id-2 div.sk-parallel-item:first-child::after {align-self: flex-end;width: 50%;}#sk-container-id-2 div.sk-parallel-item:last-child::after {align-self: flex-start;width: 50%;}#sk-container-id-2 div.sk-parallel-item:only-child::after {width: 0;}#sk-container-id-2 div.sk-dashed-wrapped {border: 1px dashed gray;margin: 0 0.4em 0.5em 0.4em;box-sizing: border-box;padding-bottom: 0.4em;background-color: white;}#sk-container-id-2 div.sk-label label {font-family: monospace;font-weight: bold;display: inline-block;line-height: 1.2em;}#sk-container-id-2 div.sk-label-container {text-align: center;}#sk-container-id-2 div.sk-container {/* jupyter's `normalize.less` sets `[hidden] { display: none; }` but bootstrap.min.css set `[hidden] { display: none !important; }` so we also need the `!important` here to be able to override the default hidden behavior on the sphinx rendered scikit-learn.org. See: https://github.com/scikit-learn/scikit-learn/issues/21755 */display: inline-block !important;position: relative;}#sk-container-id-2 div.sk-text-repr-fallback {display: none;}</style><div id=\"sk-container-id-2\" class=\"sk-top-container\"><div class=\"sk-text-repr-fallback\"><pre>RandomForestClassifier(n_estimators=1000, random_state=42)</pre><b>In a Jupyter environment, please rerun this cell to show the HTML representation or trust the notebook. <br />On GitHub, the HTML representation is unable to render, please try loading this page with nbviewer.org.</b></div><div class=\"sk-container\" hidden><div class=\"sk-item\"><div class=\"sk-estimator sk-toggleable\"><input class=\"sk-toggleable__control sk-hidden--visually\" id=\"sk-estimator-id-2\" type=\"checkbox\" checked><label for=\"sk-estimator-id-2\" class=\"sk-toggleable__label sk-toggleable__label-arrow\">RandomForestClassifier</label><div class=\"sk-toggleable__content\"><pre>RandomForestClassifier(n_estimators=1000, random_state=42)</pre></div></div></div></div></div>"
      ],
      "text/plain": [
       "RandomForestClassifier(n_estimators=1000, random_state=42)"
      ]
     },
     "execution_count": 23,
     "metadata": {},
     "output_type": "execute_result"
    }
   ],
   "source": [
    "X_train_new = np.delete(X_train,[first_idx, second_idx], axis = 0)\n",
    "y_train_new = np.delete(y_train,[first_idx, second_idx], axis = 0).astype(int)\n",
    "\n",
    "classificator = RandomForestClassifier(random_state=42, n_estimators = 1000)\n",
    "\n",
    "X_train_comb = combined_features.fit_transform(X_train_new, y_train_new-1)\n",
    "\n",
    "classificator.fit(X_train_comb, y_train_new-1)"
   ]
  },
  {
   "cell_type": "code",
   "execution_count": 24,
   "id": "a97d4c8a-1272-45e6-981c-c1b20e99b276",
   "metadata": {},
   "outputs": [
    {
     "name": "stderr",
     "output_type": "stream",
     "text": [
      "100%|█████████████████████████████████████████████████████████████████████████████████████████████████████████████████████████████████████████████████████████████████████████| 4/4 [00:02<00:00,  1.48it/s]\n"
     ]
    }
   ],
   "source": [
    "X_test_comb = combined_features.fit_transform(X_test, y_test.astype(int)-1)"
   ]
  },
  {
   "cell_type": "code",
   "execution_count": 25,
   "id": "f4384550-5b9b-438d-84be-82ef93b37e53",
   "metadata": {
    "scrolled": true
   },
   "outputs": [
    {
     "name": "stdout",
     "output_type": "stream",
     "text": [
      "Elapsed time to compute the importances: 44.349 seconds\n"
     ]
    }
   ],
   "source": [
    "from sklearn.inspection import permutation_importance\n",
    "import time\n",
    "start_time = time.time()\n",
    "result = permutation_importance(\n",
    "    classificator, X_test_comb,  y_test.astype(int)-1, n_repeats=100, random_state=42, n_jobs=-1\n",
    ")\n",
    "elapsed_time = time.time() - start_time\n",
    "print(f\"Elapsed time to compute the importances: {elapsed_time:.3f} seconds\")\n",
    "\n",
    "forest_importances = pd.Series(result.importances_mean, index=feature_names)"
   ]
  },
  {
   "cell_type": "code",
   "execution_count": 26,
   "id": "bd985f28-638f-446d-ae10-4657cb2e2e99",
   "metadata": {},
   "outputs": [
    {
     "data": {
      "image/png": "[encoded data removed]",
      "text/plain": [
       "<Figure size 800x1000 with 1 Axes>"
      ]
     },
     "metadata": {},
     "output_type": "display_data"
    }
   ],
   "source": [
    "fig, ax = plt.subplots(figsize = (8,10))\n",
    "forest_importances.plot.bar(yerr=result.importances_std, ax=ax)\n",
    "ax.set_title(\"Feature importances using permutation on full model\")\n",
    "ax.set_ylabel(\"Mean accuracy decrease\")\n",
    "fig.tight_layout()\n",
    "plt.show()"
   ]
  },
  {
   "cell_type": "markdown",
   "id": "05de874f-c310-4408-9689-9ef280e0fa30",
   "metadata": {},
   "source": [
    "ICML ICLR поискать по tsc взять модель оттуда за бейзлайн\n",
    "\n",
    "посчитать std \n",
    "\n",
    "сделать удобный пайплайн для тестирования на разных датасетх, нужно определиться с базовой моделью и может в качестве топологических фичей добавить просто баркоды и mtd одномерных гомологий"
   ]
  },
  {
   "cell_type": "markdown",
   "id": "021c43b3-2fb4-485e-be76-c9a36a0194aa",
   "metadata": {},
   "source": [
    "### Let's add four additional datasets for this task and comare results of algorithms"
   ]
  },
  {
   "cell_type": "code",
   "execution_count": 18,
   "id": "622586c1-901f-47c1-9e02-67e2284b7359",
   "metadata": {
    "execution": {
     "iopub.execute_input": "2024-03-25T14:01:34.943037Z",
     "iopub.status.busy": "2024-03-25T14:01:34.942497Z",
     "iopub.status.idle": "2024-03-25T14:32:24.429404Z",
     "shell.execute_reply": "2024-03-25T14:32:24.428221Z",
     "shell.execute_reply.started": "2024-03-25T14:01:34.943004Z"
    }
   },
   "outputs": [
    {
     "name": "stdout",
     "output_type": "stream",
     "text": [
      "Optimal time delay based on mutual information: 2\n",
      "Optimal embedding dimension based on false nearest neighbors: 18\n",
      "The result shape of cloud: (227, 3)\n"
     ]
    },
    {
     "name": "stderr",
     "output_type": "stream",
     "text": [
      "100%|█████████████████████████████████████████████████████████████████████████████████████████████████████████████████████████████████████████████████████████████████████████| 5/5 [01:57<00:00, 23.46s/it]\n",
      "100%|█████████████████████████████████████████████████████████████████████████████████████████████████████████████████████████████████████████████████████████████████████████| 5/5 [00:57<00:00, 11.51s/it]\n",
      "100%|█████████████████████████████████████████████████████████████████████████████████████████████████████████████████████████████████████████████████████████████████████████| 5/5 [01:55<00:00, 23.19s/it]\n",
      "100%|█████████████████████████████████████████████████████████████████████████████████████████████████████████████████████████████████████████████████████████████████████████| 5/5 [00:58<00:00, 11.66s/it]\n"
     ]
    },
    {
     "name": "stdout",
     "output_type": "stream",
     "text": [
      "Optimal time delay based on mutual information: 1\n",
      "Optimal embedding dimension based on false nearest neighbors: 12\n",
      "The result shape of cloud: (227, 3)\n"
     ]
    },
    {
     "name": "stderr",
     "output_type": "stream",
     "text": [
      "100%|█████████████████████████████████████████████████████████████████████████████████████████████████████████████████████████████████████████████████████████████████████████| 5/5 [01:56<00:00, 23.24s/it]\n",
      "100%|█████████████████████████████████████████████████████████████████████████████████████████████████████████████████████████████████████████████████████████████████████████| 5/5 [00:58<00:00, 11.68s/it]\n",
      "100%|█████████████████████████████████████████████████████████████████████████████████████████████████████████████████████████████████████████████████████████████████████████| 5/5 [01:55<00:00, 23.18s/it]\n",
      "100%|█████████████████████████████████████████████████████████████████████████████████████████████████████████████████████████████████████████████████████████████████████████| 5/5 [01:01<00:00, 12.24s/it]\n"
     ]
    },
    {
     "name": "stdout",
     "output_type": "stream",
     "text": [
      "Optimal time delay based on mutual information: 2\n",
      "Optimal embedding dimension based on false nearest neighbors: 12\n",
      "The result shape of cloud: (227, 3)\n"
     ]
    },
    {
     "name": "stderr",
     "output_type": "stream",
     "text": [
      "100%|█████████████████████████████████████████████████████████████████████████████████████████████████████████████████████████████████████████████████████████████████████████| 5/5 [01:54<00:00, 22.90s/it]\n",
      "100%|█████████████████████████████████████████████████████████████████████████████████████████████████████████████████████████████████████████████████████████████████████████| 5/5 [00:57<00:00, 11.42s/it]\n",
      "100%|█████████████████████████████████████████████████████████████████████████████████████████████████████████████████████████████████████████████████████████████████████████| 5/5 [01:53<00:00, 22.71s/it]\n",
      "100%|█████████████████████████████████████████████████████████████████████████████████████████████████████████████████████████████████████████████████████████████████████████| 5/5 [00:57<00:00, 11.43s/it]\n"
     ]
    },
    {
     "name": "stdout",
     "output_type": "stream",
     "text": [
      "Optimal time delay based on mutual information: 1\n",
      "Optimal embedding dimension based on false nearest neighbors: 11\n",
      "The result shape of cloud: (227, 3)\n"
     ]
    },
    {
     "name": "stderr",
     "output_type": "stream",
     "text": [
      "100%|█████████████████████████████████████████████████████████████████████████████████████████████████████████████████████████████████████████████████████████████████████████| 5/5 [02:18<00:00, 27.62s/it]\n",
      "100%|█████████████████████████████████████████████████████████████████████████████████████████████████████████████████████████████████████████████████████████████████████████| 5/5 [01:05<00:00, 13.02s/it]\n",
      "100%|█████████████████████████████████████████████████████████████████████████████████████████████████████████████████████████████████████████████████████████████████████████| 5/5 [02:11<00:00, 26.39s/it]\n",
      "100%|█████████████████████████████████████████████████████████████████████████████████████████████████████████████████████████████████████████████████████████████████████████| 5/5 [01:05<00:00, 13.00s/it]\n"
     ]
    },
    {
     "name": "stdout",
     "output_type": "stream",
     "text": [
      "Optimal time delay based on mutual information: 2\n",
      "Optimal embedding dimension based on false nearest neighbors: 15\n",
      "The result shape of cloud: (227, 3)\n"
     ]
    },
    {
     "name": "stderr",
     "output_type": "stream",
     "text": [
      "100%|█████████████████████████████████████████████████████████████████████████████████████████████████████████████████████████████████████████████████████████████████████████| 5/5 [01:53<00:00, 22.78s/it]\n",
      "100%|█████████████████████████████████████████████████████████████████████████████████████████████████████████████████████████████████████████████████████████████████████████| 5/5 [00:57<00:00, 11.53s/it]\n",
      "100%|█████████████████████████████████████████████████████████████████████████████████████████████████████████████████████████████████████████████████████████████████████████| 5/5 [01:54<00:00, 22.91s/it]\n",
      "100%|█████████████████████████████████████████████████████████████████████████████████████████████████████████████████████████████████████████████████████████████████████████| 5/5 [00:58<00:00, 11.72s/it]\n"
     ]
    },
    {
     "name": "stdout",
     "output_type": "stream",
     "text": [
      "Dataset: Earthquakes\n",
      "CATCH22 results: [0.784 0.824 0.804 0.804 0.804] | 0.804 +- 0.012\n",
      "TopGen results: [0.797 0.837 0.837 0.804 0.83 ] | 0.821 +- 0.017\n",
      "CATCH22+TopGen results: [0.778 0.856 0.83  0.797 0.824] | 0.817 +- 0.027\n"
     ]
    }
   ],
   "source": [
    "from Topological_classifier import TopologicalFeatureGenerator\n",
    "from sklearn.pipeline import make_pipeline\n",
    "from sklearn.pipeline import FeatureUnion, Pipeline\n",
    "from sklearn.ensemble import RandomForestClassifier\n",
    "from sklearn.metrics import accuracy_score\n",
    "import xgboost as xgb\n",
    "from aeon.transformations.collection.feature_based import Catch22\n",
    "from tsml_eval.experiments import run_classification_experiment\n",
    "from aeon.classification.sklearn import RotationForestClassifier\n",
    "from sklearn.model_selection import train_test_split\n",
    "\n",
    "# dataset = \"Computers\"\n",
    "dataset = \"Earthquakes\"\n",
    "random_states = [42, 444, 31, 20, 13]\n",
    "\n",
    "catch_res = []\n",
    "top_res = []\n",
    "catch_top_res = []\n",
    "\n",
    "for random_state in random_states:\n",
    "    \n",
    "    X, y = load_classification(dataset)\n",
    "    \n",
    "    X_train, X_test, y_train, y_test = train_test_split(X, y, test_size=0.33, random_state=random_state)\n",
    "    \n",
    "    # get the indexes corresponding to the first appearence of all unique elements\n",
    "    first_appear = [ np.where(y_train == i)[0][0] for i in np.unique(y_train)]\n",
    "    \n",
    "    \n",
    "    \n",
    "    # classificator = xgb.XGBClassifier(n_estimators=2000, max_depth=5, learning_rate=0.1)\n",
    "    classificator = RandomForestClassifier(random_state=random_state, n_estimators = 1000, max_depth = 5)\n",
    "    # classificator = RotationForestClassifier(n_estimators=1000, random_state=random_state)\n",
    "    \n",
    "    top_gen = TopologicalFeatureGenerator(\n",
    "                        embedding_dimension = 30,\n",
    "                        embedding_time_delay = 2,\n",
    "                        stride = 2,\n",
    "                        n_components = 3,\n",
    "                        representatives= X_train[first_appear], \n",
    "                        search_opt_embd = True,\n",
    "                        random_state = random_state)\n",
    "    \n",
    "    \n",
    "    combined_features = FeatureUnion([(\"top_gen\", top_gen), (\"catch\", Catch22(replace_nans=True))])\n",
    "\n",
    "    pipe_catch_topgen = make_pipeline(\n",
    "        combined_features,\n",
    "        classificator\n",
    "    )\n",
    "    \n",
    "    pipe_catch = make_pipeline(\n",
    "        Catch22(replace_nans=True),\n",
    "        classificator\n",
    "    )\n",
    "    \n",
    "    pipe_top = make_pipeline(\n",
    "        top_gen,\n",
    "        classificator\n",
    "    )\n",
    "    \n",
    "    X_train_new = np.delete(X_train,first_appear, axis = 0)\n",
    "    y_train_new = np.delete(y_train,first_appear, axis = 0).astype(int)\n",
    "    \n",
    "    pipe_catch.fit(X_train_new,y_train_new)\n",
    "    catch_res.append(accuracy_score(pipe_catch.predict(X_test), y_test.astype(int)))\n",
    "    \n",
    "    pipe_top.fit(X_train_new,y_train_new)\n",
    "    top_res.append(accuracy_score(pipe_top.predict(X_test), y_test.astype(int)))\n",
    "    \n",
    "    pipe_catch_topgen.fit(X_train_new,y_train_new)\n",
    "    catch_top_res.append(accuracy_score(pipe_catch_topgen.predict(X_test), y_test.astype(int)))\n",
    "    \n",
    "print(f\"Dataset: {dataset}\")\n",
    "print(f\"CATCH22 results: {np.round(catch_res, 3)} | {np.mean(catch_res):.3f} +- {np.std(catch_res):.3f}\")\n",
    "print(f\"TopGen results: {np.round(top_res, 3)} | {np.mean(top_res):.3f} +- {np.std(top_res):.3f}\")\n",
    "print(f\"CATCH22+TopGen results: {np.round(catch_top_res, 3)} | {np.mean(catch_top_res):.3f} +- {np.std(catch_top_res):.3f}\")"
   ]
  },
  {
   "cell_type": "code",
   "execution_count": null,
   "id": "e56e18fb-2e7d-442b-b1d1-220a42012d4d",
   "metadata": {},
   "outputs": [],
   "source": [
    "CATCH22 results: [0.824 0.77  0.812 0.727 0.794] | 0.785 +- 0.034\n",
    "TopGen results: [0.667 0.648 0.648 0.685 0.679] | 0.665 +- 0.015\n",
    "CATCH22+TopGen results: [0.752 0.752 0.776 0.727 0.782] | 0.758 +- 0.020"
   ]
  },
  {
   "cell_type": "code",
   "execution_count": 10,
   "id": "0cf2671c-cccb-47d5-ba0a-87ecb121390e",
   "metadata": {},
   "outputs": [
    {
     "name": "stdout",
     "output_type": "stream",
     "text": [
      "Optimal time delay based on mutual information: 1\n",
      "Optimal embedding dimension based on false nearest neighbors: 15\n"
     ]
    },
    {
     "name": "stderr",
     "output_type": "stream",
     "text": [
      "100%|█████████████████████████████████████████████████████████████████████████████████████████████████████████████████████████████████████████████████████████████████████████| 5/5 [00:21<00:00,  4.32s/it]\n",
      "100%|█████████████████████████████████████████████████████████████████████████████████████████████████████████████████████████████████████████████████████████████████████████| 5/5 [00:10<00:00,  2.07s/it]\n",
      "100%|█████████████████████████████████████████████████████████████████████████████████████████████████████████████████████████████████████████████████████████████████████████| 5/5 [00:22<00:00,  4.46s/it]\n",
      "100%|█████████████████████████████████████████████████████████████████████████████████████████████████████████████████████████████████████████████████████████████████████████| 5/5 [00:09<00:00,  1.97s/it]\n"
     ]
    },
    {
     "name": "stdout",
     "output_type": "stream",
     "text": [
      "Dataset: Earthquakes\n",
      "CATCH22 results: 0.7410071942446043\n",
      "TopGen results: 0.7553956834532374\n",
      "CATCH22+TopGen results: 0.7482014388489209\n"
     ]
    }
   ],
   "source": [
    "dataset = \"Earthquakes\"\n",
    "\n",
    "X_train, y_train = load_classification(dataset, split = \"Train\")\n",
    "\n",
    "X_test, y_test = load_classification(dataset, split = \"Test\")\n",
    "\n",
    "# get the index corresponding to the first pure noise time series\n",
    "first_idx = np.argmin(y_train)\n",
    "# get the index corresponding to the first noise + gravitational wave time series\n",
    "second_idx = np.argmax(y_train)\n",
    "\n",
    "\n",
    "\n",
    "# classificator = xgb.XGBClassifier(n_estimators=2000, max_depth=5, learning_rate=0.1)\n",
    "classificator = RandomForestClassifier(random_state=42, n_estimators = 1000)\n",
    "\n",
    "top_gen = TopologicalFeatureGenerator(\n",
    "                    embedding_dimension = 100,\n",
    "                    embedding_time_delay = 4,\n",
    "                    stride = 3,\n",
    "                    n_components = 10,\n",
    "                    representatives= X_train[[first_idx, second_idx]])\n",
    "\n",
    "\n",
    "combined_features = FeatureUnion([(\"top_gen\", top_gen), (\"catch\", Catch22(replace_nans=True))])\n",
    "\n",
    "pipe_catch_topgen = make_pipeline(\n",
    "    combined_features,\n",
    "    classificator\n",
    ")\n",
    "\n",
    "pipe_catch = make_pipeline(\n",
    "    Catch22(replace_nans=True),\n",
    "    classificator\n",
    ")\n",
    "\n",
    "pipe_top = make_pipeline(\n",
    "    top_gen,\n",
    "    classificator\n",
    ")\n",
    "\n",
    "X_train_new = np.delete(X_train,[first_idx, second_idx], axis = 0)\n",
    "y_train_new = np.delete(y_train,[first_idx, second_idx], axis = 0).astype(int)\n",
    "# The directory to write the results file to\n",
    "\n",
    "pipe_catch.fit(X_train_new,y_train_new-1)\n",
    "catch_res = accuracy_score(pipe_catch.predict(X_test), y_test.astype(int)-1)\n",
    "\n",
    "pipe_top.fit(X_train_new,y_train_new-1)\n",
    "top_res = accuracy_score(pipe_top.predict(X_test), y_test.astype(int)-1)\n",
    "\n",
    "pipe_catch_topgen.fit(X_train_new,y_train_new-1)\n",
    "catch_top_res = accuracy_score(pipe_catch_topgen.predict(X_test), y_test.astype(int)-1)\n",
    "\n",
    "print(f\"Dataset: {dataset}\")\n",
    "print(f\"CATCH22 results: {catch_res}\")\n",
    "print(f\"TopGen results: {top_res}\")\n",
    "print(f\"CATCH22+TopGen results: {catch_top_res}\")"
   ]
  },
  {
   "cell_type": "code",
   "execution_count": 7,
   "id": "50ec9ea0-71ce-4657-995b-154a45b5edcb",
   "metadata": {},
   "outputs": [
    {
     "name": "stdout",
     "output_type": "stream",
     "text": [
      "Optimal time delay based on mutual information: 3\n",
      "Optimal embedding dimension based on false nearest neighbors: 5\n"
     ]
    },
    {
     "name": "stderr",
     "output_type": "stream",
     "text": [
      "100%|█████████████████████████████████████████████████████████████████████████████████████████████████████████████████████████████████████████████████████████████████████████| 5/5 [03:09<00:00, 37.88s/it]\n",
      "100%|█████████████████████████████████████████████████████████████████████████████████████████████████████████████████████████████████████████████████████████████████████████| 5/5 [01:05<00:00, 13.13s/it]\n",
      "100%|█████████████████████████████████████████████████████████████████████████████████████████████████████████████████████████████████████████████████████████████████████████| 5/5 [02:46<00:00, 33.25s/it]\n",
      "100%|█████████████████████████████████████████████████████████████████████████████████████████████████████████████████████████████████████████████████████████████████████████| 5/5 [01:01<00:00, 12.23s/it]\n"
     ]
    },
    {
     "name": "stdout",
     "output_type": "stream",
     "text": [
      "Dataset: FordA\n",
      "CATCH22 results: 0.9143939393939394\n",
      "TopGen results: 0.8424242424242424\n",
      "CATCH22+TopGen results: 0.918939393939394\n"
     ]
    }
   ],
   "source": [
    "dataset = \"FordA\"\n",
    "\n",
    "X_train, y_train = load_classification(dataset, split = \"Train\")\n",
    "\n",
    "X_test, y_test = load_classification(dataset, split = \"Test\")\n",
    "\n",
    "# get the index corresponding to the first pure noise time series\n",
    "first_idx = np.argmin(y_train)\n",
    "# get the index corresponding to the first noise + gravitational wave time series\n",
    "second_idx = np.argmax(y_train)\n",
    "\n",
    "\n",
    "\n",
    "# classificator = xgb.XGBClassifier(n_estimators=2000, max_depth=5, learning_rate=0.1)\n",
    "classificator = RandomForestClassifier(random_state=42, n_estimators = 1000)\n",
    "\n",
    "top_gen = TopologicalFeatureGenerator(\n",
    "                    embedding_dimension = 100,\n",
    "                    embedding_time_delay = 4,\n",
    "                    stride = 5,\n",
    "                    n_components = 7,\n",
    "                    representatives= X_train[[first_idx, second_idx]])\n",
    "\n",
    "\n",
    "combined_features = FeatureUnion([(\"top_gen\", top_gen), (\"catch\", Catch22(replace_nans=True))])\n",
    "\n",
    "pipe_catch_topgen = make_pipeline(\n",
    "    combined_features,\n",
    "    classificator\n",
    ")\n",
    "\n",
    "pipe_catch = make_pipeline(\n",
    "    Catch22(replace_nans=True),\n",
    "    classificator\n",
    ")\n",
    "\n",
    "pipe_top = make_pipeline(\n",
    "    top_gen,\n",
    "    classificator\n",
    ")\n",
    "\n",
    "X_train_new = np.delete(X_train,[first_idx, second_idx], axis = 0)\n",
    "y_train_new = np.delete(y_train,[first_idx, second_idx], axis = 0).astype(int)\n",
    "# The directory to write the results file to\n",
    "\n",
    "pipe_catch.fit(X_train_new,y_train_new-1)\n",
    "catch_res = accuracy_score(pipe_catch.predict(X_test), y_test.astype(int)-1)\n",
    "\n",
    "pipe_top.fit(X_train_new,y_train_new-1)\n",
    "top_res = accuracy_score(pipe_top.predict(X_test), y_test.astype(int)-1)\n",
    "\n",
    "pipe_catch_topgen.fit(X_train_new,y_train_new-1)\n",
    "catch_top_res = accuracy_score(pipe_catch_topgen.predict(X_test), y_test.astype(int)-1)\n",
    "\n",
    "print(f\"Dataset: {dataset}\")\n",
    "print(f\"CATCH22 results: {catch_res}\")\n",
    "print(f\"TopGen results: {top_res}\")\n",
    "print(f\"CATCH22+TopGen results: {catch_top_res}\")"
   ]
  },
  {
   "cell_type": "code",
   "execution_count": 8,
   "id": "ca55de5d-02fc-4165-ad41-8b6ea0bbb5ae",
   "metadata": {},
   "outputs": [
    {
     "name": "stdout",
     "output_type": "stream",
     "text": [
      "Optimal time delay based on mutual information: 4\n",
      "Optimal embedding dimension based on false nearest neighbors: 5\n"
     ]
    },
    {
     "name": "stderr",
     "output_type": "stream",
     "text": [
      "100%|█████████████████████████████████████████████████████████████████████████████████████████████████████████████████████████████████████████████████████████████████████████| 4/4 [00:20<00:00,  5.02s/it]\n",
      "100%|█████████████████████████████████████████████████████████████████████████████████████████████████████████████████████████████████████████████████████████████████████████| 4/4 [00:08<00:00,  2.02s/it]\n",
      "100%|█████████████████████████████████████████████████████████████████████████████████████████████████████████████████████████████████████████████████████████████████████████| 4/4 [00:14<00:00,  3.56s/it]\n",
      "100%|█████████████████████████████████████████████████████████████████████████████████████████████████████████████████████████████████████████████████████████████████████████| 4/4 [00:09<00:00,  2.28s/it]\n"
     ]
    },
    {
     "name": "stdout",
     "output_type": "stream",
     "text": [
      "Dataset: Strawberry\n",
      "CATCH22 results: 0.9378378378378378\n",
      "TopGen results: 0.8972972972972973\n",
      "CATCH22+TopGen results: 0.927027027027027\n"
     ]
    }
   ],
   "source": [
    "dataset = \"Strawberry\"\n",
    "\n",
    "X_train, y_train = load_classification(dataset, split = \"Train\")\n",
    "\n",
    "X_test, y_test = load_classification(dataset, split = \"Test\")\n",
    "\n",
    "# get the index corresponding to the first pure noise time series\n",
    "first_idx = np.argmin(y_train)\n",
    "# get the index corresponding to the first noise + gravitational wave time series\n",
    "second_idx = np.argmax(y_train)\n",
    "\n",
    "\n",
    "\n",
    "# classificator = xgb.XGBClassifier(n_estimators=2000, max_depth=5, learning_rate=0.1)\n",
    "classificator = RandomForestClassifier(random_state=42, n_estimators = 1000)\n",
    "\n",
    "top_gen = TopologicalFeatureGenerator(\n",
    "                    embedding_dimension = 50,\n",
    "                    embedding_time_delay = 4,\n",
    "                    stride = 5,\n",
    "                    n_components = 3,\n",
    "                    representatives= X_train[[first_idx, second_idx]])\n",
    "\n",
    "\n",
    "combined_features = FeatureUnion([(\"top_gen\", top_gen), (\"catch\", Catch22(replace_nans=True))])\n",
    "\n",
    "pipe_catch_topgen = make_pipeline(\n",
    "    combined_features,\n",
    "    classificator\n",
    ")\n",
    "\n",
    "pipe_catch = make_pipeline(\n",
    "    Catch22(replace_nans=True),\n",
    "    classificator\n",
    ")\n",
    "\n",
    "pipe_top = make_pipeline(\n",
    "    top_gen,\n",
    "    classificator\n",
    ")\n",
    "\n",
    "X_train_new = np.delete(X_train,[first_idx, second_idx], axis = 0)\n",
    "y_train_new = np.delete(y_train,[first_idx, second_idx], axis = 0).astype(int)\n",
    "# The directory to write the results file to\n",
    "\n",
    "pipe_catch.fit(X_train_new,y_train_new-1)\n",
    "catch_res = accuracy_score(pipe_catch.predict(X_test), y_test.astype(int)-1)\n",
    "\n",
    "pipe_top.fit(X_train_new,y_train_new-1)\n",
    "top_res = accuracy_score(pipe_top.predict(X_test), y_test.astype(int)-1)\n",
    "\n",
    "pipe_catch_topgen.fit(X_train_new,y_train_new-1)\n",
    "catch_top_res = accuracy_score(pipe_catch_topgen.predict(X_test), y_test.astype(int)-1)\n",
    "\n",
    "print(f\"Dataset: {dataset}\")\n",
    "print(f\"CATCH22 results: {catch_res}\")\n",
    "print(f\"TopGen results: {top_res}\")\n",
    "print(f\"CATCH22+TopGen results: {catch_top_res}\")"
   ]
  },
  {
   "cell_type": "code",
   "execution_count": 3,
   "id": "66f29282-1ce5-42cb-b2bc-0b3698927e10",
   "metadata": {},
   "outputs": [],
   "source": [
    "from Topological_classifier import TopologicalFeatureGenerator\n",
    "from sklearn.pipeline import make_pipeline\n",
    "from sklearn.pipeline import FeatureUnion, Pipeline\n",
    "from sklearn.ensemble import RandomForestClassifier\n",
    "from sklearn.metrics import accuracy_score\n",
    "import xgboost as xgb\n",
    "from aeon.transformations.collection.feature_based import Catch22\n",
    "from tsml_eval.experiments import run_classification_experiment"
   ]
  },
  {
   "cell_type": "markdown",
   "id": "267ff50d-1f8f-4d3a-af31-7c1b77d4eff1",
   "metadata": {},
   "source": [
    "найти причину перееодических нанов"
   ]
  },
  {
   "cell_type": "markdown",
   "id": "bf023bb3-ab2d-434f-a071-4190af9b8e37",
   "metadata": {},
   "source": [
    "## Multilabel TSC"
   ]
  },
  {
   "cell_type": "code",
   "execution_count": 21,
   "id": "75995d2d-15e1-471f-8b2f-aab6b3525af7",
   "metadata": {},
   "outputs": [
    {
     "name": "stdout",
     "output_type": "stream",
     "text": [
      "Optimal time delay based on mutual information: 4\n",
      "Optimal embedding dimension based on false nearest neighbors: 11\n"
     ]
    },
    {
     "name": "stderr",
     "output_type": "stream",
     "text": [
      "100%|█████████████████████████████████████████████████████████████████████████████████████████████████████████████████████████████████████████████████████████████████████████| 7/7 [01:35<00:00, 13.58s/it]\n",
      "100%|█████████████████████████████████████████████████████████████████████████████████████████████████████████████████████████████████████████████████████████████████████████| 7/7 [01:36<00:00, 13.84s/it]\n",
      "100%|█████████████████████████████████████████████████████████████████████████████████████████████████████████████████████████████████████████████████████████████████████████| 7/7 [01:27<00:00, 12.53s/it]\n",
      "100%|█████████████████████████████████████████████████████████████████████████████████████████████████████████████████████████████████████████████████████████████████████████| 7/7 [01:30<00:00, 12.94s/it]\n"
     ]
    },
    {
     "name": "stdout",
     "output_type": "stream",
     "text": [
      "Dataset: RefrigerationDevices\n",
      "CATCH22 results: 0.5093333333333333\n",
      "TopGen results: 0.5253333333333333\n",
      "CATCH22+TopGen results: 0.5626666666666666\n"
     ]
    }
   ],
   "source": [
    "dataset = \"RefrigerationDevices\"\n",
    "\n",
    "X_train, y_train = load_classification(dataset, split = \"Train\")\n",
    "\n",
    "X_test, y_test = load_classification(dataset, split = \"Test\")\n",
    "\n",
    "# get the indexes corresponding to the first appearence of all unique elements\n",
    "first_appear = [ np.where(y_train == i)[0][0] for i in np.unique(y_train)]\n",
    "\n",
    "\n",
    "\n",
    "# classificator = xgb.XGBClassifier(n_estimators=2000, max_depth=5, learning_rate=0.1)\n",
    "classificator = RandomForestClassifier(random_state=42, n_estimators = 1000)\n",
    "\n",
    "top_gen = TopologicalFeatureGenerator(\n",
    "                    embedding_dimension = 50,\n",
    "                    embedding_time_delay = 4,\n",
    "                    stride = 5,\n",
    "                    n_components = 3,\n",
    "                    representatives= X_train[first_appear])\n",
    "\n",
    "\n",
    "combined_features = FeatureUnion([(\"top_gen\", top_gen), (\"catch\", Catch22(replace_nans=True))])\n",
    "\n",
    "pipe_catch_topgen = make_pipeline(\n",
    "    combined_features,\n",
    "    classificator\n",
    ")\n",
    "\n",
    "pipe_catch = make_pipeline(\n",
    "    Catch22(replace_nans=True),\n",
    "    classificator\n",
    ")\n",
    "\n",
    "pipe_top = make_pipeline(\n",
    "    top_gen,\n",
    "    classificator\n",
    ")\n",
    "\n",
    "X_train_new = np.delete(X_train, first_appear, axis = 0)\n",
    "y_train_new = np.delete(y_train, first_appear, axis = 0).astype(int)\n",
    "# The directory to write the results file to\n",
    "\n",
    "pipe_catch.fit(X_train_new,y_train_new-1)\n",
    "catch_res = accuracy_score(pipe_catch.predict(X_test), y_test.astype(int)-1)\n",
    "\n",
    "pipe_top.fit(X_train_new,y_train_new-1)\n",
    "top_res = accuracy_score(pipe_top.predict(X_test), y_test.astype(int)-1)\n",
    "\n",
    "pipe_catch_topgen.fit(X_train_new,y_train_new-1)\n",
    "catch_top_res = accuracy_score(pipe_catch_topgen.predict(X_test), y_test.astype(int)-1)\n",
    "\n",
    "print(f\"Dataset: {dataset}\")\n",
    "print(f\"CATCH22 results: {catch_res}\")\n",
    "print(f\"TopGen results: {top_res}\")\n",
    "print(f\"CATCH22+TopGen results: {catch_top_res}\")"
   ]
  },
  {
   "cell_type": "code",
   "execution_count": 22,
   "id": "131469b2-0df6-4a96-83f2-1a56691575f6",
   "metadata": {},
   "outputs": [
    {
     "name": "stdout",
     "output_type": "stream",
     "text": [
      "Optimal time delay based on mutual information: 4\n",
      "Optimal embedding dimension based on false nearest neighbors: 3\n"
     ]
    },
    {
     "name": "stderr",
     "output_type": "stream",
     "text": [
      "100%|████████████████████████████████████████████████████████████████████████████████████████████████████████████████████████████████████████████████████████████████████████| 7/7 [12:20<00:00, 105.80s/it]\n",
      "100%|█████████████████████████████████████████████████████████████████████████████████████████████████████████████████████████████████████████████████████████████████████████| 7/7 [10:39<00:00, 91.37s/it]\n",
      "100%|██████████████████████████████████████████████████████████████████████████████████████████████████████████████████████████████████████████████████████████████████████| 7/7 [1:27:49<00:00, 752.84s/it]\n"
     ]
    },
    {
     "name": "stdout",
     "output_type": "stream",
     "text": [
      "Dataset: StarLightCurves\n",
      "CATCH22 results: 0.9698882952889752\n",
      "TopGen results: 0.9411121903836814\n",
      "CATCH22+TopGen results: 0.9717095677513355\n"
     ]
    }
   ],
   "source": [
    "dataset = \"StarLightCurves\"\n",
    "\n",
    "X_train, y_train = load_classification(dataset, split = \"Train\")\n",
    "\n",
    "X_test, y_test = load_classification(dataset, split = \"Test\")\n",
    "\n",
    "# get the indexes corresponding to the first appearence of all unique elements\n",
    "first_appear = [ np.where(y_train == i)[0][0] for i in np.unique(y_train)]\n",
    "\n",
    "\n",
    "\n",
    "# classificator = xgb.XGBClassifier(n_estimators=2000, max_depth=5, learning_rate=0.1)\n",
    "classificator = RandomForestClassifier(random_state=42, n_estimators = 1000)\n",
    "\n",
    "top_gen = TopologicalFeatureGenerator(\n",
    "                    embedding_dimension = 50,\n",
    "                    embedding_time_delay = 4,\n",
    "                    stride = 5,\n",
    "                    n_components = 3,\n",
    "                    representatives= X_train[first_appear])\n",
    "\n",
    "\n",
    "combined_features = FeatureUnion([(\"top_gen\", top_gen), (\"catch\", Catch22(replace_nans=True))])\n",
    "\n",
    "pipe_catch_topgen = make_pipeline(\n",
    "    combined_features,\n",
    "    classificator\n",
    ")\n",
    "\n",
    "pipe_catch = make_pipeline(\n",
    "    Catch22(replace_nans=True),\n",
    "    classificator\n",
    ")\n",
    "\n",
    "pipe_top = make_pipeline(\n",
    "    top_gen,\n",
    "    classificator\n",
    ")\n",
    "\n",
    "X_train_new = np.delete(X_train, first_appear, axis = 0)\n",
    "y_train_new = np.delete(y_train, first_appear, axis = 0).astype(int)\n",
    "# The directory to write the results file to\n",
    "\n",
    "pipe_catch.fit(X_train_new,y_train_new-1)\n",
    "catch_res = accuracy_score(pipe_catch.predict(X_test), y_test.astype(int)-1)\n",
    "\n",
    "pipe_top.fit(X_train_new,y_train_new-1)\n",
    "top_res = accuracy_score(pipe_top.predict(X_test), y_test.astype(int)-1)\n",
    "\n",
    "pipe_catch_topgen.fit(X_train_new,y_train_new-1)\n",
    "catch_top_res = accuracy_score(pipe_catch_topgen.predict(X_test), y_test.astype(int)-1)\n",
    "\n",
    "print(f\"Dataset: {dataset}\")\n",
    "print(f\"CATCH22 results: {catch_res}\")\n",
    "print(f\"TopGen results: {top_res}\")\n",
    "print(f\"CATCH22+TopGen results: {catch_top_res}\")"
   ]
  },
  {
   "cell_type": "markdown",
   "id": "dbc7d6b9-5b10-4b3f-af56-b7c672d3120c",
   "metadata": {},
   "source": [
    "##  Использование rotation forest"
   ]
  },
  {
   "cell_type": "code",
   "execution_count": null,
   "id": "5bec94cb-b8fa-48ab-aedc-c93898f84da4",
   "metadata": {},
   "outputs": [],
   "source": [
    "from Topological_classifier import TopologicalFeatureGenerator\n",
    "from sklearn.pipeline import make_pipeline\n",
    "from sklearn.pipeline import FeatureUnion, Pipeline\n",
    "from sklearn.ensemble import RandomForestClassifier\n",
    "from sklearn.metrics import accuracy_score\n",
    "import xgboost as xgb\n",
    "from aeon.transformations.collection.feature_based import Catch22\n",
    "from tsml_eval.experiments import run_classification_experiment\n",
    "from aeon.transformations.collection.feature_based import TSFreshFeatureExtractor\n",
    "from aeon.classification.sklearn import RotationForestClassifier\n",
    "from aeon.datasets import load_classification\n",
    "from sklearn.model_selection import train_test_split\n",
    "from tqdm import tqdm\n",
    "\n",
    "f = open('out.txt', 'w')\n",
    "\n",
    "datasets = [\"WormsTwoClass\", \"Computers\", \"Earthquakes\", \"FordA\", \"Strawberry\", \"RefrigerationDevices\", \"StarLightCurves\", \"Worms\"]\n",
    "random_states = [42, 444, 31, 20, 13]\n",
    "# datasets = [\"Computers\"]\n",
    "\n",
    "for dataset in datasets:\n",
    "    catch_res = []\n",
    "    top_res = []\n",
    "    fresh_res = []\n",
    "    catch_top_res = []\n",
    "    fresh_top_res = []\n",
    "\n",
    "    print(\"------------------------------------------------------\", file = f)\n",
    "    print(f\"Dataset: {dataset}\", file = f)\n",
    "    \n",
    "    for random_state in tqdm(random_states):\n",
    "        try:\n",
    "            X, y = load_classification(dataset)\n",
    "\n",
    "            X_train, X_test, y_train, y_test = train_test_split(X, y, test_size=0.33, random_state=random_state)\n",
    "            \n",
    "            # get the indexes corresponding to the first appearence of all unique elements\n",
    "            first_appear = [ np.where(y_train == i)[0][0] for i in np.unique(y_train)]\n",
    "            \n",
    "            \n",
    "            \n",
    "            # classificator = xgb.XGBClassifier(n_estimators=2000, max_depth=5, learning_rate=0.1)\n",
    "            classificator = RandomForestClassifier(random_state=random_state, n_estimators = 1000, max_depth = 5)\n",
    "            # classificator = RotationForestClassifier(n_estimators=1000, random_state=42)\n",
    "            \n",
    "            top_gen = TopologicalFeatureGenerator(\n",
    "                                embedding_dimension = 50,\n",
    "                                embedding_time_delay = 5,\n",
    "                                stride = 5,\n",
    "                                n_components = 10,\n",
    "                                search_opt_embd = True,\n",
    "                                representatives = X_train[first_appear],\n",
    "                                random_state = random_state,\n",
    "                                verbose = False)\n",
    "            \n",
    "            ts_comp = TSFreshFeatureExtractor(\n",
    "                # default_fc_parameters=\"comprehensive\",\n",
    "                disable_progressbar=True\n",
    "            ) \n",
    "            \n",
    "            \n",
    "            combined_features = FeatureUnion([(\"top_gen\", top_gen), (\"catch\", Catch22(replace_nans=True))])\n",
    "            combined_features_2 = FeatureUnion([(\"top_gen\", top_gen), (\"catch\", ts_comp)])\n",
    "            \n",
    "            \n",
    "            pipe_catch_topgen = make_pipeline(\n",
    "                combined_features,\n",
    "                classificator\n",
    "            )\n",
    "            \n",
    "            pipe_fresh_topgen = make_pipeline(\n",
    "                combined_features_2,\n",
    "                classificator\n",
    "            )\n",
    "            \n",
    "            pipe_catch = make_pipeline(\n",
    "                Catch22(replace_nans=True,),\n",
    "                classificator\n",
    "            )\n",
    "            \n",
    "            pipe_top = make_pipeline(\n",
    "                top_gen,\n",
    "                classificator\n",
    "            )\n",
    "            \n",
    "            pipe_fresh = make_pipeline(\n",
    "                ts_comp,\n",
    "                classificator\n",
    "            )\n",
    "            \n",
    "            X_train_new = np.delete(X_train, first_appear, axis = 0)\n",
    "            y_train_new = np.delete(y_train, first_appear, axis = 0).astype(int)\n",
    "            # The directory to write the results file to\n",
    "            \n",
    "            pipe_catch.fit(X_train_new,y_train_new-1)\n",
    "            catch_res.append(accuracy_score(pipe_catch.predict(X_test), y_test.astype(int)-1))\n",
    "            \n",
    "            pipe_top.fit(X_train_new,y_train_new-1)\n",
    "            top_res.append(accuracy_score(pipe_top.predict(X_test), y_test.astype(int)-1))\n",
    "            \n",
    "            pipe_fresh.fit(X_train_new,y_train_new-1)\n",
    "            fresh_res.append(accuracy_score(pipe_fresh.predict(X_test), y_test.astype(int)-1))\n",
    "            \n",
    "            pipe_catch_topgen.fit(X_train_new,y_train_new-1)\n",
    "            catch_top_res.append(accuracy_score(pipe_catch_topgen.predict(X_test), y_test.astype(int)-1))\n",
    "            \n",
    "            pipe_fresh_topgen.fit(X_train_new,y_train_new-1)\n",
    "            fresh_top_res.append(accuracy_score(pipe_fresh_topgen.predict(X_test), y_test.astype(int)-1))\n",
    "        except Exception as inst:\n",
    "            print(inst)\n",
    "            \n",
    "    print(f\"CATCH22 results: {np.round(catch_res, 3)} | {np.mean(catch_res):.3f} +- {np.std(catch_res):.3f}\", file = f)\n",
    "    print(f\"TopGen results: {np.round(top_res, 3)} | {np.mean(top_res):.3f} +- {np.std(top_res):.3f}\", file = f)\n",
    "    print(f\"FreshPrice results: {np.round(fresh_res, 3)} | {np.mean(fresh_res):.3f} +- {np.std(fresh_res):.3f}\", file = f)\n",
    "    print(f\"CATCH22+TopGen results: {np.round(catch_top_res, 3)} | {np.mean(catch_top_res):.3f} +- {np.std(catch_top_res):.3f}\", file = f)\n",
    "    print(f\"Fresh+TopGen results: {np.round(fresh_top_res, 3)} | {np.mean(fresh_top_res):.3f} +- {np.std(fresh_top_res):.3f}\", file = f)\n",
    "f.close()"
   ]
  },
  {
   "cell_type": "markdown",
   "id": "6c28bf54-756b-4268-b372-0c8d2c111d09",
   "metadata": {},
   "source": [
    "Dataset: Worms\n",
    "\n",
    "CATCH22 results: 0.7662337662337663\n",
    "\n",
    "TopGen results: 0.7012987012987013\n",
    "\n",
    "FreshPrice results: 0.7792207792207793\n",
    "\n",
    "CATCH22+TopGen results: 0.7792207792207793"
   ]
  },
  {
   "cell_type": "markdown",
   "id": "d57b4782-981c-45b2-8e8d-2884b5fd4c6a",
   "metadata": {},
   "source": [
    "## Let's add Optuna Hyperparameter optimizator for TopGen"
   ]
  },
  {
   "cell_type": "code",
   "execution_count": 17,
   "id": "9e4c93b7-9177-4e4f-87e5-e94f7585be99",
   "metadata": {
    "execution": {
     "iopub.execute_input": "2024-03-25T12:44:56.231242Z",
     "iopub.status.busy": "2024-03-25T12:44:56.230718Z",
     "iopub.status.idle": "2024-03-25T13:15:12.895008Z",
     "shell.execute_reply": "2024-03-25T13:15:12.893889Z",
     "shell.execute_reply.started": "2024-03-25T12:44:56.231209Z"
    }
   },
   "outputs": [
    {
     "name": "stderr",
     "output_type": "stream",
     "text": [
      "[I 2024-03-25 15:44:56,359] A new study created in memory with name: no-name-f5158802-11e1-454c-9e85-89d3dce5e432\n"
     ]
    },
    {
     "name": "stdout",
     "output_type": "stream",
     "text": [
      "The result shape of cloud: (6, 5)\n",
      "The result shape of cloud: (6, 5)\n",
      "The result shape of cloud: (377, 3)\n"
     ]
    },
    {
     "name": "stderr",
     "output_type": "stream",
     "text": [
      "100%|█████████████████████████████████████████████████████████████████████████████████████████████████████████████████████████████████████████████████████████████████████████| 5/5 [02:30<00:00, 30.07s/it]\n",
      "100%|█████████████████████████████████████████████████████████████████████████████████████████████████████████████████████████████████████████████████████████████████████████| 5/5 [02:33<00:00, 30.63s/it]\n"
     ]
    },
    {
     "name": "stdout",
     "output_type": "stream",
     "text": [
      "The result shape of cloud: (377, 3)\n"
     ]
    },
    {
     "name": "stderr",
     "output_type": "stream",
     "text": [
      "100%|█████████████████████████████████████████████████████████████████████████████████████████████████████████████████████████████████████████████████████████████████████████| 5/5 [02:32<00:00, 30.46s/it]\n",
      "100%|█████████████████████████████████████████████████████████████████████████████████████████████████████████████████████████████████████████████████████████████████████████| 5/5 [02:31<00:00, 30.38s/it]\n",
      "[I 2024-03-25 15:55:09,578] Trial 0 finished with value: 0.815625 and parameters: {'TopGen__embedding_dimension': 28, 'TopGen__embedding_time_delay': 5, 'TopGen__stride': 1, 'TopGen__n_components': 3}. Best is trial 0 with value: 0.815625.\n"
     ]
    },
    {
     "name": "stdout",
     "output_type": "stream",
     "text": [
      "The result shape of cloud: (6, 5)\n",
      "The result shape of cloud: (228, 3)\n"
     ]
    },
    {
     "name": "stderr",
     "output_type": "stream",
     "text": [
      "100%|█████████████████████████████████████████████████████████████████████████████████████████████████████████████████████████████████████████████████████████████████████████| 5/5 [01:00<00:00, 12.10s/it]\n",
      "100%|█████████████████████████████████████████████████████████████████████████████████████████████████████████████████████████████████████████████████████████████████████████| 5/5 [01:00<00:00, 12.16s/it]\n"
     ]
    },
    {
     "name": "stdout",
     "output_type": "stream",
     "text": [
      "The result shape of cloud: (228, 3)\n"
     ]
    },
    {
     "name": "stderr",
     "output_type": "stream",
     "text": [
      "100%|█████████████████████████████████████████████████████████████████████████████████████████████████████████████████████████████████████████████████████████████████████████| 5/5 [01:00<00:00, 12.06s/it]\n",
      "100%|█████████████████████████████████████████████████████████████████████████████████████████████████████████████████████████████████████████████████████████████████████████| 5/5 [01:01<00:00, 12.30s/it]\n",
      "[I 2024-03-25 15:59:18,044] Trial 1 finished with value: 0.825 and parameters: {'TopGen__embedding_dimension': 29, 'TopGen__embedding_time_delay': 2, 'TopGen__stride': 2, 'TopGen__n_components': 3}. Best is trial 1 with value: 0.825.\n"
     ]
    },
    {
     "name": "stdout",
     "output_type": "stream",
     "text": [
      "The result shape of cloud: (6, 5)\n",
      "The result shape of cloud: (241, 5)\n"
     ]
    },
    {
     "name": "stderr",
     "output_type": "stream",
     "text": [
      "100%|█████████████████████████████████████████████████████████████████████████████████████████████████████████████████████████████████████████████████████████████████████████| 5/5 [01:20<00:00, 16.16s/it]\n",
      "100%|█████████████████████████████████████████████████████████████████████████████████████████████████████████████████████████████████████████████████████████████████████████| 5/5 [01:25<00:00, 17.10s/it]\n"
     ]
    },
    {
     "name": "stdout",
     "output_type": "stream",
     "text": [
      "The result shape of cloud: (241, 5)\n"
     ]
    },
    {
     "name": "stderr",
     "output_type": "stream",
     "text": [
      "100%|█████████████████████████████████████████████████████████████████████████████████████████████████████████████████████████████████████████████████████████████████████████| 5/5 [01:23<00:00, 16.72s/it]\n",
      "100%|█████████████████████████████████████████████████████████████████████████████████████████████████████████████████████████████████████████████████████████████████████████| 5/5 [01:22<00:00, 16.46s/it]\n",
      "[I 2024-03-25 16:04:55,477] Trial 2 finished with value: 0.815625 and parameters: {'TopGen__embedding_dimension': 16, 'TopGen__embedding_time_delay': 2, 'TopGen__stride': 2, 'TopGen__n_components': 5}. Best is trial 1 with value: 0.825.\n"
     ]
    },
    {
     "name": "stdout",
     "output_type": "stream",
     "text": [
      "The result shape of cloud: (6, 5)\n",
      "The result shape of cloud: (227, 4)\n"
     ]
    },
    {
     "name": "stderr",
     "output_type": "stream",
     "text": [
      "100%|█████████████████████████████████████████████████████████████████████████████████████████████████████████████████████████████████████████████████████████████████████████| 5/5 [01:02<00:00, 12.50s/it]\n",
      "100%|█████████████████████████████████████████████████████████████████████████████████████████████████████████████████████████████████████████████████████████████████████████| 5/5 [01:02<00:00, 12.44s/it]\n"
     ]
    },
    {
     "name": "stdout",
     "output_type": "stream",
     "text": [
      "The result shape of cloud: (227, 4)\n"
     ]
    },
    {
     "name": "stderr",
     "output_type": "stream",
     "text": [
      "100%|█████████████████████████████████████████████████████████████████████████████████████████████████████████████████████████████████████████████████████████████████████████| 5/5 [01:04<00:00, 12.84s/it]\n",
      "100%|█████████████████████████████████████████████████████████████████████████████████████████████████████████████████████████████████████████████████████████████████████████| 5/5 [01:02<00:00, 12.53s/it]\n",
      "[I 2024-03-25 16:09:12,464] Trial 3 finished with value: 0.8218749999999999 and parameters: {'TopGen__embedding_dimension': 30, 'TopGen__embedding_time_delay': 2, 'TopGen__stride': 2, 'TopGen__n_components': 4}. Best is trial 1 with value: 0.825.\n"
     ]
    },
    {
     "name": "stdout",
     "output_type": "stream",
     "text": [
      "The result shape of cloud: (6, 5)\n",
      "The result shape of cloud: (99, 5)\n"
     ]
    },
    {
     "name": "stderr",
     "output_type": "stream",
     "text": [
      "100%|█████████████████████████████████████████████████████████████████████████████████████████████████████████████████████████████████████████████████████████████████████████| 5/5 [00:17<00:00,  3.48s/it]\n",
      "100%|█████████████████████████████████████████████████████████████████████████████████████████████████████████████████████████████████████████████████████████████████████████| 5/5 [00:17<00:00,  3.45s/it]\n"
     ]
    },
    {
     "name": "stdout",
     "output_type": "stream",
     "text": [
      "The result shape of cloud: (99, 5)\n"
     ]
    },
    {
     "name": "stderr",
     "output_type": "stream",
     "text": [
      "100%|█████████████████████████████████████████████████████████████████████████████████████████████████████████████████████████████████████████████████████████████████████████| 5/5 [00:17<00:00,  3.50s/it]\n",
      "100%|█████████████████████████████████████████████████████████████████████████████████████████████████████████████████████████████████████████████████████████████████████████| 5/5 [00:17<00:00,  3.48s/it]\n",
      "[I 2024-03-25 16:10:27,574] Trial 4 finished with value: 0.809375 and parameters: {'TopGen__embedding_dimension': 44, 'TopGen__embedding_time_delay': 5, 'TopGen__stride': 3, 'TopGen__n_components': 5}. Best is trial 1 with value: 0.825.\n"
     ]
    },
    {
     "name": "stdout",
     "output_type": "stream",
     "text": [
      "The result shape of cloud: (6, 5)\n",
      "The result shape of cloud: (76, 3)\n"
     ]
    },
    {
     "name": "stderr",
     "output_type": "stream",
     "text": [
      "100%|█████████████████████████████████████████████████████████████████████████████████████████████████████████████████████████████████████████████████████████████████████████| 5/5 [00:12<00:00,  2.45s/it]\n",
      "100%|█████████████████████████████████████████████████████████████████████████████████████████████████████████████████████████████████████████████████████████████████████████| 5/5 [00:12<00:00,  2.50s/it]\n"
     ]
    },
    {
     "name": "stdout",
     "output_type": "stream",
     "text": [
      "The result shape of cloud: (76, 3)\n"
     ]
    },
    {
     "name": "stderr",
     "output_type": "stream",
     "text": [
      "100%|█████████████████████████████████████████████████████████████████████████████████████████████████████████████████████████████████████████████████████████████████████████| 5/5 [00:12<00:00,  2.47s/it]\n",
      "100%|█████████████████████████████████████████████████████████████████████████████████████████████████████████████████████████████████████████████████████████████████████████| 5/5 [00:12<00:00,  2.41s/it]\n",
      "[I 2024-03-25 16:11:22,057] Trial 5 finished with value: 0.81875 and parameters: {'TopGen__embedding_dimension': 28, 'TopGen__embedding_time_delay': 5, 'TopGen__stride': 5, 'TopGen__n_components': 3}. Best is trial 1 with value: 0.825.\n"
     ]
    },
    {
     "name": "stdout",
     "output_type": "stream",
     "text": [
      "The result shape of cloud: (6, 5)\n",
      "The result shape of cloud: (76, 4)\n"
     ]
    },
    {
     "name": "stderr",
     "output_type": "stream",
     "text": [
      "100%|█████████████████████████████████████████████████████████████████████████████████████████████████████████████████████████████████████████████████████████████████████████| 5/5 [00:12<00:00,  2.53s/it]\n",
      "100%|█████████████████████████████████████████████████████████████████████████████████████████████████████████████████████████████████████████████████████████████████████████| 5/5 [00:12<00:00,  2.55s/it]\n"
     ]
    },
    {
     "name": "stdout",
     "output_type": "stream",
     "text": [
      "The result shape of cloud: (76, 4)\n"
     ]
    },
    {
     "name": "stderr",
     "output_type": "stream",
     "text": [
      "100%|█████████████████████████████████████████████████████████████████████████████████████████████████████████████████████████████████████████████████████████████████████████| 5/5 [00:12<00:00,  2.52s/it]\n",
      "100%|█████████████████████████████████████████████████████████████████████████████████████████████████████████████████████████████████████████████████████████████████████████| 5/5 [00:12<00:00,  2.51s/it]\n",
      "[I 2024-03-25 16:12:17,892] Trial 6 finished with value: 0.8218749999999999 and parameters: {'TopGen__embedding_dimension': 28, 'TopGen__embedding_time_delay': 5, 'TopGen__stride': 5, 'TopGen__n_components': 4}. Best is trial 1 with value: 0.825.\n"
     ]
    },
    {
     "name": "stdout",
     "output_type": "stream",
     "text": [
      "The result shape of cloud: (6, 5)\n",
      "The result shape of cloud: (155, 4)\n"
     ]
    },
    {
     "name": "stderr",
     "output_type": "stream",
     "text": [
      "100%|█████████████████████████████████████████████████████████████████████████████████████████████████████████████████████████████████████████████████████████████████████████| 5/5 [00:41<00:00,  8.37s/it]\n",
      "100%|█████████████████████████████████████████████████████████████████████████████████████████████████████████████████████████████████████████████████████████████████████████| 5/5 [00:41<00:00,  8.21s/it]\n"
     ]
    },
    {
     "name": "stdout",
     "output_type": "stream",
     "text": [
      "The result shape of cloud: (155, 4)\n"
     ]
    },
    {
     "name": "stderr",
     "output_type": "stream",
     "text": [
      "100%|█████████████████████████████████████████████████████████████████████████████████████████████████████████████████████████████████████████████████████████████████████████| 5/5 [00:39<00:00,  7.99s/it]\n",
      "100%|█████████████████████████████████████████████████████████████████████████████████████████████████████████████████████████████████████████████████████████████████████████| 5/5 [00:39<00:00,  7.94s/it]\n",
      "[I 2024-03-25 16:15:05,718] Trial 7 finished with value: 0.809375 and parameters: {'TopGen__embedding_dimension': 13, 'TopGen__embedding_time_delay': 4, 'TopGen__stride': 3, 'TopGen__n_components': 4}. Best is trial 1 with value: 0.825.\n"
     ]
    },
    {
     "name": "stdout",
     "output_type": "stream",
     "text": [
      "The result shape of cloud: (6, 5)\n"
     ]
    },
    {
     "name": "stderr",
     "output_type": "stream",
     "text": [
      "100%|█████████████████████████████████████████████████████████████████████████████████████████████████████████████████████████████████████████████████████████████████████████| 5/5 [00:04<00:00,  1.09it/s]\n"
     ]
    },
    {
     "data": {
      "text/html": [
       "<style>#sk-container-id-2 {color: black;background-color: white;}#sk-container-id-2 pre{padding: 0;}#sk-container-id-2 div.sk-toggleable {background-color: white;}#sk-container-id-2 label.sk-toggleable__label {cursor: pointer;display: block;width: 100%;margin-bottom: 0;padding: 0.3em;box-sizing: border-box;text-align: center;}#sk-container-id-2 label.sk-toggleable__label-arrow:before {content: \"▸\";float: left;margin-right: 0.25em;color: #696969;}#sk-container-id-2 label.sk-toggleable__label-arrow:hover:before {color: black;}#sk-container-id-2 div.sk-estimator:hover label.sk-toggleable__label-arrow:before {color: black;}#sk-container-id-2 div.sk-toggleable__content {max-height: 0;max-width: 0;overflow: hidden;text-align: left;background-color: #f0f8ff;}#sk-container-id-2 div.sk-toggleable__content pre {margin: 0.2em;color: black;border-radius: 0.25em;background-color: #f0f8ff;}#sk-container-id-2 input.sk-toggleable__control:checked~div.sk-toggleable__content {max-height: 200px;max-width: 100%;overflow: auto;}#sk-container-id-2 input.sk-toggleable__control:checked~label.sk-toggleable__label-arrow:before {content: \"▾\";}#sk-container-id-2 div.sk-estimator input.sk-toggleable__control:checked~label.sk-toggleable__label {background-color: #d4ebff;}#sk-container-id-2 div.sk-label input.sk-toggleable__control:checked~label.sk-toggleable__label {background-color: #d4ebff;}#sk-container-id-2 input.sk-hidden--visually {border: 0;clip: rect(1px 1px 1px 1px);clip: rect(1px, 1px, 1px, 1px);height: 1px;margin: -1px;overflow: hidden;padding: 0;position: absolute;width: 1px;}#sk-container-id-2 div.sk-estimator {font-family: monospace;background-color: #f0f8ff;border: 1px dotted black;border-radius: 0.25em;box-sizing: border-box;margin-bottom: 0.5em;}#sk-container-id-2 div.sk-estimator:hover {background-color: #d4ebff;}#sk-container-id-2 div.sk-parallel-item::after {content: \"\";width: 100%;border-bottom: 1px solid gray;flex-grow: 1;}#sk-container-id-2 div.sk-label:hover label.sk-toggleable__label {background-color: #d4ebff;}#sk-container-id-2 div.sk-serial::before {content: \"\";position: absolute;border-left: 1px solid gray;box-sizing: border-box;top: 0;bottom: 0;left: 50%;z-index: 0;}#sk-container-id-2 div.sk-serial {display: flex;flex-direction: column;align-items: center;background-color: white;padding-right: 0.2em;padding-left: 0.2em;position: relative;}#sk-container-id-2 div.sk-item {position: relative;z-index: 1;}#sk-container-id-2 div.sk-parallel {display: flex;align-items: stretch;justify-content: center;background-color: white;position: relative;}#sk-container-id-2 div.sk-item::before, #sk-container-id-2 div.sk-parallel-item::before {content: \"\";position: absolute;border-left: 1px solid gray;box-sizing: border-box;top: 0;bottom: 0;left: 50%;z-index: -1;}#sk-container-id-2 div.sk-parallel-item {display: flex;flex-direction: column;z-index: 1;position: relative;background-color: white;}#sk-container-id-2 div.sk-parallel-item:first-child::after {align-self: flex-end;width: 50%;}#sk-container-id-2 div.sk-parallel-item:last-child::after {align-self: flex-start;width: 50%;}#sk-container-id-2 div.sk-parallel-item:only-child::after {width: 0;}#sk-container-id-2 div.sk-dashed-wrapped {border: 1px dashed gray;margin: 0 0.4em 0.5em 0.4em;box-sizing: border-box;padding-bottom: 0.4em;background-color: white;}#sk-container-id-2 div.sk-label label {font-family: monospace;font-weight: bold;display: inline-block;line-height: 1.2em;}#sk-container-id-2 div.sk-label-container {text-align: center;}#sk-container-id-2 div.sk-container {/* jupyter's `normalize.less` sets `[hidden] { display: none; }` but bootstrap.min.css set `[hidden] { display: none !important; }` so we also need the `!important` here to be able to override the default hidden behavior on the sphinx rendered scikit-learn.org. See: https://github.com/scikit-learn/scikit-learn/issues/21755 */display: inline-block !important;position: relative;}#sk-container-id-2 div.sk-text-repr-fallback {display: none;}</style><div id=\"sk-container-id-2\" class=\"sk-top-container\"><div class=\"sk-text-repr-fallback\"><pre>OptunaSearchCV(cv=2,\n",
       "               estimator=Pipeline(steps=[(&#x27;TopGen&#x27;,\n",
       "                                          TopologicalFeatureGenerator(embedding_dimension=100,\n",
       "                                                                      embedding_time_delay=5,\n",
       "                                                                      n_components=5,\n",
       "                                                                      representatives=array([[[ 1.9437326 , -0.35311462, -0.35311462, ..., -0.35311462,\n",
       "         -0.35311462, -0.35311462]],\n",
       "\n",
       "       [[-0.51800895, -0.51800895,  2.6542109 , ..., -0.51800895,\n",
       "          1.4658264 , -0.51800895]]]),\n",
       "                                                                      search_opt_embd=False,\n",
       "                                                                      str...\n",
       "               n_jobs=1,\n",
       "               param_distributions={&#x27;TopGen__embedding_dimension&#x27;: IntDistribution(high=50, log=False, low=9, step=1),\n",
       "                                    &#x27;TopGen__embedding_time_delay&#x27;: IntDistribution(high=5, log=False, low=1, step=1),\n",
       "                                    &#x27;TopGen__n_components&#x27;: IntDistribution(high=5, log=False, low=3, step=1),\n",
       "                                    &#x27;TopGen__stride&#x27;: IntDistribution(high=5, log=False, low=1, step=1)},\n",
       "               scoring=&#x27;accuracy&#x27;, timeout=1800)</pre><b>In a Jupyter environment, please rerun this cell to show the HTML representation or trust the notebook. <br />On GitHub, the HTML representation is unable to render, please try loading this page with nbviewer.org.</b></div><div class=\"sk-container\" hidden><div class=\"sk-item sk-dashed-wrapped\"><div class=\"sk-label-container\"><div class=\"sk-label sk-toggleable\"><input class=\"sk-toggleable__control sk-hidden--visually\" id=\"sk-estimator-id-5\" type=\"checkbox\" ><label for=\"sk-estimator-id-5\" class=\"sk-toggleable__label sk-toggleable__label-arrow\">OptunaSearchCV</label><div class=\"sk-toggleable__content\"><pre>OptunaSearchCV(cv=2,\n",
       "               estimator=Pipeline(steps=[(&#x27;TopGen&#x27;,\n",
       "                                          TopologicalFeatureGenerator(embedding_dimension=100,\n",
       "                                                                      embedding_time_delay=5,\n",
       "                                                                      n_components=5,\n",
       "                                                                      representatives=array([[[ 1.9437326 , -0.35311462, -0.35311462, ..., -0.35311462,\n",
       "         -0.35311462, -0.35311462]],\n",
       "\n",
       "       [[-0.51800895, -0.51800895,  2.6542109 , ..., -0.51800895,\n",
       "          1.4658264 , -0.51800895]]]),\n",
       "                                                                      search_opt_embd=False,\n",
       "                                                                      str...\n",
       "               n_jobs=1,\n",
       "               param_distributions={&#x27;TopGen__embedding_dimension&#x27;: IntDistribution(high=50, log=False, low=9, step=1),\n",
       "                                    &#x27;TopGen__embedding_time_delay&#x27;: IntDistribution(high=5, log=False, low=1, step=1),\n",
       "                                    &#x27;TopGen__n_components&#x27;: IntDistribution(high=5, log=False, low=3, step=1),\n",
       "                                    &#x27;TopGen__stride&#x27;: IntDistribution(high=5, log=False, low=1, step=1)},\n",
       "               scoring=&#x27;accuracy&#x27;, timeout=1800)</pre></div></div></div><div class=\"sk-parallel\"><div class=\"sk-parallel-item\"><div class=\"sk-item\"><div class=\"sk-label-container\"><div class=\"sk-label sk-toggleable\"><input class=\"sk-toggleable__control sk-hidden--visually\" id=\"sk-estimator-id-6\" type=\"checkbox\" ><label for=\"sk-estimator-id-6\" class=\"sk-toggleable__label sk-toggleable__label-arrow\">estimator: Pipeline</label><div class=\"sk-toggleable__content\"><pre>Pipeline(steps=[(&#x27;TopGen&#x27;,\n",
       "                 TopologicalFeatureGenerator(embedding_dimension=100,\n",
       "                                             embedding_time_delay=5,\n",
       "                                             n_components=5,\n",
       "                                             representatives=array([[[ 1.9437326 , -0.35311462, -0.35311462, ..., -0.35311462,\n",
       "         -0.35311462, -0.35311462]],\n",
       "\n",
       "       [[-0.51800895, -0.51800895,  2.6542109 , ..., -0.51800895,\n",
       "          1.4658264 , -0.51800895]]]),\n",
       "                                             search_opt_embd=False, stride=3)),\n",
       "                (&#x27;RotForest&#x27;,\n",
       "                 RandomForestClassifier(max_depth=5, n_estimators=1000,\n",
       "                                        random_state=13))])</pre></div></div></div><div class=\"sk-serial\"><div class=\"sk-item\"><div class=\"sk-serial\"><div class=\"sk-item\"><div class=\"sk-estimator sk-toggleable\"><input class=\"sk-toggleable__control sk-hidden--visually\" id=\"sk-estimator-id-7\" type=\"checkbox\" ><label for=\"sk-estimator-id-7\" class=\"sk-toggleable__label sk-toggleable__label-arrow\">TopologicalFeatureGenerator</label><div class=\"sk-toggleable__content\"><pre>TopologicalFeatureGenerator(embedding_dimension=100, embedding_time_delay=5,\n",
       "                            n_components=5,\n",
       "                            representatives=array([[[ 1.9437326 , -0.35311462, -0.35311462, ..., -0.35311462,\n",
       "         -0.35311462, -0.35311462]],\n",
       "\n",
       "       [[-0.51800895, -0.51800895,  2.6542109 , ..., -0.51800895,\n",
       "          1.4658264 , -0.51800895]]]),\n",
       "                            search_opt_embd=False, stride=3)</pre></div></div></div><div class=\"sk-item\"><div class=\"sk-estimator sk-toggleable\"><input class=\"sk-toggleable__control sk-hidden--visually\" id=\"sk-estimator-id-8\" type=\"checkbox\" ><label for=\"sk-estimator-id-8\" class=\"sk-toggleable__label sk-toggleable__label-arrow\">RandomForestClassifier</label><div class=\"sk-toggleable__content\"><pre>RandomForestClassifier(max_depth=5, n_estimators=1000, random_state=13)</pre></div></div></div></div></div></div></div></div></div></div></div></div>"
      ],
      "text/plain": [
       "OptunaSearchCV(cv=2,\n",
       "               estimator=Pipeline(steps=[('TopGen',\n",
       "                                          TopologicalFeatureGenerator(embedding_dimension=100,\n",
       "                                                                      embedding_time_delay=5,\n",
       "                                                                      n_components=5,\n",
       "                                                                      representatives=array([[[ 1.9437326 , -0.35311462, -0.35311462, ..., -0.35311462,\n",
       "         -0.35311462, -0.35311462]],\n",
       "\n",
       "       [[-0.51800895, -0.51800895,  2.6542109 , ..., -0.51800895,\n",
       "          1.4658264 , -0.51800895]]]),\n",
       "                                                                      search_opt_embd=False,\n",
       "                                                                      str...\n",
       "               n_jobs=1,\n",
       "               param_distributions={'TopGen__embedding_dimension': IntDistribution(high=50, log=False, low=9, step=1),\n",
       "                                    'TopGen__embedding_time_delay': IntDistribution(high=5, log=False, low=1, step=1),\n",
       "                                    'TopGen__n_components': IntDistribution(high=5, log=False, low=3, step=1),\n",
       "                                    'TopGen__stride': IntDistribution(high=5, log=False, low=1, step=1)},\n",
       "               scoring='accuracy', timeout=1800)"
      ]
     },
     "execution_count": 17,
     "metadata": {},
     "output_type": "execute_result"
    }
   ],
   "source": [
    "from aeon.transformations.collection.feature_based import TSFreshFeatureExtractor\n",
    "from aeon.classification.sklearn import RotationForestClassifier\n",
    "import optuna\n",
    "from sklearn.metrics import accuracy_score\n",
    "# dataset = \"Computers\"\n",
    "dataset = \"Earthquakes\"\n",
    "\n",
    "X_train, y_train = load_classification(dataset, split = \"Train\")\n",
    "\n",
    "X_test, y_test = load_classification(dataset, split = \"Test\")\n",
    "\n",
    "first_appear = [ np.where(y_train == i)[0][0] for i in np.unique(y_train)]\n",
    "\n",
    "X_train_new = np.delete(X_train, first_appear, axis = 0)\n",
    "y_train_new = np.delete(y_train, first_appear, axis = 0).astype(int)\n",
    "\n",
    "\n",
    "\n",
    "classificator = RandomForestClassifier(random_state=random_state, n_estimators = 1000, max_depth = 5)\n",
    "\n",
    "top_gen = TopologicalFeatureGenerator(\n",
    "                    embedding_dimension = 100,\n",
    "                    embedding_time_delay = 5,\n",
    "                    stride = 3,\n",
    "                    n_components = 5,\n",
    "                    search_opt_embd = False,\n",
    "                    representatives = X_train[first_appear],\n",
    "                    random_state = 42)\n",
    "\n",
    "pipe_top = Pipeline(\n",
    "        steps=[(\"TopGen\", top_gen),\n",
    "        (\"RotForest\", classificator)]\n",
    "    )\n",
    "\n",
    "\n",
    "param_dist = {\"TopGen__embedding_dimension\": optuna.distributions.IntDistribution(9, 50),\n",
    "              \"TopGen__embedding_time_delay\": optuna.distributions.IntDistribution(1, 5),\n",
    "              \"TopGen__stride\": optuna.distributions.IntDistribution(1, 5),\n",
    "              \"TopGen__n_components\": optuna.distributions.IntDistribution(3,5)}\n",
    "\n",
    "opt_top_gen = optuna.integration.OptunaSearchCV(pipe_top, param_dist,\n",
    "                                            cv = 2, n_trials = 10, scoring = \"accuracy\", timeout = 600*3)\n",
    "\n",
    "opt_top_gen.fit(X_train_new,y_train_new-1)"
   ]
  },
  {
   "cell_type": "code",
   "execution_count": 5,
   "id": "bdd64418-92f1-499f-b7c1-042ef2b94d3a",
   "metadata": {},
   "outputs": [
    {
     "data": {
      "text/plain": [
       "{'TopGen__embedding_dimension': 64,\n",
       " 'TopGen__embedding_time_delay': 3,\n",
       " 'TopGen__stride': 2,\n",
       " 'TopGen__n_components': 9}"
      ]
     },
     "execution_count": 5,
     "metadata": {},
     "output_type": "execute_result"
    }
   ],
   "source": [
    "opt_top_gen.best_params_"
   ]
  },
  {
   "cell_type": "markdown",
   "id": "fd6f2d0e-ad69-48ad-92e8-04e263c9afca",
   "metadata": {},
   "source": [
    "нужно уточнить какк сделть эксперименты более показателььными можетт поменять модель, у котторой важные фичи буду стабильнее. Таккже нужо сделать более серьезный пайплайн для этих же экспериментов."
   ]
  },
  {
   "cell_type": "markdown",
   "id": "5e2312e8-da91-495e-b81c-4c12986f6a29",
   "metadata": {},
   "source": []
  }
 ],
 "metadata": {
  "kernelspec": {
   "display_name": "Python 3 (ipykernel)",
   "language": "python",
   "name": "python3"
  },
  "language_info": {
   "codemirror_mode": {
    "name": "ipython",
    "version": 3
   },
   "file_extension": ".py",
   "mimetype": "text/x-python",
   "name": "python",
   "nbconvert_exporter": "python",
   "pygments_lexer": "ipython3",
   "version": "3.10.11"
  }
 },
 "nbformat": 4,
 "nbformat_minor": 5
}
