{
 "cells": [
  {
   "cell_type": "code",
   "execution_count": 1,
   "id": "af33e633-3495-4ec0-9fe0-99c7339c977b",
   "metadata": {},
   "outputs": [
    {
     "name": "stderr",
     "output_type": "stream",
     "text": [
      "/opt/conda/lib/python3.10/site-packages/torchvision/datapoints/__init__.py:12: UserWarning: The torchvision.datapoints and torchvision.transforms.v2 namespaces are still Beta. While we do not expect major breaking changes, some APIs may still change according to user feedback. Please submit any feedback you may have in this issue: https://github.com/pytorch/vision/issues/6753, and you can also check out https://github.com/pytorch/vision/issues/7319 to learn more about the APIs that we suspect might involve future changes. You can silence this warning by calling torchvision.disable_beta_transforms_warning().\n",
      "  warnings.warn(_BETA_TRANSFORMS_WARNING)\n",
      "/opt/conda/lib/python3.10/site-packages/torchvision/transforms/v2/__init__.py:54: UserWarning: The torchvision.datapoints and torchvision.transforms.v2 namespaces are still Beta. While we do not expect major breaking changes, some APIs may still change according to user feedback. Please submit any feedback you may have in this issue: https://github.com/pytorch/vision/issues/6753, and you can also check out https://github.com/pytorch/vision/issues/7319 to learn more about the APIs that we suspect might involve future changes. You can silence this warning by calling torchvision.disable_beta_transforms_warning().\n",
      "  warnings.warn(_BETA_TRANSFORMS_WARNING)\n"
     ]
    }
   ],
   "source": [
    "import numpy as np\n",
    "import pandas as pd\n",
    "\n",
    "import torch\n",
    "import torch.nn as nn\n",
    "\n",
    "from sklearn.model_selection import cross_validate\n",
    "from sklearn.preprocessing import StandardScaler\n",
    "from sklearn.linear_model import LogisticRegression\n",
    "from sklearn.model_selection import train_test_split\n",
    "from transformers import RobertaTokenizer, RobertaModel\n",
    "\n",
    "from scipy.spatial.distance import cdist\n",
    "# from skdim.id import MLE\n",
    "\n",
    "from tqdm import tqdm\n",
    "# plt.style.use('ggplot')"
   ]
  },
  {
   "cell_type": "code",
   "execution_count": 2,
   "id": "2d069c19-8049-45e7-bb7a-8e3949e25853",
   "metadata": {},
   "outputs": [],
   "source": [
    "## Creates pointclouds and vectorizations of persistence diagrams from the ModelNet dataset.\n",
    "import sys\n",
    "\n",
    "#import pandas as pd\n",
    "from copy import deepcopy\n",
    "import numpy as np\n",
    "import gudhi as gd\n",
    "import argparse\n",
    "import os\n",
    "import warnings\n",
    "from pathlib import Path\n",
    "import matplotlib.pyplot as plt\n",
    "from time import time\n",
    "from tqdm import tqdm\n",
    "# import trimesh as trm\n",
    "import glob\n",
    "\n",
    "\n",
    "import tensorflow as tf\n",
    "import tensorflow.keras as keras\n",
    "from utils import DenseRagged, PermopRagged\n",
    "from utils import sep_dist, measure_dist\n",
    "from gudhi.representations import DiagramSelector\n",
    "from sklearn.metrics import pairwise_distances\n",
    "\n",
    "from tensorflow.keras.regularizers import l1, l2\n",
    "\n",
    "import mtd\n",
    "import numpy as np\n",
    "from scipy.stats import entropy\n",
    "\n",
    "from tqdm import tqdm\n",
    "\n",
    "import matplotlib.pyplot as plt\n",
    "from matplotlib import gridspec\n",
    "\n",
    "\n",
    "import seaborn as sns\n",
    "\n",
    "# sns.set_theme(style=\"darkgrid\")\n",
    "FIG_SIZE = (18,5)\n",
    "sns.set_context(\"talk\")"
   ]
  },
  {
   "cell_type": "code",
   "execution_count": 3,
   "id": "a7afd872-769d-4c43-8667-526b9ec1d5f7",
   "metadata": {},
   "outputs": [
    {
     "name": "stderr",
     "output_type": "stream",
     "text": [
      "Some weights of RobertaModel were not initialized from the model checkpoint at roberta-base and are newly initialized: ['roberta.pooler.dense.bias', 'roberta.pooler.dense.weight']\n",
      "You should probably TRAIN this model on a down-stream task to be able to use it for predictions and inference.\n"
     ]
    }
   ],
   "source": [
    "### Insert here path to model files in your syste,\n",
    "model_path = 'Data/Models/roberta-base-cased' \n",
    "tokenizer_path = model_path\n",
    "\n",
    "### Loading the model\n",
    "tokenizer = RobertaTokenizer.from_pretrained(\"roberta-base\")\n",
    "model = RobertaModel.from_pretrained(\"roberta-base\")"
   ]
  },
  {
   "cell_type": "code",
   "execution_count": 4,
   "id": "2a16019a-968c-4e7b-823b-d7bef397be54",
   "metadata": {},
   "outputs": [],
   "source": [
    "'''\n",
    "Auxillary function. Clear text from linebreaks and odd whitespaces, because they seem to interfer with LM quite a lot.\n",
    "Replace with a more sophisticated cleaner, if needed.\n",
    "'''\n",
    "\n",
    "def preprocess_text(text):\n",
    "    return text.replace('\\n', ' ').replace('  ', ' ')"
   ]
  },
  {
   "cell_type": "code",
   "execution_count": 5,
   "id": "2e95960d-a95b-4df8-9281-75f51d13ffa8",
   "metadata": {},
   "outputs": [],
   "source": [
    "sample_text = [\"Speaking of festivities, there is one day in China that stands unrivaled - the first day of the Lunar New Year, commonly referred to as the Spring Festival. Even if you're generally uninterested in celebratory events, it's hard to resist the allure of the family reunion dinner, a quintessential aspect of the Spring Festival. Throughout the meal, family members raise their glasses to toast one another, expressing wishes for happiness, peace, health, and prosperity in the upcoming year.\",\n",
    "              \"I am in!\", \"blabalbla\"]"
   ]
  },
  {
   "cell_type": "code",
   "execution_count": 6,
   "id": "923333c2-da6c-4c84-86b8-9fe819a489bc",
   "metadata": {},
   "outputs": [],
   "source": [
    "inputs = tokenizer(list(map(preprocess_text, sample_text)), truncation=True, max_length=512, return_tensors=\"pt\", padding=True)\n",
    "with torch.no_grad():\n",
    "    outp = model(**inputs)"
   ]
  },
  {
   "cell_type": "code",
   "execution_count": 7,
   "id": "d1082274-593a-4445-a681-e7ff2c1461f6",
   "metadata": {},
   "outputs": [
    {
     "data": {
      "text/plain": [
       "3"
      ]
     },
     "execution_count": 7,
     "metadata": {},
     "output_type": "execute_result"
    }
   ],
   "source": [
    "len(tokenizer(sample_text)[\"input_ids\"])"
   ]
  },
  {
   "cell_type": "code",
   "execution_count": 8,
   "id": "dfbc9b6f-829d-42f0-a800-49d3db3e0922",
   "metadata": {
    "scrolled": true
   },
   "outputs": [
    {
     "data": {
      "text/plain": [
       "(98, 768)"
      ]
     },
     "execution_count": 8,
     "metadata": {},
     "output_type": "execute_result"
    }
   ],
   "source": [
    "outp[0][0].numpy()[1:-1].shape"
   ]
  },
  {
   "cell_type": "markdown",
   "id": "060e0503-2c31-4b47-9afe-cb8e04c48ec4",
   "metadata": {},
   "source": [
    "First one and last one tokens were omitted"
   ]
  },
  {
   "cell_type": "markdown",
   "id": "fabb8af5-3e2f-47bc-a1a0-ce1039584fce",
   "metadata": {},
   "source": [
    "### Let's check the data"
   ]
  },
  {
   "cell_type": "code",
   "execution_count": 9,
   "id": "ac62db01-71e2-41e9-a473-901d7dc83842",
   "metadata": {},
   "outputs": [],
   "source": [
    "# import zipfile\n",
    "# path_to_zip_file = \"Data/human_gpt3_davinci_003_wikip.zip\"\n",
    "\n",
    "# directory_to_extract_to = \"Data/texts_datsets/\"\n",
    "# with zipfile.ZipFile(path_to_zip_file, 'r') as zip_ref:\n",
    "#     zip_ref.extractall(directory_to_extract_to)"
   ]
  },
  {
   "cell_type": "code",
   "execution_count": 10,
   "id": "35ca2a49-47eb-4bb3-9866-0d8ad6445c31",
   "metadata": {},
   "outputs": [],
   "source": [
    "wiki_data = pd.read_json(\"Data/texts_datsets/human_gpt3_davinci_003_wikip.json_pp\", lines=True)"
   ]
  },
  {
   "cell_type": "code",
   "execution_count": 11,
   "id": "0077c643-1894-42b4-b690-208a31d80bca",
   "metadata": {},
   "outputs": [
    {
     "name": "stdout",
     "output_type": "stream",
     "text": [
      "Prefix:  One tank tumbled down an embankment into the Tenaru River, drowning its crew. At 23:00 on 14 September, the remnants of the Kuma battalion conducted another attack on the same portion of the Marine lines, but were repulsed. \n",
      "\n",
      "Human text:  A final \"weak\" attack by the Kuma unit on the evening of 15 September was also defeated. Oka's unit of about 650 men attacked the Marines at several locations on the west side of the Lunga perimeter. At about 04:00 on 14 September, two Japanese companies attacked positions held by the 3rd Battalion, 5th Marine Regiment (3/5) near the coast and were thrown back with heavy losses. Another Japanese company captured a small ridge somewhat inland but was then pinned down by Marine artillery fire throughout the day and took heavy losses before withdrawing on the evening of 14 September. The rest of Oka's unit failed to find the Marine lines and did not participate in the attack. At 13:05 on 14 September, Kawaguchi led the survivors of his shattered brigade away from the ridge and deeper into the jungle, where they rested and tended to their wounded all the next day. Kawaguchi's units were then ordered to withdraw west to the Matanikau River valley to join with Oka's unit, a march over difficult terrain. Kawaguchi's troops began the march on the morning of 16 September. Almost every soldier able to walk had to help carry the wounded. As the march progressed, the exhausted and hungry soldiers, who had eaten their last rations on the morning before their withdrawal, began to discard their heavy equipment and then their rifles. By the time most of them reached Oka's positions at Kokumbona five days later, only half still carried their weapons. The Kuma battalion's survivors, attempting to follow Kawaguchi's Center Body forces, became lost, wandered for three weeks in the jungle, and almost starved to death before finally reaching Kawaguchi's camp. In total, Kawaguchi's forces lost about 830 killed in the attack, including 350 in Tamura's battalion, 200 in Kokusho's battalion, 120 in Oka's force, 100 in the Kuma battalion, and 60 in Watanabe's battalion. An unknown number of wounded also died during the withdrawal march to the Matanikau. On and around the ridge, the Marines counted 500 Japanese dead, including 200 on the slopes of Hill 123. \n",
      "\n",
      "GPT text:  The following day, 15 September, the remaining tanks of the Kuma battalion, supported by infantry, unsuccessfully attempted to cross the Tenaru River. The Marines had set up machine guns and barbed wire along the riverbank, and the Japanese were unable to get across. The Japanese tanks, unable to make the crossing, were forced to retreat. However, one tank tumbled down the embankment into the river, drowning its crew.\n"
     ]
    }
   ],
   "source": [
    "print(\"Prefix: \", wiki_data[0][0][\"prefix\"], \"\\n\")\n",
    "print(\"Human text: \", wiki_data[0][0][\"gold_completion\"], \"\\n\")\n",
    "print(\"GPT text: \", wiki_data[0][0][\"gen_completion\"])"
   ]
  },
  {
   "cell_type": "code",
   "execution_count": 12,
   "id": "2a8c13be-9e07-4d8e-88d9-16764d706794",
   "metadata": {},
   "outputs": [],
   "source": [
    "inputs = tokenizer(preprocess_text(wiki_data[0][0][\"gold_completion\"]), truncation=True, max_length=512, return_tensors=\"pt\")\n",
    "with torch.no_grad():\n",
    "    outp = model(**inputs)"
   ]
  },
  {
   "cell_type": "code",
   "execution_count": 13,
   "id": "10ff332b-83d5-4372-ae6a-f6dc190419c7",
   "metadata": {},
   "outputs": [
    {
     "name": "stdout",
     "output_type": "stream",
     "text": [
      "(444, 768)\n"
     ]
    }
   ],
   "source": [
    "human = outp[0][0].numpy()[1:-1]\n",
    "print(human.shape)"
   ]
  },
  {
   "cell_type": "code",
   "execution_count": 14,
   "id": "e4f4501f-e4c6-43a8-95a5-718eeb8cf4a0",
   "metadata": {},
   "outputs": [],
   "source": [
    "inputs = tokenizer(preprocess_text(wiki_data[0][0][\"gen_completion\"]), truncation=True, max_length=512, return_tensors=\"pt\")\n",
    "with torch.no_grad():\n",
    "    outp = model(**inputs)"
   ]
  },
  {
   "cell_type": "code",
   "execution_count": 15,
   "id": "63d5c917-c1a7-4537-8802-b5ec3a39caa1",
   "metadata": {},
   "outputs": [
    {
     "name": "stdout",
     "output_type": "stream",
     "text": [
      "(88, 768)\n"
     ]
    }
   ],
   "source": [
    "gpt = outp[0][0].numpy()[1:-1]\n",
    "print(gpt.shape)"
   ]
  },
  {
   "cell_type": "code",
   "execution_count": 16,
   "id": "6f010b1b-0f9d-4210-9c3d-e0c546ec3536",
   "metadata": {},
   "outputs": [],
   "source": [
    "d_inp = gpt.shape[1]"
   ]
  },
  {
   "cell_type": "markdown",
   "id": "6c0d47d3-bdcb-45fd-9940-58ff70fca757",
   "metadata": {},
   "source": [
    "---"
   ]
  },
  {
   "cell_type": "markdown",
   "id": "b676784d-f9d7-4810-bed4-8b41b2f0c9ea",
   "metadata": {},
   "source": [
    "### Make dataset"
   ]
  },
  {
   "cell_type": "code",
   "execution_count": 17,
   "id": "14cc91fd-38bd-4bec-8f47-fc885529a14d",
   "metadata": {},
   "outputs": [],
   "source": [
    "number_promts = 50\n",
    "labels = []\n",
    "text_data = []\n",
    "\n",
    "for i in range(number_promts):\n",
    "    labels.append(\"human\")\n",
    "    text_data.append(wiki_data[i][0][\"gold_completion\"])\n",
    "\n",
    "    labels.append(\"gpt\")\n",
    "    text_data.append(wiki_data[i][0][\"gen_completion\"])"
   ]
  },
  {
   "cell_type": "code",
   "execution_count": 18,
   "id": "6fb87d3f-8d9e-46e8-b7ec-0afa3811fefc",
   "metadata": {},
   "outputs": [
    {
     "data": {
      "text/plain": [
       "100"
      ]
     },
     "execution_count": 18,
     "metadata": {},
     "output_type": "execute_result"
    }
   ],
   "source": [
    "len(text_data)"
   ]
  },
  {
   "cell_type": "code",
   "execution_count": 19,
   "id": "ae084885-fba9-43b3-9d15-ff1d478807e2",
   "metadata": {},
   "outputs": [],
   "source": [
    "buffer = np.array([[i, j] for i in np.arange(len(text_data)) for j in np.arange(len(text_data))])\n",
    "# buffer_id =  np.random.choice(len(buffer), 2500, replace = False)\n",
    "train_indexes = buffer"
   ]
  },
  {
   "cell_type": "markdown",
   "id": "aba43a35-82af-4fd1-bbb7-1906d973543f",
   "metadata": {},
   "source": [
    "### Tokenize and then embed"
   ]
  },
  {
   "cell_type": "code",
   "execution_count": 20,
   "id": "1912a794-5aa6-42fe-ac5d-f124bf5e375c",
   "metadata": {},
   "outputs": [
    {
     "name": "stderr",
     "output_type": "stream",
     "text": [
      "100%|█████████████████████████████████████████| 100/100 [00:19<00:00,  5.19it/s]\n"
     ]
    }
   ],
   "source": [
    "pc_train = []\n",
    "for text_sample in tqdm(text_data):\n",
    "    inputs = tokenizer(preprocess_text(text_sample), truncation=True, max_length=512, return_tensors=\"pt\")\n",
    "    with torch.no_grad():\n",
    "        outp = model(**inputs)\n",
    "        \n",
    "    pc_train.append(outp[0][0].numpy()[1:-1])"
   ]
  },
  {
   "cell_type": "code",
   "execution_count": 22,
   "id": "ff47f885-0576-4eba-9ce8-38d9585b40e0",
   "metadata": {},
   "outputs": [],
   "source": [
    "# import pickle\n",
    "# with open(\"Data/cross_ripsnet_text_exp/human_gpt3_davinci_003_text_data\", \"wb\") as fp:   #Pickling\n",
    "#     pickle.dump(text_data, fp)\n",
    "\n",
    "# with open(\"Data/cross_ripsnet_text_exp/human_gpt3_davinci_003_pc_train\", \"wb\") as fp:   #Pickling\n",
    "#     pickle.dump(pc_train, fp)\n",
    "\n",
    "# with open(\"Data/cross_ripsnet_text_exp/human_gpt3_davinci_003_train_indexes\", \"wb\") as fp:   #Pickling\n",
    "#     pickle.dump(train_indexes, fp)\n",
    "\n",
    "# with open(\"Data/cross_ripsnet_text_exp/human_gpt3_davinci_003_labels\", \"wb\") as fp:   #Pickling\n",
    "#     pickle.dump(labels, fp)"
   ]
  },
  {
   "cell_type": "code",
   "execution_count": 8,
   "id": "571f723a-1ccf-4645-9e40-b382d47cc995",
   "metadata": {},
   "outputs": [],
   "source": [
    "import pickle\n",
    "with open(\"Data/cross_ripsnet_text_exp/human_gpt3_davinci_003_pc_train\", \"rb\") as fp:   #Pickling\n",
    "    pc_train = pickle.load(fp)\n",
    "\n",
    "with open(\"Data/cross_ripsnet_text_exp/human_gpt3_davinci_003_train_indexes\", \"rb\") as fp:   #Pickling\n",
    "    train_indexes = pickle.load(fp)\n",
    "\n",
    "with open(\"Data/cross_ripsnet_text_exp/human_gpt3_davinci_003_pds_10000_50_boostrap\", 'rb') as fp:   #Pickling\n",
    "    train_PD = pickle.load(fp)\n",
    "\n",
    "with open(\"Data/cross_ripsnet_text_exp/human_gpt3_davinci_003_PI_10000_50_boostrap\", 'rb') as fp:   #Pickling\n",
    "    PI_train_all = pickle.load(fp)"
   ]
  },
  {
   "cell_type": "markdown",
   "id": "df9db09c-5c3c-4feb-a90b-2f7431a4558a",
   "metadata": {},
   "source": [
    "---"
   ]
  },
  {
   "cell_type": "markdown",
   "id": "d0602cdd-c755-4f91-a280-e994ee01ac26",
   "metadata": {},
   "source": [
    "### Calculate PD"
   ]
  },
  {
   "cell_type": "code",
   "execution_count": 93,
   "id": "dac40df6-ede3-4445-a3d6-5b1da5319f45",
   "metadata": {},
   "outputs": [
    {
     "name": "stderr",
     "output_type": "stream",
     "text": [
      " 59%|████████████████████████████████████████████████████████████████████████████████████████████▋                                                                 | 5865/10000 [5:58:03<8:37:53,  7.51s/it]IOPub message rate exceeded.\n",
      "The Jupyter server will temporarily stop sending output\n",
      "to the client in order to avoid crashing it.\n",
      "To change this limit, set the config variable\n",
      "`--ServerApp.iopub_msg_rate_limit`.\n",
      "\n",
      "Current values:\n",
      "ServerApp.iopub_msg_rate_limit=1000.0 (msgs/sec)\n",
      "ServerApp.rate_limit_window=3.0 (secs)\n",
      "\n"
     ]
    }
   ],
   "source": [
    "n_boostrap = 50\n",
    "batch_size_portion2 = 0.8\n",
    "batch_size_portion1 = 0.6\n",
    "train_PD = []\n",
    "for i,j in tqdm(train_indexes):  \n",
    "    batch_size1 = int(len(pc_train[i]) * batch_size_portion1)\n",
    "    batch_size2 = int(len(pc_train[i]) * batch_size_portion2)\n",
    "    barc = [mtd.calc_cross_barcodes(pc_train[i], pc_train[j], batch_size1 = batch_size1, batch_size2 = batch_size2, is_plot = False, pdist_device = \"cuda\") for _ in range(n_boostrap)]\n",
    "    train_PD.append(barc)"
   ]
  },
  {
   "cell_type": "code",
   "execution_count": 3,
   "id": "effc8a6b-2e4e-4694-ab6b-aa38dc945466",
   "metadata": {},
   "outputs": [],
   "source": [
    "import pickle\n",
    "# with open(\"Data/cross_ripsnet_text_exp/human_gpt3_davinci_003_pds_10000_50_boostrap\", \"wb\") as fp:   #Pickling\n",
    "#     pickle.dump(train_PD, fp)\n",
    "\n",
    "with open(\"Data/cross_ripsnet_text_exp/human_gpt3_davinci_003_pds_10000_50_boostrap\", 'rb') as fp:   #Pickling\n",
    "    train_PD = pickle.load(fp)"
   ]
  },
  {
   "cell_type": "code",
   "execution_count": 9,
   "id": "9094bc11-3de7-43e7-a658-87dc6fe845ee",
   "metadata": {},
   "outputs": [],
   "source": [
    "train_PD_1 = [[x[1] if len(x[1])>0 else np.array([[0., 0.]]) for x in barcs ] for barcs in train_PD]\n",
    "\n",
    "train_PD_0 = [[x[0] if len(x[0])>0 else np.array([[0., 0.]]) for x in barcs ] for barcs in train_PD]"
   ]
  },
  {
   "cell_type": "code",
   "execution_count": 5,
   "id": "b7ad166e-d2f7-4131-8e0d-af7a005954bd",
   "metadata": {},
   "outputs": [
    {
     "name": "stderr",
     "output_type": "stream",
     "text": [
      "100%|█████████████████████████████████████████| 499/499 [00:16<00:00, 31.16it/s]\n"
     ]
    }
   ],
   "source": [
    "from gudhi.representations import DiagramSelector\n",
    "pds_train = DiagramSelector(use=True).fit_transform(train_PD_1[0])\n",
    "vpdtr = np.vstack(pds_train)\n",
    "\n",
    "for barcs in tqdm(train_PD_1[1:500]):\n",
    "    pds_train = DiagramSelector(use=True).fit_transform(barcs)\n",
    "    vpdtr = np.vstack((vpdtr, np.vstack(pds_train)))\n",
    "\n",
    "pers = vpdtr[:,1]-vpdtr[:,0]\n",
    "# bps_pairs = pairwise_distances(np.hstack([vpdtr[:,0:1],vpdtr[:,1:2]-vpdtr[:,0:1]])[:200]).flatten()\n",
    "# ppers = bps_pairs[np.argwhere(bps_pairs > 1e-5).ravel()]\n",
    "# sigma = np.quantile(ppers, .2) ### доработать подбор bandwidth константы\n",
    "# im_bnds = [np.quantile(vpdtr[:,0],0.0001), np.quantile(vpdtr[:,0],0.999), np.quantile(pers,0.001), np.quantile(pers,0.999)]\n",
    "im_bnds = [np.min(vpdtr[:,0]), np.max(vpdtr[:,0]), np.min(pers), np.max(pers)]"
   ]
  },
  {
   "cell_type": "markdown",
   "id": "33437066-5214-46bc-9389-316f7fe7e484",
   "metadata": {},
   "source": [
    "# What about (x,y)->(x, y-x) transformation ???"
   ]
  },
  {
   "cell_type": "code",
   "execution_count": null,
   "id": "58f00f19-3876-4526-b6ea-ddc520c38748",
   "metadata": {},
   "outputs": [],
   "source": [
    "### Base transformation y-axis to persistence\n",
    "\n",
    "# for barcs in train_PD_1:\n",
    "#     for barc in barcs:\n",
    "#         barc[:, 1] = barc[:, 1]- barc[:, 0]"
   ]
  },
  {
   "cell_type": "code",
   "execution_count": 10,
   "id": "fb9e76fd-8e1c-4fca-9a0d-518dacadf778",
   "metadata": {},
   "outputs": [],
   "source": [
    "n_boostrap = 50"
   ]
  },
  {
   "cell_type": "code",
   "execution_count": 10,
   "id": "d3b3ae1c-1de7-46d5-8bae-c93688bd5576",
   "metadata": {},
   "outputs": [
    {
     "name": "stderr",
     "output_type": "stream",
     "text": [
      "100%|███████████████████████████████████| 10000/10000 [1:05:31<00:00,  2.54it/s]\n"
     ]
    }
   ],
   "source": [
    "# from gudhi.representations import DiagramSelector\n",
    "from sklearn.metrics import pairwise_distances\n",
    "from gudhi.representations import  PersistenceImage\n",
    "\n",
    "PI_train_all = []\n",
    "for barcs in tqdm(train_PD_1):\n",
    "    pds_train = DiagramSelector(use=True).fit_transform(barcs)\n",
    "    pds_train = [item.astype(np.float32) for item in pds_train]\n",
    "    # clean_pds_test = DiagramSelector(use=True).fit_transform(train_PD_1[800:])\n",
    "    \n",
    "    \n",
    "    vpdtr = np.vstack(pds_train)\n",
    "    pers = vpdtr[:,1]-vpdtr[:,0]\n",
    "    bps_pairs = pairwise_distances(np.hstack([vpdtr[:,0:1],vpdtr[:,1:2]-vpdtr[:,0:1]])[:200]).flatten()\n",
    "    ppers = bps_pairs[np.argwhere(bps_pairs > 1e-5).ravel()]\n",
    "    sigma = np.quantile(ppers, .01)\n",
    "    \n",
    "    \n",
    "    PI_params = {'bandwidth': sigma, 'weight': lambda x: x[1]**2, \n",
    "                 'resolution': [50,50], 'im_range': im_bnds}\n",
    "    PI_train = PersistenceImage(**PI_params).fit_transform(pds_train)\n",
    "    # clean_PI_test = PersistenceImage(**PI_params).fit_transform(clean_pds_test)\n",
    "    PI_train = np.sum(PI_train,axis = 0)/n_boostrap\n",
    "    PI_train = PI_train/np.sum(PI_train)\n",
    "    PI_train_all.append(PI_train)\n",
    "    \n",
    "PI_train_all = np.array(PI_train_all)"
   ]
  },
  {
   "cell_type": "code",
   "execution_count": 13,
   "id": "36d56929-2229-4c68-8a6d-81d196f56cef",
   "metadata": {},
   "outputs": [],
   "source": [
    "import pickle\n",
    "# with open(\"Data/cross_ripsnet_text_exp/human_gpt3_davinci_003_PI_10000_50_boostrap\", \"wb\") as fp:   #Pickling\n",
    "#     pickle.dump(PI_train_all, fp)\n",
    "\n",
    "# with open(\"Data/cross_ripsnet_text_exp/human_gpt3_davinci_003_PI_10000_50_boostrap\", 'rb') as fp:   #Pickling\n",
    "#     PI_train_all = pickle.load(fp)"
   ]
  },
  {
   "cell_type": "code",
   "execution_count": 11,
   "id": "93f3770a-8fc2-44e2-9085-a69a9e829e63",
   "metadata": {},
   "outputs": [
    {
     "data": {
      "text/plain": [
       "(10000, 2500)"
      ]
     },
     "execution_count": 11,
     "metadata": {},
     "output_type": "execute_result"
    }
   ],
   "source": [
    "PI_train_all.shape"
   ]
  },
  {
   "cell_type": "code",
   "execution_count": 12,
   "id": "1c0a9e7f-df15-4b17-bbaa-5aaabe926ce3",
   "metadata": {},
   "outputs": [],
   "source": [
    "PI_train = np.vstack([PI_train_all[:2000]])\n",
    "clean_PI_test = np.vstack([PI_train_all[2000:2500]])"
   ]
  },
  {
   "cell_type": "code",
   "execution_count": 13,
   "id": "b13fcd0a-50b4-49ad-99f9-c286870d02c9",
   "metadata": {},
   "outputs": [],
   "source": [
    "# PI_train = np.vstack(PI_train_all)"
   ]
  },
  {
   "cell_type": "code",
   "execution_count": 14,
   "id": "1194eed3-ace1-449f-88f2-d9ab429c3121",
   "metadata": {},
   "outputs": [
    {
     "data": {
      "image/png": "[encoded data removed]",
      "text/plain": [
       "<Figure size 1000x1000 with 9 Axes>"
      ]
     },
     "metadata": {},
     "output_type": "display_data"
    }
   ],
   "source": [
    "fig = plt.figure(figsize=(10, 10)) \n",
    "gs = gridspec.GridSpec(3, 3, width_ratios=[1,1,1], wspace=0.0, hspace=0.0)\n",
    "for i in range(3):\n",
    "    for j in range(3):\n",
    "        ax = plt.subplot(gs[i,j])\n",
    "        ax.imshow(np.flip(np.reshape(PI_train_all[600*i+3*j], [50,50]), 0), cmap='jet')\n",
    "        plt.xticks([])\n",
    "        plt.yticks([])"
   ]
  },
  {
   "cell_type": "code",
   "execution_count": 16,
   "id": "c5eb24ed-c9be-4130-b7ed-13475c12c1bc",
   "metadata": {},
   "outputs": [],
   "source": [
    "from scipy.stats import entropy\n",
    "\n",
    "def sym_KL(y_true, y_pred):\n",
    "    loss = tf.keras.losses.KLDivergence()\n",
    "    return (loss(y_true, y_pred) + loss(y_pred, y_true))/2"
   ]
  },
  {
   "cell_type": "code",
   "execution_count": 17,
   "id": "ceb21f66-5e5f-411a-acdc-30b61e07abea",
   "metadata": {},
   "outputs": [
    {
     "name": "stderr",
     "output_type": "stream",
     "text": [
      "2025-03-16 21:52:34.045280: I tensorflow/core/platform/cpu_feature_guard.cc:151] This TensorFlow binary is optimized with oneAPI Deep Neural Network Library (oneDNN) to use the following CPU instructions in performance-critical operations:  AVX2 FMA\n",
      "To enable them in other operations, rebuild TensorFlow with the appropriate compiler flags.\n",
      "2025-03-16 21:52:38.138148: I tensorflow/core/common_runtime/gpu/gpu_device.cc:1525] Created device /job:localhost/replica:0/task:0/device:GPU:0 with 22383 MB memory:  -> device: 0, name: NVIDIA RTX A5000, pci bus id: 0000:0a:00.0, compute capability: 8.6\n",
      "2025-03-16 21:52:38.138816: I tensorflow/core/common_runtime/gpu/gpu_device.cc:1525] Created device /job:localhost/replica:0/task:0/device:GPU:1 with 10298 MB memory:  -> device: 1, name: NVIDIA GeForce RTX 3060, pci bus id: 0000:06:00.0, compute capability: 8.6\n",
      "2025-03-16 21:52:38.139402: I tensorflow/core/common_runtime/gpu/gpu_device.cc:1525] Created device /job:localhost/replica:0/task:0/device:GPU:2 with 10463 MB memory:  -> device: 2, name: NVIDIA GeForce GTX 1080 Ti, pci bus id: 0000:05:00.0, compute capability: 6.1\n",
      "2025-03-16 21:52:38.139916: I tensorflow/core/common_runtime/gpu/gpu_device.cc:1525] Created device /job:localhost/replica:0/task:0/device:GPU:3 with 10464 MB memory:  -> device: 3, name: NVIDIA GeForce GTX 1080 Ti, pci bus id: 0000:09:00.0, compute capability: 6.1\n"
     ]
    }
   ],
   "source": [
    "n_components = 10\n",
    "callback = tf.keras.callbacks.EarlyStopping(monitor='val_loss', min_delta=1e-5, \n",
    "                                            patience=150, verbose=0, mode='auto', baseline=None, \n",
    "                                            restore_best_weights=False)\n",
    "\n",
    "optim = tf.keras.optimizers.Adamax(learning_rate=5e-4)\n",
    "inputs_1 = tf.keras.Input(shape=(None, n_components), dtype =\"float32\", ragged=True)\n",
    "inputs_2 = tf.keras.Input(shape=(None, n_components), dtype =\"float32\", ragged=True)\n",
    "\n",
    "x = DenseRagged(units=30, use_bias=True, activation='relu')(inputs_1)\n",
    "x = DenseRagged(units=20, use_bias=True, activation='relu')(x)\n",
    "x = DenseRagged(units=10, use_bias=True, activation='relu')(x)\n",
    "x = PermopRagged()(x)\n",
    "\n",
    "y = DenseRagged(units=30, use_bias=True, activation='relu')(inputs_2)\n",
    "y = DenseRagged(units=20, use_bias=True, activation='relu')(y)\n",
    "y = DenseRagged(units=10, use_bias=True, activation='relu')(y)\n",
    "y = PermopRagged()(y)\n",
    "\n",
    "x_y = keras.layers.Concatenate(axis=1)([inputs_1, inputs_2])\n",
    "x_y = DenseRagged(units=30, use_bias=True, activation='relu')(x_y)\n",
    "x_y = DenseRagged(units=20, use_bias=True, activation='relu')(x_y)\n",
    "x_y = DenseRagged(units=10, use_bias=True, activation='relu')(x_y)\n",
    "x_y= PermopRagged()(x_y)\n",
    "## Добавить расстояния как фичи\n",
    "\n",
    "\n",
    "z = keras.layers.Concatenate(axis=-1)([x, y, x_y])\n",
    "\n",
    "z = tf.keras.layers.Dense(100,  activation='relu', kernel_regularizer=l2(1e-4), activity_regularizer=l2(1e-4))(z)\n",
    "# z = tf.keras.layers.Dropout(0.5)(z)\n",
    "z = tf.keras.layers.Dense(200, activation='relu', kernel_regularizer=l2(1e-4), activity_regularizer=l2(1e-4))(z)\n",
    "# z = tf.keras.layers.Dropout(0.5)(z)\n",
    "z = tf.keras.layers.Dense(400, activation='relu', kernel_regularizer=l2(1e-3), activity_regularizer=l2(1e-4))(z)\n",
    "z = tf.keras.layers.Dropout(0.1)(z)\n",
    "outputs = tf.keras.layers.Dense(PI_train.shape[1], activation='sigmoid')(z)\n",
    "outputs = tf.keras.layers.Lambda(lambda x: x / (tf.reduce_sum(x, axis=-1, keepdims=True) + 1e-7))(outputs)\n",
    "model_PI_second_type = tf.keras.Model(inputs=[inputs_1,inputs_2], outputs=outputs)\n",
    "model_PI_second_type.compile(optimizer=optim, loss=sym_KL)"
   ]
  },
  {
   "cell_type": "markdown",
   "id": "0ed7596a-3851-4c1e-baaa-fa5fd763b15a",
   "metadata": {},
   "source": [
    "### Let's compress data"
   ]
  },
  {
   "cell_type": "code",
   "execution_count": 18,
   "id": "584254aa-20a9-4383-aba6-488c7b11c371",
   "metadata": {},
   "outputs": [],
   "source": [
    "from sklearn.decomposition import PCA\n",
    "PCA = PCA(n_components=n_components)\n",
    "features = [PCA.fit_transform(cloud) for cloud in pc_train]"
   ]
  },
  {
   "cell_type": "code",
   "execution_count": 19,
   "id": "03611a31-0ba4-4a38-b72b-79be73af9a35",
   "metadata": {},
   "outputs": [
    {
     "name": "stdout",
     "output_type": "stream",
     "text": [
      "done 1\n",
      "done 2\n",
      "done 3\n"
     ]
    }
   ],
   "source": [
    "# data_train_concat = np.array([np.vstack((pc_train[i],pc_train[j])) for i,j in train_indexes[:8000]])\n",
    "# data_test_concat = np.array([np.vstack((pc_train[i],pc_train[j])) for i,j in train_indexes[8000:]])\n",
    "\n",
    "\n",
    "tf_data_train_1 = tf.ragged.constant([\n",
    "    features[i] for i in train_indexes[:2000][:,0]], ragged_rank=1)\n",
    "print(\"done 1\")\n",
    "tf_data_train_2 = tf.ragged.constant([\n",
    "    features[i] for i in train_indexes[:2000][:,1]], ragged_rank=1)\n",
    "print(\"done 2\")\n",
    "\n",
    "\n",
    "tf_data_test_1 = tf.ragged.constant([\n",
    "    features[i] for i in train_indexes[2000:2500][:,0]], ragged_rank=1)\n",
    "print(\"done 3\")\n",
    "tf_data_test_2 = tf.ragged.constant([\n",
    "    features[i] for i in train_indexes[2000:2500][:,1]], ragged_rank=1)"
   ]
  },
  {
   "cell_type": "code",
   "execution_count": 20,
   "id": "0074421f-9621-4804-9514-e044d5aaf862",
   "metadata": {
    "scrolled": true
   },
   "outputs": [
    {
     "name": "stdout",
     "output_type": "stream",
     "text": [
      "Epoch 1/1000\n",
      "15/63 [======>.......................] - ETA: 0s - loss: 274.7641"
     ]
    },
    {
     "name": "stderr",
     "output_type": "stream",
     "text": [
      "2025-03-16 21:55:13.948252: I tensorflow/stream_executor/cuda/cuda_blas.cc:1786] TensorFloat-32 will be used for the matrix multiplication. This will only be logged once.\n",
      "2025-03-16 21:55:13.948304: I tensorflow/stream_executor/cuda/cuda_blas.cc:1786] TensorFloat-32 will be used for the matrix multiplication. This will only be logged once.\n"
     ]
    },
    {
     "name": "stdout",
     "output_type": "stream",
     "text": [
      "63/63 [==============================] - 5s 26ms/step - loss: 124.3687 - val_loss: 37.7704\n",
      "Epoch 2/1000\n",
      "63/63 [==============================] - 1s 13ms/step - loss: 17.5579 - val_loss: 7.4001\n",
      "Epoch 3/1000\n",
      "63/63 [==============================] - 1s 13ms/step - loss: 4.4946 - val_loss: 2.5256\n",
      "Epoch 4/1000\n",
      "63/63 [==============================] - 1s 14ms/step - loss: 1.9823 - val_loss: 1.5507\n",
      "Epoch 5/1000\n",
      "63/63 [==============================] - 1s 12ms/step - loss: 1.2579 - val_loss: 1.2169\n",
      "Epoch 6/1000\n",
      "63/63 [==============================] - 1s 13ms/step - loss: 0.9978 - val_loss: 1.0577\n",
      "Epoch 7/1000\n",
      "63/63 [==============================] - 1s 14ms/step - loss: 0.8826 - val_loss: 0.9604\n",
      "Epoch 8/1000\n",
      "63/63 [==============================] - 1s 14ms/step - loss: 0.8226 - val_loss: 0.9143\n",
      "Epoch 9/1000\n",
      "63/63 [==============================] - 1s 12ms/step - loss: 0.7867 - val_loss: 0.8986\n",
      "Epoch 10/1000\n",
      "63/63 [==============================] - 1s 12ms/step - loss: 0.7635 - val_loss: 0.8645\n",
      "Epoch 11/1000\n",
      "63/63 [==============================] - 1s 13ms/step - loss: 0.7450 - val_loss: 0.8503\n",
      "Epoch 12/1000\n",
      "63/63 [==============================] - 1s 13ms/step - loss: 0.7306 - val_loss: 0.8525\n",
      "Epoch 13/1000\n",
      "63/63 [==============================] - 1s 12ms/step - loss: 0.7177 - val_loss: 0.8299\n",
      "Epoch 14/1000\n",
      "63/63 [==============================] - 1s 13ms/step - loss: 0.7111 - val_loss: 0.8429\n",
      "Epoch 15/1000\n",
      "63/63 [==============================] - 1s 12ms/step - loss: 0.6955 - val_loss: 0.8240\n",
      "Epoch 16/1000\n",
      "63/63 [==============================] - 1s 13ms/step - loss: 0.6861 - val_loss: 0.8014\n",
      "Epoch 17/1000\n",
      "63/63 [==============================] - 1s 14ms/step - loss: 0.6795 - val_loss: 0.8139\n",
      "Epoch 18/1000\n",
      "63/63 [==============================] - 1s 14ms/step - loss: 0.6700 - val_loss: 0.8222\n",
      "Epoch 19/1000\n",
      "63/63 [==============================] - 1s 12ms/step - loss: 0.6608 - val_loss: 0.7926\n",
      "Epoch 20/1000\n",
      "63/63 [==============================] - 1s 14ms/step - loss: 0.6515 - val_loss: 0.7771\n",
      "Epoch 21/1000\n",
      "63/63 [==============================] - 1s 12ms/step - loss: 0.6447 - val_loss: 0.7963\n",
      "Epoch 22/1000\n",
      "63/63 [==============================] - 1s 14ms/step - loss: 0.6380 - val_loss: 0.7838\n",
      "Epoch 23/1000\n",
      "63/63 [==============================] - 1s 13ms/step - loss: 0.6302 - val_loss: 0.8136\n",
      "Epoch 24/1000\n",
      "63/63 [==============================] - 1s 13ms/step - loss: 0.6242 - val_loss: 0.7584\n",
      "Epoch 25/1000\n",
      "63/63 [==============================] - 1s 14ms/step - loss: 0.6167 - val_loss: 0.7664\n",
      "Epoch 26/1000\n",
      "63/63 [==============================] - 1s 14ms/step - loss: 0.6095 - val_loss: 0.7783\n",
      "Epoch 27/1000\n",
      "63/63 [==============================] - 1s 14ms/step - loss: 0.6042 - val_loss: 0.7775\n",
      "Epoch 28/1000\n",
      "63/63 [==============================] - 1s 12ms/step - loss: 0.5987 - val_loss: 0.7435\n",
      "Epoch 29/1000\n",
      "63/63 [==============================] - 1s 13ms/step - loss: 0.5901 - val_loss: 0.7744\n",
      "Epoch 30/1000\n",
      "63/63 [==============================] - 1s 12ms/step - loss: 0.5839 - val_loss: 0.7545\n",
      "Epoch 31/1000\n",
      "63/63 [==============================] - 1s 13ms/step - loss: 0.5778 - val_loss: 0.7904\n",
      "Epoch 32/1000\n",
      "63/63 [==============================] - 1s 12ms/step - loss: 0.5723 - val_loss: 0.7547\n",
      "Epoch 33/1000\n",
      "63/63 [==============================] - 1s 12ms/step - loss: 0.5641 - val_loss: 0.7568\n",
      "Epoch 34/1000\n",
      "63/63 [==============================] - 1s 11ms/step - loss: 0.5577 - val_loss: 0.7571\n",
      "Epoch 35/1000\n",
      "63/63 [==============================] - 1s 12ms/step - loss: 0.5527 - val_loss: 0.7570\n",
      "Epoch 36/1000\n",
      "63/63 [==============================] - 1s 13ms/step - loss: 0.5462 - val_loss: 0.7250\n",
      "Epoch 37/1000\n",
      "63/63 [==============================] - 1s 12ms/step - loss: 0.5401 - val_loss: 0.7568\n",
      "Epoch 38/1000\n",
      "63/63 [==============================] - 1s 13ms/step - loss: 0.5322 - val_loss: 0.7335\n",
      "Epoch 39/1000\n",
      "63/63 [==============================] - 1s 13ms/step - loss: 0.5275 - val_loss: 0.7153\n",
      "Epoch 40/1000\n",
      "63/63 [==============================] - 1s 13ms/step - loss: 0.5216 - val_loss: 0.7347\n",
      "Epoch 41/1000\n",
      "63/63 [==============================] - 1s 12ms/step - loss: 0.5157 - val_loss: 0.7306\n",
      "Epoch 42/1000\n",
      "63/63 [==============================] - 1s 13ms/step - loss: 0.5098 - val_loss: 0.7329\n",
      "Epoch 43/1000\n",
      "63/63 [==============================] - 1s 12ms/step - loss: 0.5050 - val_loss: 0.7321\n",
      "Epoch 44/1000\n",
      "63/63 [==============================] - 1s 13ms/step - loss: 0.4994 - val_loss: 0.7698\n",
      "Epoch 45/1000\n",
      "63/63 [==============================] - 1s 13ms/step - loss: 0.4928 - val_loss: 0.7888\n",
      "Epoch 46/1000\n",
      "63/63 [==============================] - 1s 13ms/step - loss: 0.4885 - val_loss: 0.7282\n",
      "Epoch 47/1000\n",
      "63/63 [==============================] - 1s 13ms/step - loss: 0.4838 - val_loss: 0.7527\n",
      "Epoch 48/1000\n",
      "63/63 [==============================] - 1s 13ms/step - loss: 0.4799 - val_loss: 0.7359\n",
      "Epoch 49/1000\n",
      "63/63 [==============================] - 1s 12ms/step - loss: 0.4740 - val_loss: 0.7589\n",
      "Epoch 50/1000\n",
      "63/63 [==============================] - 1s 13ms/step - loss: 0.4722 - val_loss: 0.7689\n",
      "Epoch 51/1000\n",
      "63/63 [==============================] - 1s 13ms/step - loss: 0.4653 - val_loss: 0.7496\n",
      "Epoch 52/1000\n",
      "63/63 [==============================] - 1s 13ms/step - loss: 0.4613 - val_loss: 0.7304\n",
      "Epoch 53/1000\n",
      "63/63 [==============================] - 1s 13ms/step - loss: 0.4573 - val_loss: 0.7487\n",
      "Epoch 54/1000\n",
      "63/63 [==============================] - 1s 14ms/step - loss: 0.4548 - val_loss: 0.7670\n",
      "Epoch 55/1000\n",
      "63/63 [==============================] - 1s 13ms/step - loss: 0.4505 - val_loss: 0.7194\n",
      "Epoch 56/1000\n",
      "63/63 [==============================] - 1s 14ms/step - loss: 0.4459 - val_loss: 0.7308\n",
      "Epoch 57/1000\n",
      "63/63 [==============================] - 1s 14ms/step - loss: 0.4413 - val_loss: 0.7296\n",
      "Epoch 58/1000\n",
      "63/63 [==============================] - 1s 14ms/step - loss: 0.4379 - val_loss: 0.7365\n",
      "Epoch 59/1000\n",
      "63/63 [==============================] - 1s 12ms/step - loss: 0.4356 - val_loss: 0.7478\n",
      "Epoch 60/1000\n",
      "63/63 [==============================] - 1s 12ms/step - loss: 0.4322 - val_loss: 0.7566\n",
      "Epoch 61/1000\n",
      "63/63 [==============================] - 1s 12ms/step - loss: 0.4275 - val_loss: 0.7479\n",
      "Epoch 62/1000\n",
      "63/63 [==============================] - 1s 12ms/step - loss: 0.4248 - val_loss: 0.7558\n",
      "Epoch 63/1000\n",
      "63/63 [==============================] - 1s 14ms/step - loss: 0.4215 - val_loss: 0.7351\n",
      "Epoch 64/1000\n",
      "63/63 [==============================] - 1s 13ms/step - loss: 0.4176 - val_loss: 0.7517\n",
      "Epoch 65/1000\n",
      "63/63 [==============================] - 1s 13ms/step - loss: 0.4139 - val_loss: 0.7378\n",
      "Epoch 66/1000\n",
      "63/63 [==============================] - 1s 13ms/step - loss: 0.4116 - val_loss: 0.7726\n",
      "Epoch 67/1000\n",
      "63/63 [==============================] - 1s 13ms/step - loss: 0.4073 - val_loss: 0.7548\n",
      "Epoch 68/1000\n",
      "63/63 [==============================] - 1s 13ms/step - loss: 0.4040 - val_loss: 0.7289\n",
      "Epoch 69/1000\n",
      "63/63 [==============================] - 1s 13ms/step - loss: 0.4014 - val_loss: 0.7148\n",
      "Epoch 70/1000\n",
      "63/63 [==============================] - 1s 13ms/step - loss: 0.3978 - val_loss: 0.7289\n",
      "Epoch 71/1000\n",
      "63/63 [==============================] - 1s 13ms/step - loss: 0.3958 - val_loss: 0.7145\n",
      "Epoch 72/1000\n",
      "63/63 [==============================] - 1s 12ms/step - loss: 0.3906 - val_loss: 0.7224\n",
      "Epoch 73/1000\n",
      "63/63 [==============================] - 1s 13ms/step - loss: 0.3875 - val_loss: 0.7453\n",
      "Epoch 74/1000\n",
      "63/63 [==============================] - 1s 13ms/step - loss: 0.3865 - val_loss: 0.7294\n",
      "Epoch 75/1000\n",
      "63/63 [==============================] - 1s 13ms/step - loss: 0.3833 - val_loss: 0.7167\n",
      "Epoch 76/1000\n",
      "63/63 [==============================] - 1s 13ms/step - loss: 0.3805 - val_loss: 0.6984\n",
      "Epoch 77/1000\n",
      "63/63 [==============================] - 1s 14ms/step - loss: 0.3761 - val_loss: 0.7078\n",
      "Epoch 78/1000\n",
      "63/63 [==============================] - 1s 12ms/step - loss: 0.3747 - val_loss: 0.7251\n",
      "Epoch 79/1000\n",
      "63/63 [==============================] - 1s 12ms/step - loss: 0.3720 - val_loss: 0.7309\n",
      "Epoch 80/1000\n",
      "63/63 [==============================] - 1s 13ms/step - loss: 0.3695 - val_loss: 0.7059\n",
      "Epoch 81/1000\n",
      "63/63 [==============================] - 1s 12ms/step - loss: 0.3674 - val_loss: 0.7056\n",
      "Epoch 82/1000\n",
      "63/63 [==============================] - 1s 12ms/step - loss: 0.3636 - val_loss: 0.6889\n",
      "Epoch 83/1000\n",
      "63/63 [==============================] - 1s 13ms/step - loss: 0.3630 - val_loss: 0.7232\n",
      "Epoch 84/1000\n",
      "63/63 [==============================] - 1s 11ms/step - loss: 0.3590 - val_loss: 0.7221\n",
      "Epoch 85/1000\n",
      "63/63 [==============================] - 1s 13ms/step - loss: 0.3568 - val_loss: 0.6999\n",
      "Epoch 86/1000\n",
      "63/63 [==============================] - 1s 14ms/step - loss: 0.3545 - val_loss: 0.7057\n",
      "Epoch 87/1000\n",
      "63/63 [==============================] - 1s 13ms/step - loss: 0.3522 - val_loss: 0.6998\n",
      "Epoch 88/1000\n",
      "63/63 [==============================] - 1s 14ms/step - loss: 0.3498 - val_loss: 0.6851\n",
      "Epoch 89/1000\n",
      "63/63 [==============================] - 1s 14ms/step - loss: 0.3470 - val_loss: 0.7324\n",
      "Epoch 90/1000\n",
      "63/63 [==============================] - 1s 11ms/step - loss: 0.3471 - val_loss: 0.7262\n",
      "Epoch 91/1000\n",
      "63/63 [==============================] - 1s 12ms/step - loss: 0.3429 - val_loss: 0.7225\n",
      "Epoch 92/1000\n",
      "63/63 [==============================] - 1s 12ms/step - loss: 0.3418 - val_loss: 0.6894\n",
      "Epoch 93/1000\n",
      "63/63 [==============================] - 1s 13ms/step - loss: 0.3397 - val_loss: 0.6824\n",
      "Epoch 94/1000\n",
      "63/63 [==============================] - 1s 13ms/step - loss: 0.3358 - val_loss: 0.7087\n",
      "Epoch 95/1000\n",
      "63/63 [==============================] - 1s 14ms/step - loss: 0.3358 - val_loss: 0.6969\n",
      "Epoch 96/1000\n",
      "63/63 [==============================] - 1s 13ms/step - loss: 0.3312 - val_loss: 0.6978\n",
      "Epoch 97/1000\n",
      "63/63 [==============================] - 1s 14ms/step - loss: 0.3301 - val_loss: 0.7067\n",
      "Epoch 98/1000\n",
      "63/63 [==============================] - 1s 13ms/step - loss: 0.3272 - val_loss: 0.7095\n",
      "Epoch 99/1000\n",
      "63/63 [==============================] - 1s 13ms/step - loss: 0.3271 - val_loss: 0.7196\n",
      "Epoch 100/1000\n",
      "63/63 [==============================] - 1s 14ms/step - loss: 0.3268 - val_loss: 0.7027\n",
      "Epoch 101/1000\n",
      "63/63 [==============================] - 1s 13ms/step - loss: 0.3229 - val_loss: 0.7262\n",
      "Epoch 102/1000\n",
      "63/63 [==============================] - 1s 11ms/step - loss: 0.3203 - val_loss: 0.7299\n",
      "Epoch 103/1000\n",
      "63/63 [==============================] - 1s 13ms/step - loss: 0.3192 - val_loss: 0.6896\n",
      "Epoch 104/1000\n",
      "63/63 [==============================] - 1s 13ms/step - loss: 0.3192 - val_loss: 0.7013\n",
      "Epoch 105/1000\n",
      "63/63 [==============================] - 1s 12ms/step - loss: 0.3149 - val_loss: 0.6896\n",
      "Epoch 106/1000\n",
      "63/63 [==============================] - 1s 13ms/step - loss: 0.3161 - val_loss: 0.7316\n",
      "Epoch 107/1000\n",
      "63/63 [==============================] - 1s 11ms/step - loss: 0.3134 - val_loss: 0.7131\n",
      "Epoch 108/1000\n",
      "63/63 [==============================] - 1s 11ms/step - loss: 0.3114 - val_loss: 0.7074\n",
      "Epoch 109/1000\n",
      "63/63 [==============================] - 1s 11ms/step - loss: 0.3095 - val_loss: 0.7106\n",
      "Epoch 110/1000\n",
      "63/63 [==============================] - 1s 11ms/step - loss: 0.3089 - val_loss: 0.6783\n",
      "Epoch 111/1000\n",
      "63/63 [==============================] - 1s 11ms/step - loss: 0.3076 - val_loss: 0.6911\n",
      "Epoch 112/1000\n",
      "63/63 [==============================] - 1s 12ms/step - loss: 0.3061 - val_loss: 0.7066\n",
      "Epoch 113/1000\n",
      "63/63 [==============================] - 1s 12ms/step - loss: 0.3044 - val_loss: 0.7005\n",
      "Epoch 114/1000\n",
      "63/63 [==============================] - 1s 12ms/step - loss: 0.3030 - val_loss: 0.7083\n",
      "Epoch 115/1000\n",
      "63/63 [==============================] - 1s 11ms/step - loss: 0.3017 - val_loss: 0.7052\n",
      "Epoch 116/1000\n",
      "63/63 [==============================] - 1s 11ms/step - loss: 0.3008 - val_loss: 0.7185\n",
      "Epoch 117/1000\n",
      "63/63 [==============================] - 1s 12ms/step - loss: 0.3005 - val_loss: 0.6750\n",
      "Epoch 118/1000\n",
      "63/63 [==============================] - 1s 12ms/step - loss: 0.2985 - val_loss: 0.6944\n",
      "Epoch 119/1000\n",
      "63/63 [==============================] - 1s 12ms/step - loss: 0.2960 - val_loss: 0.7225\n",
      "Epoch 120/1000\n",
      "63/63 [==============================] - 1s 13ms/step - loss: 0.2959 - val_loss: 0.6721\n",
      "Epoch 121/1000\n",
      "63/63 [==============================] - 1s 12ms/step - loss: 0.2958 - val_loss: 0.7179\n",
      "Epoch 122/1000\n",
      "63/63 [==============================] - 1s 13ms/step - loss: 0.2935 - val_loss: 0.6931\n",
      "Epoch 123/1000\n",
      "63/63 [==============================] - 1s 12ms/step - loss: 0.2924 - val_loss: 0.7039\n",
      "Epoch 124/1000\n",
      "63/63 [==============================] - 1s 13ms/step - loss: 0.2916 - val_loss: 0.6827\n",
      "Epoch 125/1000\n",
      "63/63 [==============================] - 1s 12ms/step - loss: 0.2917 - val_loss: 0.6774\n",
      "Epoch 126/1000\n",
      "63/63 [==============================] - 1s 12ms/step - loss: 0.2894 - val_loss: 0.6732\n",
      "Epoch 127/1000\n",
      "63/63 [==============================] - 1s 13ms/step - loss: 0.2898 - val_loss: 0.7191\n",
      "Epoch 128/1000\n",
      "63/63 [==============================] - 1s 14ms/step - loss: 0.2881 - val_loss: 0.6914\n",
      "Epoch 129/1000\n",
      "63/63 [==============================] - 1s 12ms/step - loss: 0.2874 - val_loss: 0.6909\n",
      "Epoch 130/1000\n",
      "63/63 [==============================] - 1s 13ms/step - loss: 0.2872 - val_loss: 0.6963\n",
      "Epoch 131/1000\n",
      "63/63 [==============================] - 1s 13ms/step - loss: 0.2876 - val_loss: 0.7008\n",
      "Epoch 132/1000\n",
      "63/63 [==============================] - 1s 13ms/step - loss: 0.2851 - val_loss: 0.6889\n",
      "Epoch 133/1000\n",
      "63/63 [==============================] - 1s 11ms/step - loss: 0.2828 - val_loss: 0.7299\n",
      "Epoch 134/1000\n",
      "63/63 [==============================] - 1s 11ms/step - loss: 0.2830 - val_loss: 0.6827\n",
      "Epoch 135/1000\n",
      "63/63 [==============================] - 1s 12ms/step - loss: 0.2848 - val_loss: 0.6814\n",
      "Epoch 136/1000\n",
      "63/63 [==============================] - 1s 12ms/step - loss: 0.2823 - val_loss: 0.6837\n",
      "Epoch 137/1000\n",
      "63/63 [==============================] - 1s 13ms/step - loss: 0.2821 - val_loss: 0.7123\n",
      "Epoch 138/1000\n",
      "63/63 [==============================] - 1s 13ms/step - loss: 0.2814 - val_loss: 0.7287\n",
      "Epoch 139/1000\n",
      "63/63 [==============================] - 1s 13ms/step - loss: 0.2807 - val_loss: 0.6882\n",
      "Epoch 140/1000\n",
      "63/63 [==============================] - 1s 12ms/step - loss: 0.2820 - val_loss: 0.7385\n",
      "Epoch 141/1000\n",
      "63/63 [==============================] - 1s 12ms/step - loss: 0.2804 - val_loss: 0.6894\n",
      "Epoch 142/1000\n",
      "63/63 [==============================] - 1s 12ms/step - loss: 0.2789 - val_loss: 0.7092\n",
      "Epoch 143/1000\n",
      "63/63 [==============================] - 1s 11ms/step - loss: 0.2789 - val_loss: 0.7030\n",
      "Epoch 144/1000\n",
      "63/63 [==============================] - 1s 12ms/step - loss: 0.2772 - val_loss: 0.6987\n",
      "Epoch 145/1000\n",
      "63/63 [==============================] - 1s 11ms/step - loss: 0.2768 - val_loss: 0.6886\n",
      "Epoch 146/1000\n",
      "63/63 [==============================] - 1s 11ms/step - loss: 0.2776 - val_loss: 0.7018\n",
      "Epoch 147/1000\n",
      "63/63 [==============================] - 1s 12ms/step - loss: 0.2773 - val_loss: 0.6556\n",
      "Epoch 148/1000\n",
      "63/63 [==============================] - 1s 12ms/step - loss: 0.2768 - val_loss: 0.7165\n",
      "Epoch 149/1000\n",
      "63/63 [==============================] - 1s 12ms/step - loss: 0.2758 - val_loss: 0.7079\n",
      "Epoch 150/1000\n",
      "63/63 [==============================] - 1s 11ms/step - loss: 0.2757 - val_loss: 0.7048\n",
      "Epoch 151/1000\n",
      "63/63 [==============================] - 1s 12ms/step - loss: 0.2741 - val_loss: 0.7245\n",
      "Epoch 152/1000\n",
      "63/63 [==============================] - 1s 11ms/step - loss: 0.2745 - val_loss: 0.7198\n",
      "Epoch 153/1000\n",
      "63/63 [==============================] - 1s 10ms/step - loss: 0.2727 - val_loss: 0.7167\n",
      "Epoch 154/1000\n",
      "63/63 [==============================] - 1s 12ms/step - loss: 0.2727 - val_loss: 0.7111\n",
      "Epoch 155/1000\n",
      "63/63 [==============================] - 1s 13ms/step - loss: 0.2749 - val_loss: 0.7228\n",
      "Epoch 156/1000\n",
      "63/63 [==============================] - 1s 11ms/step - loss: 0.2724 - val_loss: 0.6944\n",
      "Epoch 157/1000\n",
      "63/63 [==============================] - 1s 12ms/step - loss: 0.2742 - val_loss: 0.6788\n",
      "Epoch 158/1000\n",
      "63/63 [==============================] - 1s 12ms/step - loss: 0.2718 - val_loss: 0.7137\n",
      "Epoch 159/1000\n",
      "63/63 [==============================] - 1s 12ms/step - loss: 0.2706 - val_loss: 0.7123\n",
      "Epoch 160/1000\n",
      "63/63 [==============================] - 1s 12ms/step - loss: 0.2723 - val_loss: 0.7239\n",
      "Epoch 161/1000\n",
      "63/63 [==============================] - 1s 12ms/step - loss: 0.2701 - val_loss: 0.6965\n",
      "Epoch 162/1000\n",
      "63/63 [==============================] - 1s 12ms/step - loss: 0.2707 - val_loss: 0.7203\n",
      "Epoch 163/1000\n",
      "63/63 [==============================] - 1s 12ms/step - loss: 0.2704 - val_loss: 0.7032\n",
      "Epoch 164/1000\n",
      "63/63 [==============================] - 1s 12ms/step - loss: 0.2702 - val_loss: 0.7185\n",
      "Epoch 165/1000\n",
      "63/63 [==============================] - 1s 13ms/step - loss: 0.2696 - val_loss: 0.7088\n",
      "Epoch 166/1000\n",
      "63/63 [==============================] - 1s 11ms/step - loss: 0.2708 - val_loss: 0.7034\n",
      "Epoch 167/1000\n",
      "63/63 [==============================] - 1s 13ms/step - loss: 0.2685 - val_loss: 0.7136\n",
      "Epoch 168/1000\n",
      "63/63 [==============================] - 1s 13ms/step - loss: 0.2701 - val_loss: 0.7150\n",
      "Epoch 169/1000\n",
      "63/63 [==============================] - 1s 12ms/step - loss: 0.2677 - val_loss: 0.7090\n",
      "Epoch 170/1000\n",
      "63/63 [==============================] - 1s 13ms/step - loss: 0.2686 - val_loss: 0.6758\n",
      "Epoch 171/1000\n",
      "63/63 [==============================] - 1s 14ms/step - loss: 0.2673 - val_loss: 0.7163\n",
      "Epoch 172/1000\n",
      "63/63 [==============================] - 1s 13ms/step - loss: 0.2670 - val_loss: 0.7288\n",
      "Epoch 173/1000\n",
      "63/63 [==============================] - 1s 12ms/step - loss: 0.2687 - val_loss: 0.7180\n",
      "Epoch 174/1000\n",
      "63/63 [==============================] - 1s 12ms/step - loss: 0.2664 - val_loss: 0.7336\n",
      "Epoch 175/1000\n",
      "63/63 [==============================] - 1s 12ms/step - loss: 0.2659 - val_loss: 0.7061\n",
      "Epoch 176/1000\n",
      "63/63 [==============================] - 1s 12ms/step - loss: 0.2659 - val_loss: 0.7129\n",
      "Epoch 177/1000\n",
      "63/63 [==============================] - 1s 13ms/step - loss: 0.2650 - val_loss: 0.6843\n",
      "Epoch 178/1000\n",
      "63/63 [==============================] - 1s 12ms/step - loss: 0.2664 - val_loss: 0.7357\n",
      "Epoch 179/1000\n",
      "63/63 [==============================] - 1s 12ms/step - loss: 0.2645 - val_loss: 0.7366\n",
      "Epoch 180/1000\n",
      "63/63 [==============================] - 1s 13ms/step - loss: 0.2650 - val_loss: 0.7117\n",
      "Epoch 181/1000\n",
      "63/63 [==============================] - 1s 12ms/step - loss: 0.2655 - val_loss: 0.7021\n",
      "Epoch 182/1000\n",
      "63/63 [==============================] - 1s 12ms/step - loss: 0.2643 - val_loss: 0.7332\n",
      "Epoch 183/1000\n",
      "63/63 [==============================] - 1s 13ms/step - loss: 0.2640 - val_loss: 0.7305\n",
      "Epoch 184/1000\n",
      "63/63 [==============================] - 1s 12ms/step - loss: 0.2631 - val_loss: 0.7324\n",
      "Epoch 185/1000\n",
      "63/63 [==============================] - 1s 12ms/step - loss: 0.2636 - val_loss: 0.7069\n",
      "Epoch 186/1000\n",
      "63/63 [==============================] - 1s 13ms/step - loss: 0.2639 - val_loss: 0.7020\n",
      "Epoch 187/1000\n",
      "63/63 [==============================] - 1s 13ms/step - loss: 0.2632 - val_loss: 0.7213\n",
      "Epoch 188/1000\n",
      "63/63 [==============================] - 1s 13ms/step - loss: 0.2640 - val_loss: 0.7255\n",
      "Epoch 189/1000\n",
      "63/63 [==============================] - 1s 14ms/step - loss: 0.2627 - val_loss: 0.7058\n",
      "Epoch 190/1000\n",
      "63/63 [==============================] - 1s 11ms/step - loss: 0.2629 - val_loss: 0.7249\n",
      "Epoch 191/1000\n",
      "63/63 [==============================] - 1s 12ms/step - loss: 0.2623 - val_loss: 0.6985\n",
      "Epoch 192/1000\n",
      "63/63 [==============================] - 1s 11ms/step - loss: 0.2631 - val_loss: 0.7047\n",
      "Epoch 193/1000\n",
      "63/63 [==============================] - 1s 11ms/step - loss: 0.2608 - val_loss: 0.7426\n",
      "Epoch 194/1000\n",
      "63/63 [==============================] - 1s 11ms/step - loss: 0.2604 - val_loss: 0.7095\n",
      "Epoch 195/1000\n",
      "63/63 [==============================] - 1s 11ms/step - loss: 0.2625 - val_loss: 0.7189\n",
      "Epoch 196/1000\n",
      "63/63 [==============================] - 1s 12ms/step - loss: 0.2602 - val_loss: 0.7436\n",
      "Epoch 197/1000\n",
      "63/63 [==============================] - 1s 11ms/step - loss: 0.2597 - val_loss: 0.7055\n",
      "Epoch 198/1000\n",
      "63/63 [==============================] - 1s 13ms/step - loss: 0.2595 - val_loss: 0.7248\n",
      "Epoch 199/1000\n",
      "63/63 [==============================] - 1s 13ms/step - loss: 0.2617 - val_loss: 0.7322\n",
      "Epoch 200/1000\n",
      "63/63 [==============================] - 1s 13ms/step - loss: 0.2602 - val_loss: 0.7127\n",
      "Epoch 201/1000\n",
      "63/63 [==============================] - 1s 12ms/step - loss: 0.2592 - val_loss: 0.7390\n",
      "Epoch 202/1000\n",
      "63/63 [==============================] - 1s 12ms/step - loss: 0.2597 - val_loss: 0.7053\n",
      "Epoch 203/1000\n",
      "63/63 [==============================] - 1s 12ms/step - loss: 0.2590 - val_loss: 0.7132\n",
      "Epoch 204/1000\n",
      "63/63 [==============================] - 1s 12ms/step - loss: 0.2590 - val_loss: 0.7409\n",
      "Epoch 205/1000\n",
      "63/63 [==============================] - 1s 13ms/step - loss: 0.2598 - val_loss: 0.7334\n",
      "Epoch 206/1000\n",
      "63/63 [==============================] - 1s 11ms/step - loss: 0.2590 - val_loss: 0.7406\n",
      "Epoch 207/1000\n",
      "63/63 [==============================] - 1s 12ms/step - loss: 0.2583 - val_loss: 0.7173\n",
      "Epoch 208/1000\n",
      "63/63 [==============================] - 1s 12ms/step - loss: 0.2583 - val_loss: 0.7285\n",
      "Epoch 209/1000\n",
      "63/63 [==============================] - 1s 12ms/step - loss: 0.2586 - val_loss: 0.7305\n",
      "Epoch 210/1000\n",
      "63/63 [==============================] - 1s 11ms/step - loss: 0.2575 - val_loss: 0.7341\n",
      "Epoch 211/1000\n",
      "63/63 [==============================] - 1s 12ms/step - loss: 0.2579 - val_loss: 0.7312\n",
      "Epoch 212/1000\n",
      "63/63 [==============================] - 1s 13ms/step - loss: 0.2584 - val_loss: 0.7256\n",
      "Epoch 213/1000\n",
      "63/63 [==============================] - 1s 13ms/step - loss: 0.2576 - val_loss: 0.7309\n",
      "Epoch 214/1000\n",
      "63/63 [==============================] - 1s 13ms/step - loss: 0.2568 - val_loss: 0.7493\n",
      "Epoch 215/1000\n",
      "63/63 [==============================] - 1s 14ms/step - loss: 0.2576 - val_loss: 0.7087\n",
      "Epoch 216/1000\n",
      "63/63 [==============================] - 1s 11ms/step - loss: 0.2569 - val_loss: 0.7513\n",
      "Epoch 217/1000\n",
      "63/63 [==============================] - 1s 13ms/step - loss: 0.2569 - val_loss: 0.7302\n",
      "Epoch 218/1000\n",
      "63/63 [==============================] - 1s 13ms/step - loss: 0.2573 - val_loss: 0.7339\n",
      "Epoch 219/1000\n",
      "63/63 [==============================] - 1s 13ms/step - loss: 0.2564 - val_loss: 0.7169\n",
      "Epoch 220/1000\n",
      "63/63 [==============================] - 1s 13ms/step - loss: 0.2560 - val_loss: 0.7439\n",
      "Epoch 221/1000\n",
      "63/63 [==============================] - 1s 14ms/step - loss: 0.2562 - val_loss: 0.7218\n",
      "Epoch 222/1000\n",
      "63/63 [==============================] - 1s 13ms/step - loss: 0.2556 - val_loss: 0.7154\n",
      "Epoch 223/1000\n",
      "63/63 [==============================] - 1s 14ms/step - loss: 0.2561 - val_loss: 0.7290\n",
      "Epoch 224/1000\n",
      "63/63 [==============================] - 1s 13ms/step - loss: 0.2554 - val_loss: 0.7234\n",
      "Epoch 225/1000\n",
      "63/63 [==============================] - 1s 14ms/step - loss: 0.2558 - val_loss: 0.7493\n",
      "Epoch 226/1000\n",
      "63/63 [==============================] - 1s 13ms/step - loss: 0.2560 - val_loss: 0.7241\n",
      "Epoch 227/1000\n",
      "63/63 [==============================] - 1s 12ms/step - loss: 0.2544 - val_loss: 0.7328\n",
      "Epoch 228/1000\n",
      "63/63 [==============================] - 1s 14ms/step - loss: 0.2547 - val_loss: 0.7296\n",
      "Epoch 229/1000\n",
      "63/63 [==============================] - 1s 13ms/step - loss: 0.2549 - val_loss: 0.7405\n",
      "Epoch 230/1000\n",
      "63/63 [==============================] - 1s 14ms/step - loss: 0.2542 - val_loss: 0.7544\n",
      "Epoch 231/1000\n",
      "63/63 [==============================] - 1s 14ms/step - loss: 0.2546 - val_loss: 0.7188\n",
      "Epoch 232/1000\n",
      "63/63 [==============================] - 1s 14ms/step - loss: 0.2537 - val_loss: 0.7329\n",
      "Epoch 233/1000\n",
      "63/63 [==============================] - 1s 12ms/step - loss: 0.2538 - val_loss: 0.7268\n",
      "Epoch 234/1000\n",
      "63/63 [==============================] - 1s 12ms/step - loss: 0.2541 - val_loss: 0.7340\n",
      "Epoch 235/1000\n",
      "63/63 [==============================] - 1s 12ms/step - loss: 0.2548 - val_loss: 0.7272\n",
      "Epoch 236/1000\n",
      "63/63 [==============================] - 1s 13ms/step - loss: 0.2533 - val_loss: 0.7388\n",
      "Epoch 237/1000\n",
      "63/63 [==============================] - 1s 12ms/step - loss: 0.2544 - val_loss: 0.7238\n",
      "Epoch 238/1000\n",
      "63/63 [==============================] - 1s 12ms/step - loss: 0.2534 - val_loss: 0.7036\n",
      "Epoch 239/1000\n",
      "63/63 [==============================] - 1s 13ms/step - loss: 0.2513 - val_loss: 0.7434\n",
      "Epoch 240/1000\n",
      "63/63 [==============================] - 1s 13ms/step - loss: 0.2537 - val_loss: 0.7095\n",
      "Epoch 241/1000\n",
      "63/63 [==============================] - 1s 12ms/step - loss: 0.2528 - val_loss: 0.7274\n",
      "Epoch 242/1000\n",
      "63/63 [==============================] - 1s 13ms/step - loss: 0.2520 - val_loss: 0.7213\n",
      "Epoch 243/1000\n",
      "63/63 [==============================] - 1s 13ms/step - loss: 0.2519 - val_loss: 0.7328\n",
      "Epoch 244/1000\n",
      "63/63 [==============================] - 1s 13ms/step - loss: 0.2527 - val_loss: 0.7431\n",
      "Epoch 245/1000\n",
      "63/63 [==============================] - 1s 13ms/step - loss: 0.2522 - val_loss: 0.7250\n",
      "Epoch 246/1000\n",
      "63/63 [==============================] - 1s 13ms/step - loss: 0.2521 - val_loss: 0.7469\n",
      "Epoch 247/1000\n",
      "63/63 [==============================] - 1s 13ms/step - loss: 0.2520 - val_loss: 0.7366\n",
      "Epoch 248/1000\n",
      "63/63 [==============================] - 1s 13ms/step - loss: 0.2516 - val_loss: 0.7162\n",
      "Epoch 249/1000\n",
      "63/63 [==============================] - 1s 12ms/step - loss: 0.2512 - val_loss: 0.7424\n",
      "Epoch 250/1000\n",
      "63/63 [==============================] - 1s 12ms/step - loss: 0.2514 - val_loss: 0.7159\n",
      "Epoch 251/1000\n",
      "63/63 [==============================] - 1s 13ms/step - loss: 0.2510 - val_loss: 0.7251\n",
      "Epoch 252/1000\n",
      "63/63 [==============================] - 1s 13ms/step - loss: 0.2508 - val_loss: 0.7323\n",
      "Epoch 253/1000\n",
      "63/63 [==============================] - 1s 13ms/step - loss: 0.2506 - val_loss: 0.7212\n",
      "Epoch 254/1000\n",
      "63/63 [==============================] - 1s 13ms/step - loss: 0.2509 - val_loss: 0.7002\n",
      "Epoch 255/1000\n",
      "63/63 [==============================] - 1s 13ms/step - loss: 0.2512 - val_loss: 0.7346\n",
      "Epoch 256/1000\n",
      "63/63 [==============================] - 1s 13ms/step - loss: 0.2508 - val_loss: 0.7218\n",
      "Epoch 257/1000\n",
      "63/63 [==============================] - 1s 13ms/step - loss: 0.2501 - val_loss: 0.7392\n",
      "Epoch 258/1000\n",
      "63/63 [==============================] - 1s 12ms/step - loss: 0.2513 - val_loss: 0.7217\n",
      "Epoch 259/1000\n",
      "63/63 [==============================] - 1s 12ms/step - loss: 0.2515 - val_loss: 0.7118\n",
      "Epoch 260/1000\n",
      "63/63 [==============================] - 1s 13ms/step - loss: 0.2500 - val_loss: 0.7248\n",
      "Epoch 261/1000\n",
      "63/63 [==============================] - 1s 13ms/step - loss: 0.2499 - val_loss: 0.7362\n",
      "Epoch 262/1000\n",
      "63/63 [==============================] - 1s 12ms/step - loss: 0.2509 - val_loss: 0.7203\n",
      "Epoch 263/1000\n",
      "63/63 [==============================] - 1s 12ms/step - loss: 0.2493 - val_loss: 0.7159\n",
      "Epoch 264/1000\n",
      "63/63 [==============================] - 1s 11ms/step - loss: 0.2497 - val_loss: 0.6982\n",
      "Epoch 265/1000\n",
      "63/63 [==============================] - 1s 11ms/step - loss: 0.2485 - val_loss: 0.7170\n",
      "Epoch 266/1000\n",
      "63/63 [==============================] - 1s 11ms/step - loss: 0.2485 - val_loss: 0.7171\n",
      "Epoch 267/1000\n",
      "63/63 [==============================] - 1s 12ms/step - loss: 0.2514 - val_loss: 0.7065\n",
      "Epoch 268/1000\n",
      "63/63 [==============================] - 1s 12ms/step - loss: 0.2488 - val_loss: 0.7286\n",
      "Epoch 269/1000\n",
      "63/63 [==============================] - 1s 12ms/step - loss: 0.2484 - val_loss: 0.7188\n",
      "Epoch 270/1000\n",
      "63/63 [==============================] - 1s 11ms/step - loss: 0.2486 - val_loss: 0.7185\n",
      "Epoch 271/1000\n",
      "63/63 [==============================] - 1s 12ms/step - loss: 0.2473 - val_loss: 0.7267\n",
      "Epoch 272/1000\n",
      "63/63 [==============================] - 1s 12ms/step - loss: 0.2482 - val_loss: 0.7247\n",
      "Epoch 273/1000\n",
      "63/63 [==============================] - 1s 12ms/step - loss: 0.2479 - val_loss: 0.7191\n",
      "Epoch 274/1000\n",
      "63/63 [==============================] - 1s 11ms/step - loss: 0.2493 - val_loss: 0.6986\n",
      "Epoch 275/1000\n",
      "63/63 [==============================] - 1s 12ms/step - loss: 0.2475 - val_loss: 0.7405\n",
      "Epoch 276/1000\n",
      "63/63 [==============================] - 1s 13ms/step - loss: 0.2482 - val_loss: 0.7149\n",
      "Epoch 277/1000\n",
      "63/63 [==============================] - 1s 11ms/step - loss: 0.2493 - val_loss: 0.7440\n",
      "Epoch 278/1000\n",
      "63/63 [==============================] - 1s 12ms/step - loss: 0.2477 - val_loss: 0.7218\n",
      "Epoch 279/1000\n",
      "63/63 [==============================] - 1s 13ms/step - loss: 0.2467 - val_loss: 0.7169\n",
      "Epoch 280/1000\n",
      "63/63 [==============================] - 1s 12ms/step - loss: 0.2470 - val_loss: 0.7400\n",
      "Epoch 281/1000\n",
      "63/63 [==============================] - 1s 12ms/step - loss: 0.2471 - val_loss: 0.7246\n",
      "Epoch 282/1000\n",
      "63/63 [==============================] - 1s 12ms/step - loss: 0.2470 - val_loss: 0.7115\n",
      "Epoch 283/1000\n",
      "63/63 [==============================] - 1s 11ms/step - loss: 0.2478 - val_loss: 0.7268\n",
      "Epoch 284/1000\n",
      "63/63 [==============================] - 1s 11ms/step - loss: 0.2466 - val_loss: 0.7176\n",
      "Epoch 285/1000\n",
      "63/63 [==============================] - 1s 12ms/step - loss: 0.2467 - val_loss: 0.7038\n",
      "Epoch 286/1000\n",
      "63/63 [==============================] - 1s 12ms/step - loss: 0.2469 - val_loss: 0.7434\n",
      "Epoch 287/1000\n",
      "63/63 [==============================] - 1s 13ms/step - loss: 0.2471 - val_loss: 0.7121\n",
      "Epoch 288/1000\n",
      "63/63 [==============================] - 1s 14ms/step - loss: 0.2463 - val_loss: 0.7119\n",
      "Epoch 289/1000\n",
      "63/63 [==============================] - 1s 12ms/step - loss: 0.2481 - val_loss: 0.7007\n",
      "Epoch 290/1000\n",
      "63/63 [==============================] - 1s 12ms/step - loss: 0.2472 - val_loss: 0.7181\n",
      "Epoch 291/1000\n",
      "63/63 [==============================] - 1s 13ms/step - loss: 0.2466 - val_loss: 0.7268\n",
      "Epoch 292/1000\n",
      "63/63 [==============================] - 1s 13ms/step - loss: 0.2455 - val_loss: 0.7106\n",
      "Epoch 293/1000\n",
      "63/63 [==============================] - 1s 14ms/step - loss: 0.2461 - val_loss: 0.7232\n",
      "Epoch 294/1000\n",
      "63/63 [==============================] - 1s 13ms/step - loss: 0.2457 - val_loss: 0.7286\n",
      "Epoch 295/1000\n",
      "63/63 [==============================] - 1s 12ms/step - loss: 0.2453 - val_loss: 0.7541\n",
      "Epoch 296/1000\n",
      "63/63 [==============================] - 1s 13ms/step - loss: 0.2465 - val_loss: 0.7223\n",
      "Epoch 297/1000\n",
      "63/63 [==============================] - 1s 12ms/step - loss: 0.2463 - val_loss: 0.7127\n"
     ]
    }
   ],
   "source": [
    "history = model_PI_second_type.fit([tf_data_train_1, tf_data_train_2], PI_train, epochs=1000, \n",
    "                       validation_data=([tf_data_test_1, tf_data_test_2], clean_PI_test), callbacks=[callback], verbose=1)"
   ]
  },
  {
   "cell_type": "code",
   "execution_count": 21,
   "id": "36def7ae-8714-41a5-89d6-94ac6e1d1dab",
   "metadata": {},
   "outputs": [
    {
     "data": {
      "image/png": "[encoded data removed]",
      "text/plain": [
       "<Figure size 640x480 with 1 Axes>"
      ]
     },
     "metadata": {},
     "output_type": "display_data"
    }
   ],
   "source": [
    "plt.plot(np.array(history.history[\"loss\"][20:]))\n",
    "plt.plot(np.array(history.history[\"val_loss\"][20:]))\n",
    "plt.legend([\"loss\", \"val_loss\"])\n",
    "plt.show()"
   ]
  },
  {
   "cell_type": "code",
   "execution_count": 22,
   "id": "9568c5bc-9f64-4273-85a6-a3fc3b74cff2",
   "metadata": {},
   "outputs": [],
   "source": [
    "train_PI_prediction = model_PI_second_type.predict([tf_data_train_1, tf_data_train_2])\n",
    "clean_PI_prediction = model_PI_second_type.predict([tf_data_test_1, tf_data_test_2])"
   ]
  },
  {
   "cell_type": "code",
   "execution_count": 25,
   "id": "1a3e2e1c-dfc5-465c-84ac-cec798b1f85f",
   "metadata": {},
   "outputs": [
    {
     "data": {
      "image/png": "[encoded data removed]",
      "text/plain": [
       "<Figure size 800x1000 with 6 Axes>"
      ]
     },
     "metadata": {},
     "output_type": "display_data"
    }
   ],
   "source": [
    "# Настройки стиля для статьи\n",
    "plt.style.use('seaborn-v0_8-whitegrid')\n",
    "\n",
    "# Размеры и параметры шрифта\n",
    "fig, axes = plt.subplots(3, 2, figsize=(8, 10), constrained_layout=True)\n",
    "# fig.suptitle(\"Comparison of Real and Predicted Density\", fontsize=18, fontweight='bold')\n",
    "\n",
    "for i in range(3):\n",
    "    # Реальная плотность (левая колонка)\n",
    "    ax = axes[i, 0]\n",
    "    im = ax.imshow(np.flip(np.reshape(PI_train[200*i+1], (50,50)), 0), cmap='jet', aspect='auto')\n",
    "    ax.set_xticks([])\n",
    "    ax.set_yticks([])\n",
    "    if i == 0:\n",
    "        ax.set_title(\"Real\", fontsize=14, fontweight='bold')\n",
    "    \n",
    "    # Предсказанная плотность (правая колонка)\n",
    "    ax = axes[i, 1]\n",
    "    im = ax.imshow(np.flip(np.reshape(train_PI_prediction[200*i+1], (50,50)), 0), cmap='jet', aspect='auto')\n",
    "    ax.set_xticks([])\n",
    "    ax.set_yticks([])\n",
    "    if i == 0:\n",
    "        ax.set_title(\"Predicted\", fontsize=14, fontweight='bold')\n",
    "\n",
    "\n",
    "# Сохранение графика в формате для статьи\n",
    "plt.savefig(\"comparison_plot_text_train.png\", dpi=300)\n",
    "plt.show()"
   ]
  },
  {
   "cell_type": "code",
   "execution_count": 32,
   "id": "35c4f165-bb60-42f5-9487-a2b9bbcd2fd6",
   "metadata": {},
   "outputs": [
    {
     "data": {
      "image/png": "[encoded data removed]",
      "text/plain": [
       "<Figure size 800x1000 with 6 Axes>"
      ]
     },
     "metadata": {},
     "output_type": "display_data"
    }
   ],
   "source": [
    "# Настройки стиля для статьи\n",
    "plt.style.use('seaborn-v0_8-whitegrid')\n",
    "\n",
    "# Размеры и параметры шрифта\n",
    "fig, axes = plt.subplots(3, 2, figsize=(8, 10), constrained_layout=True)\n",
    "# fig.suptitle(\"Comparison of Real and Predicted Density\", fontsize=18, fontweight='bold')\n",
    "\n",
    "for i in range(3):\n",
    "    # Реальная плотность (левая колонка)\n",
    "    ax = axes[i, 0]\n",
    "    im = ax.imshow(np.flip(np.reshape(clean_PI_test[100*i+40], (50,50)), 0), cmap='jet', aspect='auto')\n",
    "    ax.set_xticks([])\n",
    "    ax.set_yticks([])\n",
    "    if i == 0:\n",
    "        ax.set_title(\"Real\", fontsize=14, fontweight='bold')\n",
    "    \n",
    "    # Предсказанная плотность (правая колонка)\n",
    "    ax = axes[i, 1]\n",
    "    im = ax.imshow(np.flip(np.reshape(clean_PI_prediction[100*i+40], (50,50)), 0), cmap='jet', aspect='auto')\n",
    "    ax.set_xticks([])\n",
    "    ax.set_yticks([])\n",
    "    if i == 0:\n",
    "        ax.set_title(\"Predicted\", fontsize=14, fontweight='bold')\n",
    "\n",
    "\n",
    "# Сохранение графика в формате для статьи\n",
    "plt.savefig(\"comparison_plot_text_test.png\", dpi=300)\n",
    "plt.show()"
   ]
  },
  {
   "cell_type": "markdown",
   "id": "630d1eb3-3dc4-4996-89e2-bf4bf4d43b7c",
   "metadata": {},
   "source": [
    "### Let's look closely to Persistece Images "
   ]
  },
  {
   "cell_type": "code",
   "execution_count": 76,
   "id": "9fd30822-3820-45ca-97c1-f5611e55d69e",
   "metadata": {},
   "outputs": [
    {
     "data": {
      "text/plain": [
       "array([[1, 0],\n",
       "       [1, 1],\n",
       "       [1, 2],\n",
       "       [1, 3],\n",
       "       [1, 4],\n",
       "       [1, 5],\n",
       "       [1, 6],\n",
       "       [1, 7],\n",
       "       [1, 8],\n",
       "       [1, 9]])"
      ]
     },
     "execution_count": 76,
     "metadata": {},
     "output_type": "execute_result"
    }
   ],
   "source": [
    "train_indexes[100:110]"
   ]
  },
  {
   "cell_type": "code",
   "execution_count": 77,
   "id": "fa775c3f-fb19-4c8f-8db9-bfb1e8d7d03f",
   "metadata": {},
   "outputs": [],
   "source": [
    "gpt_gpt = list(range(101,112,2))\n",
    "gpt_human = list(range(100,112,2))"
   ]
  },
  {
   "cell_type": "code",
   "execution_count": 78,
   "id": "daf0048b-8699-4f16-83a1-58d0647d55f4",
   "metadata": {},
   "outputs": [
    {
     "data": {
      "text/plain": [
       "[101, 103, 105, 107, 109, 111]"
      ]
     },
     "execution_count": 78,
     "metadata": {},
     "output_type": "execute_result"
    }
   ],
   "source": [
    "gpt_gpt"
   ]
  },
  {
   "cell_type": "code",
   "execution_count": 79,
   "id": "f75b625b-a1ad-4415-a832-d06ce6f6d00f",
   "metadata": {},
   "outputs": [
    {
     "data": {
      "text/plain": [
       "[100, 102, 104, 106, 108, 110]"
      ]
     },
     "execution_count": 79,
     "metadata": {},
     "output_type": "execute_result"
    }
   ],
   "source": [
    "gpt_human"
   ]
  },
  {
   "cell_type": "code",
   "execution_count": 80,
   "id": "1668b658-37cc-45bc-8b03-7a94a77a07de",
   "metadata": {},
   "outputs": [
    {
     "data": {
      "image/png": "[encoded data removed]",
      "text/plain": [
       "<Figure size 600x1800 with 12 Axes>"
      ]
     },
     "metadata": {},
     "output_type": "display_data"
    }
   ],
   "source": [
    "f, axs = plt.subplots(6, 2, figsize=(6, 18))\n",
    "f.suptitle(f\"Comparing gpt-gpt and gpt-human PI\", fontsize=16)\n",
    "\n",
    "for i in range(len(gpt_gpt)):\n",
    "    axs[i,0].imshow(np.flip(np.reshape(PI_train[gpt_gpt[i]], [50,50]), 0), cmap='jet',)\n",
    "\n",
    "    axs[i,1].imshow(np.flip(np.reshape(PI_train[gpt_human[i]], [50,50]), 0), cmap='jet',)"
   ]
  },
  {
   "cell_type": "markdown",
   "id": "57b72a2e-abaa-4527-b3f2-4bf6a907c5a1",
   "metadata": {},
   "source": [
    "---"
   ]
  },
  {
   "cell_type": "markdown",
   "id": "fc8025aa-c538-4fe2-ab82-567a2cebfccd",
   "metadata": {},
   "source": [
    "In the paper dedicated to the intrinsic dimension of text embeddings,it was said that zero-dimensional features much more informative in this case than one-dimensional features. Considering that, we now want to use CrossRipsNet to predict not a 2d density, but the 1d lenght of cross-barcode. As all zero-dimensional features appear at the start time only."
   ]
  },
  {
   "cell_type": "code",
   "execution_count": 99,
   "id": "b3c48146-b001-45cb-814b-1bcb0241ab36",
   "metadata": {},
   "outputs": [
    {
     "name": "stderr",
     "output_type": "stream",
     "text": [
      "100%|█████████████████████████████████████████████████████████████████████████████████████████████████████████████████████████████████████████████████████████████████████| 499/499 [00:19<00:00, 25.17it/s]\n"
     ]
    }
   ],
   "source": [
    "from gudhi.representations import DiagramSelector\n",
    "pds_train = DiagramSelector(use=True).fit_transform(train_PD_0[0])\n",
    "vpdtr = np.vstack(pds_train)\n",
    "\n",
    "for barcs in tqdm(train_PD_0[1:500]):\n",
    "    pds_train = DiagramSelector(use=True).fit_transform(barcs)\n",
    "    vpdtr = np.vstack((vpdtr, np.vstack(pds_train)))\n",
    "\n",
    "pers = vpdtr[:,1]-vpdtr[:,0]\n",
    "# bps_pairs = pairwise_distances(np.hstack([vpdtr[:,0:1],vpdtr[:,1:2]-vpdtr[:,0:1]])[:200]).flatten()\n",
    "# ppers = bps_pairs[np.argwhere(bps_pairs > 1e-5).ravel()]\n",
    "# sigma = np.quantile(ppers, .2) ### доработать подбор bandwidth константы\n",
    "im_bnds = [np.min(vpdtr[:,0]),0.3, np.min(pers), np.max(pers)]"
   ]
  },
  {
   "cell_type": "code",
   "execution_count": 100,
   "id": "bf83a1dd-94aa-4fe3-98c0-6a9db01cddec",
   "metadata": {},
   "outputs": [
    {
     "data": {
      "text/plain": [
       "[0.0, 0.3, 9.664502613304649e-06, 13.822723388671875]"
      ]
     },
     "execution_count": 100,
     "metadata": {},
     "output_type": "execute_result"
    }
   ],
   "source": [
    "im_bnds"
   ]
  },
  {
   "cell_type": "code",
   "execution_count": 104,
   "id": "4da668ef-0a95-4b20-9874-77d029da20e0",
   "metadata": {},
   "outputs": [
    {
     "name": "stderr",
     "output_type": "stream",
     "text": [
      " 47%|████████████████████████████████████████████████████████████████████████████▉                                                                                     | 4749/10000 [53:46<46:34,  1.88it/s]IOPub message rate exceeded.\n",
      "The Jupyter server will temporarily stop sending output\n",
      "to the client in order to avoid crashing it.\n",
      "To change this limit, set the config variable\n",
      "`--ServerApp.iopub_msg_rate_limit`.\n",
      "\n",
      "Current values:\n",
      "ServerApp.iopub_msg_rate_limit=1000.0 (msgs/sec)\n",
      "ServerApp.rate_limit_window=3.0 (secs)\n",
      "\n"
     ]
    }
   ],
   "source": [
    "from gudhi.representations import DiagramSelector\n",
    "from sklearn.metrics import pairwise_distances\n",
    "from gudhi.representations import  PersistenceImage\n",
    "\n",
    "PI_train_all_0 = []\n",
    "for barcs in tqdm(train_PD_0):\n",
    "    barcs = [a.astype(float) for a in barcs]\n",
    "    pds_train = DiagramSelector(use=True).fit_transform(barcs)\n",
    "\n",
    "\n",
    "    vpdtr = np.vstack(pds_train)\n",
    "    pers = vpdtr[:,1]-vpdtr[:,0]\n",
    "    bps_pairs = pairwise_distances(np.hstack([vpdtr[:,0:1],vpdtr[:,1:2]-vpdtr[:,0:1]])[:200]).flatten()\n",
    "    ppers = bps_pairs[np.argwhere(bps_pairs > 1e-5).ravel()]\n",
    "    sigma = np.quantile(ppers, .02)\n",
    "    \n",
    "    PI_params = {'bandwidth': sigma, 'weight': lambda x: x[1], \n",
    "                 'resolution': [50,50], 'im_range': im_bnds}\n",
    "    PI_train = PersistenceImage(**PI_params).fit_transform(pds_train)\n",
    "    PI_train = np.sum(PI_train,axis = 0)/n_boostrap\n",
    "    PI_train = PI_train/np.sum(PI_train)\n",
    "    PI_train_all_0.append(PI_train)\n",
    "    \n",
    "PI_train_all_0 = np.array(PI_train_all_0)"
   ]
  },
  {
   "cell_type": "code",
   "execution_count": 33,
   "id": "4ac06c16-ac0e-424e-b516-48d9262b1d8d",
   "metadata": {},
   "outputs": [],
   "source": [
    "# import pickle\n",
    "# with open(\"Data/cross_ripsnet_text_exp/human_gpt3_davinci_003_PI_zero_10000_50_boostrap\", \"wb\") as fp:   #Pickling\n",
    "#     pickle.dump(PI_train_all_0, fp)\n",
    "\n",
    "with open(\"Data/cross_ripsnet_text_exp/human_gpt3_davinci_003_PI_zero_10000_50_boostrap\", 'rb') as fp:   #Pickling\n",
    "    PI_train_all_0 = pickle.load(fp)"
   ]
  },
  {
   "cell_type": "code",
   "execution_count": null,
   "id": "af6722ba-ec4e-4cc5-96f0-f41201db18d1",
   "metadata": {},
   "outputs": [],
   "source": []
  },
  {
   "cell_type": "code",
   "execution_count": 34,
   "id": "b874fbf9-2b65-4dd0-bcc1-264f7ff9ed84",
   "metadata": {},
   "outputs": [],
   "source": [
    "PI_train_0 = np.vstack([PI_train_all_0[:2000]])\n",
    "clean_PI_test_0 = np.vstack([PI_train_all_0[2000:2500]])"
   ]
  },
  {
   "cell_type": "code",
   "execution_count": 35,
   "id": "bd6f5f88-afe1-413d-bb92-5d5ea1e0afd0",
   "metadata": {},
   "outputs": [
    {
     "data": {
      "image/png": "[encoded data removed]",
      "text/plain": [
       "<Figure size 1000x1000 with 9 Axes>"
      ]
     },
     "metadata": {},
     "output_type": "display_data"
    }
   ],
   "source": [
    "fig = plt.figure(figsize=(10, 10)) \n",
    "gs = gridspec.GridSpec(3, 3, width_ratios=[1,1,1], wspace=0.0, hspace=0.0)\n",
    "for i in range(3):\n",
    "    for j in range(3):\n",
    "        ax = plt.subplot(gs[i,j])\n",
    "        ax.imshow(np.flip(np.reshape(PI_train_all_0[i+3*j], [50,50]), 0), cmap='jet')\n",
    "        plt.xticks([])\n",
    "        plt.yticks([])"
   ]
  },
  {
   "cell_type": "code",
   "execution_count": null,
   "id": "ec0cd50f-e404-4e9f-8028-5800c8545c51",
   "metadata": {},
   "outputs": [],
   "source": []
  },
  {
   "cell_type": "code",
   "execution_count": 108,
   "id": "1ad2caed-c11d-474f-8903-e99b6221a915",
   "metadata": {},
   "outputs": [],
   "source": [
    "from MTopDiv.mtd.barcodes import plot_barcodes"
   ]
  },
  {
   "cell_type": "code",
   "execution_count": 109,
   "id": "82ce3d90-6cc3-46e8-bbb9-933611046bf8",
   "metadata": {},
   "outputs": [
    {
     "data": {
      "text/plain": [
       "<matplotlib.image.AxesImage at 0x7fdd61a89000>"
      ]
     },
     "execution_count": 109,
     "metadata": {},
     "output_type": "execute_result"
    },
    {
     "data": {
      "image/png": "[encoded data removed]",
      "text/plain": [
       "<Figure size 640x480 with 1 Axes>"
      ]
     },
     "metadata": {},
     "output_type": "display_data"
    }
   ],
   "source": [
    "idx = 1000\n",
    "im_bnds = [0,0.5,0,9]\n",
    "\n",
    "# a = np.array([[[0,0],[0,1],[0,2]]])\n",
    "a = train_PD_0[idx]\n",
    "a = DiagramSelector(use=True).fit_transform(a)\n",
    "\n",
    "vpdtr = np.vstack(a)\n",
    "pers = vpdtr[:,1]-vpdtr[:,0]\n",
    "sigma = np.quantile(ppers, .04)\n",
    "\n",
    "PI_params = {'bandwidth': sigma, 'weight': lambda x: x[1], \n",
    "                 'resolution': [50,50], 'im_range': im_bnds}\n",
    "\n",
    "a = PersistenceImage(**PI_params).fit_transform(a)\n",
    "a = np.sum(a,axis = 0)/n_boostrap\n",
    "a = a/np.sum(a)\n",
    "plt.imshow(np.flip(np.reshape(a, [50,50]), 0), cmap='jet')"
   ]
  },
  {
   "cell_type": "code",
   "execution_count": 146,
   "id": "127e514f-f6f3-40ac-a396-edb71d8a8c3e",
   "metadata": {},
   "outputs": [
    {
     "name": "stdout",
     "output_type": "stream",
     "text": [
      "295\n",
      "max0,976Barcode 0 = 9.247086\n",
      "maxBarcode 0 = 9.859031\n",
      "middleBarcode 0 = 6.7305064\n",
      "202\n",
      "max0,976Barcode 1 = 1.1210041\n",
      "maxBarcode 1 = 1.4516497\n",
      "middleBarcode 1 = 0.28196335\n"
     ]
    },
    {
     "data": {
      "image/png": "[encoded data removed]",
      "text/plain": [
       "<Figure size 600x400 with 1 Axes>"
      ]
     },
     "metadata": {},
     "output_type": "display_data"
    }
   ],
   "source": [
    "plot_barcodes(np.array(train_PD[idx][0], dtype=object))"
   ]
  },
  {
   "cell_type": "markdown",
   "id": "ddc6c1fe-55bd-4457-bd1e-311ff55104cc",
   "metadata": {},
   "source": [
    "Нужно контролировать параметр сигма!"
   ]
  },
  {
   "cell_type": "markdown",
   "id": "22a04973-11db-4a3f-8542-8a316a94424b",
   "metadata": {},
   "source": [
    "---"
   ]
  },
  {
   "cell_type": "code",
   "execution_count": 36,
   "id": "dbab1d24-6e43-498d-bc21-1dec561e0b3a",
   "metadata": {},
   "outputs": [],
   "source": [
    "n_components = 10\n",
    "callback = tf.keras.callbacks.EarlyStopping(monitor='val_loss', min_delta=1e-5, \n",
    "                                            patience=100, verbose=0, mode='auto', baseline=None, \n",
    "                                            restore_best_weights=False)\n",
    "dropout_rate = 0.2\n",
    "optim = tf.keras.optimizers.Adamax(learning_rate=5e-4)\n",
    "inputs_1 = tf.keras.Input(shape=(None, n_components), dtype =\"float32\", ragged=True)\n",
    "inputs_2 = tf.keras.Input(shape=(None, n_components), dtype =\"float32\", ragged=True)\n",
    "\n",
    "x = DenseRagged(units=30, use_bias=True, activation='relu')(inputs_1)\n",
    "x = DenseRagged(units=20, use_bias=True, activation='relu')(x)\n",
    "x = DenseRagged(units=10, use_bias=True, activation='relu')(x)\n",
    "x = PermopRagged()(x)\n",
    "\n",
    "y = DenseRagged(units=30, use_bias=True, activation='relu')(inputs_2)\n",
    "y = DenseRagged(units=20, use_bias=True, activation='relu')(y)\n",
    "y = DenseRagged(units=10, use_bias=True, activation='relu')(y)\n",
    "y = PermopRagged()(y)\n",
    "\n",
    "x_y = keras.layers.Concatenate(axis=1)([inputs_1, inputs_2])\n",
    "x_y = DenseRagged(units=30, use_bias=True, activation='relu')(x_y)\n",
    "x_y = DenseRagged(units=20, use_bias=True, activation='relu')(x_y)\n",
    "x_y = DenseRagged(units=10, use_bias=True, activation='relu')(x_y)\n",
    "x_y= PermopRagged()(x_y)\n",
    "## Добавить расстояния как фичи\n",
    "\n",
    "\n",
    "z = keras.layers.Concatenate(axis=-1)([x, y, x_y])\n",
    "\n",
    "z = tf.keras.layers.Dense(100,  activation='relu', kernel_regularizer=l2(1e-4), activity_regularizer=l2(1e-4))(z)\n",
    "# z = tf.keras.layers.Dropout(dropout_rate)(z)\n",
    "z = tf.keras.layers.Dense(200, activation='relu', kernel_regularizer=l2(1e-4), activity_regularizer=l2(1e-4))(z)\n",
    "# z = tf.keras.layers.Dropout(dropout_rate)(z)\n",
    "z = tf.keras.layers.Dense(400, activation='relu', kernel_regularizer=l2(1e-3), activity_regularizer=l2(1e-4))(z)\n",
    "z = tf.keras.layers.Dropout(dropout_rate)(z)\n",
    "outputs = tf.keras.layers.Dense(PI_train_0.shape[1], activation='sigmoid')(z)\n",
    "outputs = tf.keras.layers.Lambda(lambda x: tf.experimental.numpy.clip(x, 1e-8, None))(outputs) ## for preventiong calculating log(0)\n",
    "outputs = tf.keras.layers.Lambda(lambda x: x / (tf.reduce_sum(x, axis=-1, keepdims=True) + 1e-7))(outputs)\n",
    "model_PI_second_type = tf.keras.Model(inputs=[inputs_1,inputs_2], outputs=outputs)\n",
    "model_PI_second_type.compile(optimizer=optim, loss=sym_KL)"
   ]
  },
  {
   "cell_type": "code",
   "execution_count": 37,
   "id": "eee62661-b32e-4508-9249-0ea95e7bd9a4",
   "metadata": {
    "scrolled": true
   },
   "outputs": [
    {
     "name": "stdout",
     "output_type": "stream",
     "text": [
      "Epoch 1/1000\n",
      "63/63 [==============================] - 3s 21ms/step - loss: 49.9416 - val_loss: 18.3544\n",
      "Epoch 2/1000\n",
      "63/63 [==============================] - 1s 12ms/step - loss: 8.5182 - val_loss: 5.2311\n",
      "Epoch 3/1000\n",
      "63/63 [==============================] - 1s 13ms/step - loss: 2.6989 - val_loss: 2.0227\n",
      "Epoch 4/1000\n",
      "63/63 [==============================] - 1s 12ms/step - loss: 1.2519 - val_loss: 1.1820\n",
      "Epoch 5/1000\n",
      "63/63 [==============================] - 1s 11ms/step - loss: 0.8063 - val_loss: 0.8549\n",
      "Epoch 6/1000\n",
      "63/63 [==============================] - 1s 11ms/step - loss: 0.6242 - val_loss: 0.6863\n",
      "Epoch 7/1000\n",
      "63/63 [==============================] - 1s 12ms/step - loss: 0.5305 - val_loss: 0.6154\n",
      "Epoch 8/1000\n",
      "63/63 [==============================] - 1s 12ms/step - loss: 0.4755 - val_loss: 0.5533\n",
      "Epoch 9/1000\n",
      "63/63 [==============================] - 1s 13ms/step - loss: 0.4425 - val_loss: 0.5266\n",
      "Epoch 10/1000\n",
      "63/63 [==============================] - 1s 12ms/step - loss: 0.4162 - val_loss: 0.5033\n",
      "Epoch 11/1000\n",
      "63/63 [==============================] - 1s 11ms/step - loss: 0.3969 - val_loss: 0.4931\n",
      "Epoch 12/1000\n",
      "63/63 [==============================] - 1s 11ms/step - loss: 0.3808 - val_loss: 0.4709\n",
      "Epoch 13/1000\n",
      "63/63 [==============================] - 1s 11ms/step - loss: 0.3668 - val_loss: 0.4601\n",
      "Epoch 14/1000\n",
      "63/63 [==============================] - 1s 11ms/step - loss: 0.3559 - val_loss: 0.4618\n",
      "Epoch 15/1000\n",
      "63/63 [==============================] - 1s 11ms/step - loss: 0.3464 - val_loss: 0.4421\n",
      "Epoch 16/1000\n",
      "63/63 [==============================] - 1s 11ms/step - loss: 0.3368 - val_loss: 0.4243\n",
      "Epoch 17/1000\n",
      "63/63 [==============================] - 1s 11ms/step - loss: 0.3313 - val_loss: 0.4217\n",
      "Epoch 18/1000\n",
      "63/63 [==============================] - 1s 12ms/step - loss: 0.3222 - val_loss: 0.4027\n",
      "Epoch 19/1000\n",
      "63/63 [==============================] - 1s 12ms/step - loss: 0.3135 - val_loss: 0.4046\n",
      "Epoch 20/1000\n",
      "63/63 [==============================] - 1s 11ms/step - loss: 0.3080 - val_loss: 0.4146\n",
      "Epoch 21/1000\n",
      "63/63 [==============================] - 1s 12ms/step - loss: 0.3043 - val_loss: 0.4139\n",
      "Epoch 22/1000\n",
      "63/63 [==============================] - 1s 10ms/step - loss: 0.2950 - val_loss: 0.3867\n",
      "Epoch 23/1000\n",
      "63/63 [==============================] - 1s 11ms/step - loss: 0.2909 - val_loss: 0.3910\n",
      "Epoch 24/1000\n",
      "63/63 [==============================] - 1s 12ms/step - loss: 0.2832 - val_loss: 0.3800\n",
      "Epoch 25/1000\n",
      "63/63 [==============================] - 1s 11ms/step - loss: 0.2793 - val_loss: 0.3988\n",
      "Epoch 26/1000\n",
      "63/63 [==============================] - 1s 13ms/step - loss: 0.2755 - val_loss: 0.3854\n",
      "Epoch 27/1000\n",
      "63/63 [==============================] - 1s 11ms/step - loss: 0.2692 - val_loss: 0.3745\n",
      "Epoch 28/1000\n",
      "63/63 [==============================] - 1s 11ms/step - loss: 0.2676 - val_loss: 0.3687\n",
      "Epoch 29/1000\n",
      "63/63 [==============================] - 1s 12ms/step - loss: 0.2611 - val_loss: 0.3585\n",
      "Epoch 30/1000\n",
      "63/63 [==============================] - 1s 13ms/step - loss: 0.2560 - val_loss: 0.3530\n",
      "Epoch 31/1000\n",
      "63/63 [==============================] - 1s 12ms/step - loss: 0.2516 - val_loss: 0.3649\n",
      "Epoch 32/1000\n",
      "63/63 [==============================] - 1s 12ms/step - loss: 0.2485 - val_loss: 0.3685\n",
      "Epoch 33/1000\n",
      "63/63 [==============================] - 1s 13ms/step - loss: 0.2438 - val_loss: 0.3561\n",
      "Epoch 34/1000\n",
      "63/63 [==============================] - 1s 12ms/step - loss: 0.2406 - val_loss: 0.3496\n",
      "Epoch 35/1000\n",
      "63/63 [==============================] - 1s 12ms/step - loss: 0.2361 - val_loss: 0.3529\n",
      "Epoch 36/1000\n",
      "63/63 [==============================] - 1s 13ms/step - loss: 0.2323 - val_loss: 0.3641\n",
      "Epoch 37/1000\n",
      "63/63 [==============================] - 1s 13ms/step - loss: 0.2288 - val_loss: 0.3476\n",
      "Epoch 38/1000\n",
      "63/63 [==============================] - 1s 13ms/step - loss: 0.2251 - val_loss: 0.3471\n",
      "Epoch 39/1000\n",
      "63/63 [==============================] - 1s 12ms/step - loss: 0.2218 - val_loss: 0.3498\n",
      "Epoch 40/1000\n",
      "63/63 [==============================] - 1s 12ms/step - loss: 0.2202 - val_loss: 0.3437\n",
      "Epoch 41/1000\n",
      "63/63 [==============================] - 1s 13ms/step - loss: 0.2155 - val_loss: 0.3293\n",
      "Epoch 42/1000\n",
      "63/63 [==============================] - 1s 13ms/step - loss: 0.2157 - val_loss: 0.3566\n",
      "Epoch 43/1000\n",
      "63/63 [==============================] - 1s 13ms/step - loss: 0.2091 - val_loss: 0.3483\n",
      "Epoch 44/1000\n",
      "63/63 [==============================] - 1s 13ms/step - loss: 0.2072 - val_loss: 0.3298\n",
      "Epoch 45/1000\n",
      "63/63 [==============================] - 1s 12ms/step - loss: 0.2062 - val_loss: 0.3449\n",
      "Epoch 46/1000\n",
      "63/63 [==============================] - 1s 12ms/step - loss: 0.2024 - val_loss: 0.3601\n",
      "Epoch 47/1000\n",
      "63/63 [==============================] - 1s 11ms/step - loss: 0.2000 - val_loss: 0.3328\n",
      "Epoch 48/1000\n",
      "63/63 [==============================] - 1s 12ms/step - loss: 0.1959 - val_loss: 0.3364\n",
      "Epoch 49/1000\n",
      "63/63 [==============================] - 1s 12ms/step - loss: 0.1938 - val_loss: 0.3264\n",
      "Epoch 50/1000\n",
      "63/63 [==============================] - 1s 11ms/step - loss: 0.1913 - val_loss: 0.3313\n",
      "Epoch 51/1000\n",
      "63/63 [==============================] - 1s 11ms/step - loss: 0.1880 - val_loss: 0.3289\n",
      "Epoch 52/1000\n",
      "63/63 [==============================] - 1s 11ms/step - loss: 0.1857 - val_loss: 0.3360\n",
      "Epoch 53/1000\n",
      "63/63 [==============================] - 1s 12ms/step - loss: 0.1843 - val_loss: 0.3248\n",
      "Epoch 54/1000\n",
      "63/63 [==============================] - 1s 13ms/step - loss: 0.1808 - val_loss: 0.3452\n",
      "Epoch 55/1000\n",
      "63/63 [==============================] - 1s 13ms/step - loss: 0.1790 - val_loss: 0.3333\n",
      "Epoch 56/1000\n",
      "63/63 [==============================] - 1s 12ms/step - loss: 0.1756 - val_loss: 0.3239\n",
      "Epoch 57/1000\n",
      "63/63 [==============================] - 1s 12ms/step - loss: 0.1742 - val_loss: 0.3131\n",
      "Epoch 58/1000\n",
      "63/63 [==============================] - 1s 10ms/step - loss: 0.1710 - val_loss: 0.3349\n",
      "Epoch 59/1000\n",
      "63/63 [==============================] - 1s 10ms/step - loss: 0.1692 - val_loss: 0.3535\n",
      "Epoch 60/1000\n",
      "63/63 [==============================] - 1s 12ms/step - loss: 0.1673 - val_loss: 0.3203\n",
      "Epoch 61/1000\n",
      "63/63 [==============================] - 1s 12ms/step - loss: 0.1637 - val_loss: 0.3240\n",
      "Epoch 62/1000\n",
      "63/63 [==============================] - 1s 12ms/step - loss: 0.1607 - val_loss: 0.3296\n",
      "Epoch 63/1000\n",
      "63/63 [==============================] - 1s 12ms/step - loss: 0.1596 - val_loss: 0.3209\n",
      "Epoch 64/1000\n",
      "63/63 [==============================] - 1s 11ms/step - loss: 0.1576 - val_loss: 0.3206\n",
      "Epoch 65/1000\n",
      "63/63 [==============================] - 1s 12ms/step - loss: 0.1537 - val_loss: 0.3174\n",
      "Epoch 66/1000\n",
      "63/63 [==============================] - 1s 13ms/step - loss: 0.1516 - val_loss: 0.3108\n",
      "Epoch 67/1000\n",
      "63/63 [==============================] - 1s 13ms/step - loss: 0.1484 - val_loss: 0.3218\n",
      "Epoch 68/1000\n",
      "63/63 [==============================] - 1s 13ms/step - loss: 0.1490 - val_loss: 0.3213\n",
      "Epoch 69/1000\n",
      "63/63 [==============================] - 1s 12ms/step - loss: 0.1446 - val_loss: 0.3166\n",
      "Epoch 70/1000\n",
      "63/63 [==============================] - 1s 12ms/step - loss: 0.1414 - val_loss: 0.2928\n",
      "Epoch 71/1000\n",
      "63/63 [==============================] - 1s 11ms/step - loss: 0.1399 - val_loss: 0.2966\n",
      "Epoch 72/1000\n",
      "63/63 [==============================] - 1s 12ms/step - loss: 0.1389 - val_loss: 0.3061\n",
      "Epoch 73/1000\n",
      "63/63 [==============================] - 1s 12ms/step - loss: 0.1357 - val_loss: 0.3026\n",
      "Epoch 74/1000\n",
      "63/63 [==============================] - 1s 12ms/step - loss: 0.1353 - val_loss: 0.2928\n",
      "Epoch 75/1000\n",
      "63/63 [==============================] - 1s 12ms/step - loss: 0.1314 - val_loss: 0.2853\n",
      "Epoch 76/1000\n",
      "63/63 [==============================] - 1s 12ms/step - loss: 0.1289 - val_loss: 0.2914\n",
      "Epoch 77/1000\n",
      "63/63 [==============================] - 1s 11ms/step - loss: 0.1281 - val_loss: 0.3059\n",
      "Epoch 78/1000\n",
      "63/63 [==============================] - 1s 10ms/step - loss: 0.1262 - val_loss: 0.2864\n",
      "Epoch 79/1000\n",
      "63/63 [==============================] - 1s 12ms/step - loss: 0.1235 - val_loss: 0.3028\n",
      "Epoch 80/1000\n",
      "63/63 [==============================] - 1s 12ms/step - loss: 0.1212 - val_loss: 0.2883\n",
      "Epoch 81/1000\n",
      "63/63 [==============================] - 1s 12ms/step - loss: 0.1203 - val_loss: 0.2974\n",
      "Epoch 82/1000\n",
      "63/63 [==============================] - 1s 13ms/step - loss: 0.1176 - val_loss: 0.3096\n",
      "Epoch 83/1000\n",
      "63/63 [==============================] - 1s 11ms/step - loss: 0.1162 - val_loss: 0.2816\n",
      "Epoch 84/1000\n",
      "63/63 [==============================] - 1s 11ms/step - loss: 0.1145 - val_loss: 0.2877\n",
      "Epoch 85/1000\n",
      "63/63 [==============================] - 1s 11ms/step - loss: 0.1124 - val_loss: 0.2777\n",
      "Epoch 86/1000\n",
      "63/63 [==============================] - 1s 12ms/step - loss: 0.1099 - val_loss: 0.2751\n",
      "Epoch 87/1000\n",
      "63/63 [==============================] - 1s 11ms/step - loss: 0.1098 - val_loss: 0.2746\n",
      "Epoch 88/1000\n",
      "63/63 [==============================] - 1s 12ms/step - loss: 0.1074 - val_loss: 0.2810\n",
      "Epoch 89/1000\n",
      "63/63 [==============================] - 1s 12ms/step - loss: 0.1055 - val_loss: 0.2787\n",
      "Epoch 90/1000\n",
      "63/63 [==============================] - 1s 12ms/step - loss: 0.1047 - val_loss: 0.2705\n",
      "Epoch 91/1000\n",
      "63/63 [==============================] - 1s 10ms/step - loss: 0.1027 - val_loss: 0.2825\n",
      "Epoch 92/1000\n",
      "63/63 [==============================] - 1s 11ms/step - loss: 0.1013 - val_loss: 0.2680\n",
      "Epoch 93/1000\n",
      "63/63 [==============================] - 1s 11ms/step - loss: 0.0998 - val_loss: 0.2866\n",
      "Epoch 94/1000\n",
      "63/63 [==============================] - 1s 11ms/step - loss: 0.0979 - val_loss: 0.2692\n",
      "Epoch 95/1000\n",
      "63/63 [==============================] - 1s 11ms/step - loss: 0.0966 - val_loss: 0.2928\n",
      "Epoch 96/1000\n",
      "63/63 [==============================] - 1s 11ms/step - loss: 0.0957 - val_loss: 0.2846\n",
      "Epoch 97/1000\n",
      "63/63 [==============================] - 1s 12ms/step - loss: 0.0936 - val_loss: 0.2905\n",
      "Epoch 98/1000\n",
      "63/63 [==============================] - 1s 11ms/step - loss: 0.0926 - val_loss: 0.2588\n",
      "Epoch 99/1000\n",
      "63/63 [==============================] - 1s 13ms/step - loss: 0.0908 - val_loss: 0.2647\n",
      "Epoch 100/1000\n",
      "63/63 [==============================] - 1s 12ms/step - loss: 0.0897 - val_loss: 0.2641\n",
      "Epoch 101/1000\n",
      "63/63 [==============================] - 1s 11ms/step - loss: 0.0882 - val_loss: 0.2653\n",
      "Epoch 102/1000\n",
      "63/63 [==============================] - 1s 11ms/step - loss: 0.0873 - val_loss: 0.2621\n",
      "Epoch 103/1000\n",
      "63/63 [==============================] - 1s 12ms/step - loss: 0.0858 - val_loss: 0.2618\n",
      "Epoch 104/1000\n",
      "63/63 [==============================] - 1s 11ms/step - loss: 0.0846 - val_loss: 0.2683\n",
      "Epoch 105/1000\n",
      "63/63 [==============================] - 1s 12ms/step - loss: 0.0833 - val_loss: 0.2883\n",
      "Epoch 106/1000\n",
      "63/63 [==============================] - 1s 12ms/step - loss: 0.0832 - val_loss: 0.2698\n",
      "Epoch 107/1000\n",
      "63/63 [==============================] - 1s 12ms/step - loss: 0.0807 - val_loss: 0.2567\n",
      "Epoch 108/1000\n",
      "63/63 [==============================] - 1s 12ms/step - loss: 0.0794 - val_loss: 0.2570\n",
      "Epoch 109/1000\n",
      "63/63 [==============================] - 1s 13ms/step - loss: 0.0796 - val_loss: 0.2508\n",
      "Epoch 110/1000\n",
      "63/63 [==============================] - 1s 12ms/step - loss: 0.0783 - val_loss: 0.2682\n",
      "Epoch 111/1000\n",
      "63/63 [==============================] - 1s 12ms/step - loss: 0.0770 - val_loss: 0.2516\n",
      "Epoch 112/1000\n",
      "63/63 [==============================] - 1s 11ms/step - loss: 0.0774 - val_loss: 0.2449\n",
      "Epoch 113/1000\n",
      "63/63 [==============================] - 1s 12ms/step - loss: 0.0760 - val_loss: 0.2466\n",
      "Epoch 114/1000\n",
      "63/63 [==============================] - 1s 13ms/step - loss: 0.0747 - val_loss: 0.2516\n",
      "Epoch 115/1000\n",
      "63/63 [==============================] - 1s 12ms/step - loss: 0.0729 - val_loss: 0.2363\n",
      "Epoch 116/1000\n",
      "63/63 [==============================] - 1s 13ms/step - loss: 0.0730 - val_loss: 0.2462\n",
      "Epoch 117/1000\n",
      "63/63 [==============================] - 1s 11ms/step - loss: 0.0729 - val_loss: 0.2386\n",
      "Epoch 118/1000\n",
      "63/63 [==============================] - 1s 11ms/step - loss: 0.0716 - val_loss: 0.2371\n",
      "Epoch 119/1000\n",
      "63/63 [==============================] - 1s 13ms/step - loss: 0.0708 - val_loss: 0.2331\n",
      "Epoch 120/1000\n",
      "63/63 [==============================] - 1s 13ms/step - loss: 0.0699 - val_loss: 0.2470\n",
      "Epoch 121/1000\n",
      "63/63 [==============================] - 1s 13ms/step - loss: 0.0697 - val_loss: 0.2454\n",
      "Epoch 122/1000\n",
      "63/63 [==============================] - 1s 13ms/step - loss: 0.0694 - val_loss: 0.2363\n",
      "Epoch 123/1000\n",
      "63/63 [==============================] - 1s 11ms/step - loss: 0.0687 - val_loss: 0.2349\n",
      "Epoch 124/1000\n",
      "63/63 [==============================] - 1s 11ms/step - loss: 0.0684 - val_loss: 0.2340\n",
      "Epoch 125/1000\n",
      "63/63 [==============================] - 1s 11ms/step - loss: 0.0683 - val_loss: 0.2488\n",
      "Epoch 126/1000\n",
      "63/63 [==============================] - 1s 11ms/step - loss: 0.0677 - val_loss: 0.2292\n",
      "Epoch 127/1000\n",
      "63/63 [==============================] - 1s 11ms/step - loss: 0.0666 - val_loss: 0.2467\n",
      "Epoch 128/1000\n",
      "63/63 [==============================] - 1s 11ms/step - loss: 0.0660 - val_loss: 0.2287\n",
      "Epoch 129/1000\n",
      "63/63 [==============================] - 1s 12ms/step - loss: 0.0661 - val_loss: 0.2193\n",
      "Epoch 130/1000\n",
      "63/63 [==============================] - 1s 11ms/step - loss: 0.0653 - val_loss: 0.2221\n",
      "Epoch 131/1000\n",
      "63/63 [==============================] - 1s 12ms/step - loss: 0.0648 - val_loss: 0.2272\n",
      "Epoch 132/1000\n",
      "63/63 [==============================] - 1s 13ms/step - loss: 0.0653 - val_loss: 0.2361\n",
      "Epoch 133/1000\n",
      "63/63 [==============================] - 1s 11ms/step - loss: 0.0640 - val_loss: 0.2343\n",
      "Epoch 134/1000\n",
      "63/63 [==============================] - 1s 12ms/step - loss: 0.0632 - val_loss: 0.2304\n",
      "Epoch 135/1000\n",
      "63/63 [==============================] - 1s 12ms/step - loss: 0.0632 - val_loss: 0.2218\n",
      "Epoch 136/1000\n",
      "63/63 [==============================] - 1s 10ms/step - loss: 0.0624 - val_loss: 0.2379\n",
      "Epoch 137/1000\n",
      "63/63 [==============================] - 1s 10ms/step - loss: 0.0633 - val_loss: 0.2488\n",
      "Epoch 138/1000\n",
      "63/63 [==============================] - 1s 11ms/step - loss: 0.0622 - val_loss: 0.2376\n",
      "Epoch 139/1000\n",
      "63/63 [==============================] - 1s 12ms/step - loss: 0.0621 - val_loss: 0.2286\n",
      "Epoch 140/1000\n",
      "63/63 [==============================] - 1s 13ms/step - loss: 0.0614 - val_loss: 0.2280\n",
      "Epoch 141/1000\n",
      "63/63 [==============================] - 1s 12ms/step - loss: 0.0623 - val_loss: 0.2260\n",
      "Epoch 142/1000\n",
      "63/63 [==============================] - 1s 12ms/step - loss: 0.0605 - val_loss: 0.2207\n",
      "Epoch 143/1000\n",
      "63/63 [==============================] - 1s 12ms/step - loss: 0.0604 - val_loss: 0.2212\n",
      "Epoch 144/1000\n",
      "63/63 [==============================] - 1s 12ms/step - loss: 0.0605 - val_loss: 0.2242\n",
      "Epoch 145/1000\n",
      "63/63 [==============================] - 1s 12ms/step - loss: 0.0599 - val_loss: 0.2256\n",
      "Epoch 146/1000\n",
      "63/63 [==============================] - 1s 12ms/step - loss: 0.0594 - val_loss: 0.2273\n",
      "Epoch 147/1000\n",
      "63/63 [==============================] - 1s 12ms/step - loss: 0.0603 - val_loss: 0.2180\n",
      "Epoch 148/1000\n",
      "63/63 [==============================] - 1s 12ms/step - loss: 0.0586 - val_loss: 0.2267\n",
      "Epoch 149/1000\n",
      "63/63 [==============================] - 1s 11ms/step - loss: 0.0590 - val_loss: 0.2305\n",
      "Epoch 150/1000\n",
      "63/63 [==============================] - 1s 12ms/step - loss: 0.0592 - val_loss: 0.2328\n",
      "Epoch 151/1000\n",
      "63/63 [==============================] - 1s 12ms/step - loss: 0.0592 - val_loss: 0.2207\n",
      "Epoch 152/1000\n",
      "63/63 [==============================] - 1s 12ms/step - loss: 0.0591 - val_loss: 0.2141\n",
      "Epoch 153/1000\n",
      "63/63 [==============================] - 1s 12ms/step - loss: 0.0585 - val_loss: 0.2177\n",
      "Epoch 154/1000\n",
      "63/63 [==============================] - 1s 12ms/step - loss: 0.0567 - val_loss: 0.2213\n",
      "Epoch 155/1000\n",
      "63/63 [==============================] - 1s 12ms/step - loss: 0.0577 - val_loss: 0.2109\n",
      "Epoch 156/1000\n",
      "63/63 [==============================] - 1s 12ms/step - loss: 0.0577 - val_loss: 0.2239\n",
      "Epoch 157/1000\n",
      "63/63 [==============================] - 1s 13ms/step - loss: 0.0575 - val_loss: 0.2295\n",
      "Epoch 158/1000\n",
      "63/63 [==============================] - 1s 13ms/step - loss: 0.0569 - val_loss: 0.2181\n",
      "Epoch 159/1000\n",
      "63/63 [==============================] - 1s 13ms/step - loss: 0.0566 - val_loss: 0.2105\n",
      "Epoch 160/1000\n",
      "63/63 [==============================] - 1s 13ms/step - loss: 0.0568 - val_loss: 0.2170\n",
      "Epoch 161/1000\n",
      "63/63 [==============================] - 1s 12ms/step - loss: 0.0566 - val_loss: 0.2154\n",
      "Epoch 162/1000\n",
      "63/63 [==============================] - 1s 13ms/step - loss: 0.0557 - val_loss: 0.2114\n",
      "Epoch 163/1000\n",
      "63/63 [==============================] - 1s 12ms/step - loss: 0.0558 - val_loss: 0.2127\n",
      "Epoch 164/1000\n",
      "63/63 [==============================] - 1s 12ms/step - loss: 0.0556 - val_loss: 0.2256\n",
      "Epoch 165/1000\n",
      "63/63 [==============================] - 1s 12ms/step - loss: 0.0557 - val_loss: 0.2174\n",
      "Epoch 166/1000\n",
      "63/63 [==============================] - 1s 12ms/step - loss: 0.0550 - val_loss: 0.2109\n",
      "Epoch 167/1000\n",
      "63/63 [==============================] - 1s 11ms/step - loss: 0.0552 - val_loss: 0.2125\n",
      "Epoch 168/1000\n",
      "63/63 [==============================] - 1s 12ms/step - loss: 0.0550 - val_loss: 0.2150\n",
      "Epoch 169/1000\n",
      "63/63 [==============================] - 1s 11ms/step - loss: 0.0551 - val_loss: 0.2124\n",
      "Epoch 170/1000\n",
      "63/63 [==============================] - 1s 13ms/step - loss: 0.0544 - val_loss: 0.2138\n",
      "Epoch 171/1000\n",
      "63/63 [==============================] - 1s 12ms/step - loss: 0.0548 - val_loss: 0.2210\n",
      "Epoch 172/1000\n",
      "63/63 [==============================] - 1s 13ms/step - loss: 0.0539 - val_loss: 0.2153\n",
      "Epoch 173/1000\n",
      "63/63 [==============================] - 1s 12ms/step - loss: 0.0543 - val_loss: 0.2110\n",
      "Epoch 174/1000\n",
      "63/63 [==============================] - 1s 10ms/step - loss: 0.0541 - val_loss: 0.2222\n",
      "Epoch 175/1000\n",
      "63/63 [==============================] - 1s 9ms/step - loss: 0.0542 - val_loss: 0.2139\n",
      "Epoch 176/1000\n",
      "63/63 [==============================] - 1s 9ms/step - loss: 0.0537 - val_loss: 0.2131\n",
      "Epoch 177/1000\n",
      "63/63 [==============================] - 1s 9ms/step - loss: 0.0536 - val_loss: 0.2077\n",
      "Epoch 178/1000\n",
      "63/63 [==============================] - 1s 9ms/step - loss: 0.0538 - val_loss: 0.2157\n",
      "Epoch 179/1000\n",
      "63/63 [==============================] - 1s 9ms/step - loss: 0.0531 - val_loss: 0.2339\n",
      "Epoch 180/1000\n",
      "63/63 [==============================] - 1s 11ms/step - loss: 0.0534 - val_loss: 0.2239\n",
      "Epoch 181/1000\n",
      "63/63 [==============================] - 1s 11ms/step - loss: 0.0534 - val_loss: 0.2124\n",
      "Epoch 182/1000\n",
      "63/63 [==============================] - 1s 11ms/step - loss: 0.0527 - val_loss: 0.2144\n",
      "Epoch 183/1000\n",
      "63/63 [==============================] - 1s 11ms/step - loss: 0.0526 - val_loss: 0.2142\n",
      "Epoch 184/1000\n",
      "63/63 [==============================] - 1s 11ms/step - loss: 0.0532 - val_loss: 0.2169\n",
      "Epoch 185/1000\n",
      "63/63 [==============================] - 1s 11ms/step - loss: 0.0529 - val_loss: 0.2134\n",
      "Epoch 186/1000\n",
      "63/63 [==============================] - 1s 10ms/step - loss: 0.0524 - val_loss: 0.2145\n",
      "Epoch 187/1000\n",
      "63/63 [==============================] - 1s 11ms/step - loss: 0.0522 - val_loss: 0.2177\n",
      "Epoch 188/1000\n",
      "63/63 [==============================] - 1s 11ms/step - loss: 0.0528 - val_loss: 0.2236\n",
      "Epoch 189/1000\n",
      "63/63 [==============================] - 1s 10ms/step - loss: 0.0523 - val_loss: 0.2109\n",
      "Epoch 190/1000\n",
      "63/63 [==============================] - 1s 11ms/step - loss: 0.0516 - val_loss: 0.2163\n",
      "Epoch 191/1000\n",
      "63/63 [==============================] - 1s 11ms/step - loss: 0.0515 - val_loss: 0.2184\n",
      "Epoch 192/1000\n",
      "63/63 [==============================] - 1s 10ms/step - loss: 0.0517 - val_loss: 0.2161\n",
      "Epoch 193/1000\n",
      "63/63 [==============================] - 1s 11ms/step - loss: 0.0517 - val_loss: 0.2229\n",
      "Epoch 194/1000\n",
      "63/63 [==============================] - 1s 11ms/step - loss: 0.0525 - val_loss: 0.2186\n",
      "Epoch 195/1000\n",
      "63/63 [==============================] - 1s 11ms/step - loss: 0.0520 - val_loss: 0.2051\n",
      "Epoch 196/1000\n",
      "63/63 [==============================] - 1s 10ms/step - loss: 0.0508 - val_loss: 0.2087\n",
      "Epoch 197/1000\n",
      "63/63 [==============================] - 1s 11ms/step - loss: 0.0514 - val_loss: 0.2218\n",
      "Epoch 198/1000\n",
      "63/63 [==============================] - 1s 11ms/step - loss: 0.0511 - val_loss: 0.2094\n",
      "Epoch 199/1000\n",
      "63/63 [==============================] - 1s 11ms/step - loss: 0.0506 - val_loss: 0.2152\n",
      "Epoch 200/1000\n",
      "63/63 [==============================] - 1s 11ms/step - loss: 0.0503 - val_loss: 0.2176\n",
      "Epoch 201/1000\n",
      "63/63 [==============================] - 1s 11ms/step - loss: 0.0520 - val_loss: 0.2133\n",
      "Epoch 202/1000\n",
      "63/63 [==============================] - 1s 11ms/step - loss: 0.0515 - val_loss: 0.2178\n",
      "Epoch 203/1000\n",
      "63/63 [==============================] - 1s 11ms/step - loss: 0.0503 - val_loss: 0.2044\n",
      "Epoch 204/1000\n",
      "63/63 [==============================] - 1s 11ms/step - loss: 0.0508 - val_loss: 0.2126\n",
      "Epoch 205/1000\n",
      "63/63 [==============================] - 1s 11ms/step - loss: 0.0508 - val_loss: 0.2101\n",
      "Epoch 206/1000\n",
      "63/63 [==============================] - 1s 10ms/step - loss: 0.0505 - val_loss: 0.2198\n",
      "Epoch 207/1000\n",
      "63/63 [==============================] - 1s 11ms/step - loss: 0.0501 - val_loss: 0.2131\n",
      "Epoch 208/1000\n",
      "63/63 [==============================] - 1s 12ms/step - loss: 0.0509 - val_loss: 0.2134\n",
      "Epoch 209/1000\n",
      "63/63 [==============================] - 1s 12ms/step - loss: 0.0507 - val_loss: 0.2230\n",
      "Epoch 210/1000\n",
      "63/63 [==============================] - 1s 12ms/step - loss: 0.0497 - val_loss: 0.2226\n",
      "Epoch 211/1000\n",
      "63/63 [==============================] - 1s 11ms/step - loss: 0.0506 - val_loss: 0.2092\n",
      "Epoch 212/1000\n",
      "63/63 [==============================] - 1s 12ms/step - loss: 0.0501 - val_loss: 0.2123\n",
      "Epoch 213/1000\n",
      "63/63 [==============================] - 1s 12ms/step - loss: 0.0503 - val_loss: 0.2079\n",
      "Epoch 214/1000\n",
      "63/63 [==============================] - 1s 13ms/step - loss: 0.0495 - val_loss: 0.2153\n",
      "Epoch 215/1000\n",
      "63/63 [==============================] - 1s 11ms/step - loss: 0.0494 - val_loss: 0.2118\n",
      "Epoch 216/1000\n",
      "63/63 [==============================] - 1s 11ms/step - loss: 0.0496 - val_loss: 0.2078\n",
      "Epoch 217/1000\n",
      "63/63 [==============================] - 1s 12ms/step - loss: 0.0497 - val_loss: 0.2101\n",
      "Epoch 218/1000\n",
      "63/63 [==============================] - 1s 13ms/step - loss: 0.0501 - val_loss: 0.2117\n",
      "Epoch 219/1000\n",
      "63/63 [==============================] - 1s 12ms/step - loss: 0.0495 - val_loss: 0.2135\n",
      "Epoch 220/1000\n",
      "63/63 [==============================] - 1s 12ms/step - loss: 0.0490 - val_loss: 0.2003\n",
      "Epoch 221/1000\n",
      "63/63 [==============================] - 1s 12ms/step - loss: 0.0495 - val_loss: 0.2131\n",
      "Epoch 222/1000\n",
      "63/63 [==============================] - 1s 12ms/step - loss: 0.0496 - val_loss: 0.2097\n",
      "Epoch 223/1000\n",
      "63/63 [==============================] - 1s 12ms/step - loss: 0.0489 - val_loss: 0.2117\n",
      "Epoch 224/1000\n",
      "63/63 [==============================] - 1s 12ms/step - loss: 0.0485 - val_loss: 0.2019\n",
      "Epoch 225/1000\n",
      "63/63 [==============================] - 1s 11ms/step - loss: 0.0486 - val_loss: 0.2173\n",
      "Epoch 226/1000\n",
      "63/63 [==============================] - 1s 12ms/step - loss: 0.0487 - val_loss: 0.2159\n",
      "Epoch 227/1000\n",
      "63/63 [==============================] - 1s 11ms/step - loss: 0.0494 - val_loss: 0.2098\n",
      "Epoch 228/1000\n",
      "63/63 [==============================] - 1s 11ms/step - loss: 0.0489 - val_loss: 0.2281\n",
      "Epoch 229/1000\n",
      "63/63 [==============================] - 1s 10ms/step - loss: 0.0488 - val_loss: 0.2133\n",
      "Epoch 230/1000\n",
      "63/63 [==============================] - 1s 11ms/step - loss: 0.0489 - val_loss: 0.2200\n",
      "Epoch 231/1000\n",
      "63/63 [==============================] - 1s 12ms/step - loss: 0.0486 - val_loss: 0.2102\n",
      "Epoch 232/1000\n",
      "63/63 [==============================] - 1s 12ms/step - loss: 0.0486 - val_loss: 0.2043\n",
      "Epoch 233/1000\n",
      "63/63 [==============================] - 1s 12ms/step - loss: 0.0483 - val_loss: 0.2063\n",
      "Epoch 234/1000\n",
      "63/63 [==============================] - 1s 11ms/step - loss: 0.0482 - val_loss: 0.2069\n",
      "Epoch 235/1000\n",
      "63/63 [==============================] - 1s 12ms/step - loss: 0.0484 - val_loss: 0.2184\n",
      "Epoch 236/1000\n",
      "63/63 [==============================] - 1s 11ms/step - loss: 0.0490 - val_loss: 0.2190\n",
      "Epoch 237/1000\n",
      "63/63 [==============================] - 1s 11ms/step - loss: 0.0481 - val_loss: 0.2140\n",
      "Epoch 238/1000\n",
      "63/63 [==============================] - 1s 11ms/step - loss: 0.0482 - val_loss: 0.2034\n",
      "Epoch 239/1000\n",
      "63/63 [==============================] - 1s 11ms/step - loss: 0.0481 - val_loss: 0.2116\n",
      "Epoch 240/1000\n",
      "63/63 [==============================] - 1s 11ms/step - loss: 0.0479 - val_loss: 0.2190\n",
      "Epoch 241/1000\n",
      "63/63 [==============================] - 1s 11ms/step - loss: 0.0486 - val_loss: 0.2117\n",
      "Epoch 242/1000\n",
      "63/63 [==============================] - 1s 12ms/step - loss: 0.0479 - val_loss: 0.2113\n",
      "Epoch 243/1000\n",
      "63/63 [==============================] - 1s 10ms/step - loss: 0.0480 - val_loss: 0.2096\n",
      "Epoch 244/1000\n",
      "63/63 [==============================] - 1s 12ms/step - loss: 0.0480 - val_loss: 0.2141\n",
      "Epoch 245/1000\n",
      "63/63 [==============================] - 1s 11ms/step - loss: 0.0478 - val_loss: 0.2082\n",
      "Epoch 246/1000\n",
      "63/63 [==============================] - 1s 11ms/step - loss: 0.0473 - val_loss: 0.2162\n",
      "Epoch 247/1000\n",
      "63/63 [==============================] - 1s 12ms/step - loss: 0.0479 - val_loss: 0.2077\n",
      "Epoch 248/1000\n",
      "63/63 [==============================] - 1s 11ms/step - loss: 0.0477 - val_loss: 0.2114\n",
      "Epoch 249/1000\n",
      "63/63 [==============================] - 1s 11ms/step - loss: 0.0474 - val_loss: 0.2091\n",
      "Epoch 250/1000\n",
      "63/63 [==============================] - 1s 11ms/step - loss: 0.0472 - val_loss: 0.2089\n",
      "Epoch 251/1000\n",
      "63/63 [==============================] - 1s 11ms/step - loss: 0.0481 - val_loss: 0.2100\n",
      "Epoch 252/1000\n",
      "63/63 [==============================] - 1s 11ms/step - loss: 0.0474 - val_loss: 0.2183\n",
      "Epoch 253/1000\n",
      "63/63 [==============================] - 1s 11ms/step - loss: 0.0480 - val_loss: 0.2145\n",
      "Epoch 254/1000\n",
      "63/63 [==============================] - 1s 11ms/step - loss: 0.0471 - val_loss: 0.2243\n",
      "Epoch 255/1000\n",
      "63/63 [==============================] - 1s 11ms/step - loss: 0.0468 - val_loss: 0.2154\n",
      "Epoch 256/1000\n",
      "63/63 [==============================] - 1s 11ms/step - loss: 0.0477 - val_loss: 0.2154\n",
      "Epoch 257/1000\n",
      "63/63 [==============================] - 1s 12ms/step - loss: 0.0472 - val_loss: 0.2099\n",
      "Epoch 258/1000\n",
      "63/63 [==============================] - 1s 13ms/step - loss: 0.0474 - val_loss: 0.2136\n",
      "Epoch 259/1000\n",
      "63/63 [==============================] - 1s 13ms/step - loss: 0.0468 - val_loss: 0.2101\n",
      "Epoch 260/1000\n",
      "63/63 [==============================] - 1s 13ms/step - loss: 0.0473 - val_loss: 0.2042\n",
      "Epoch 261/1000\n",
      "63/63 [==============================] - 1s 13ms/step - loss: 0.0469 - val_loss: 0.2204\n",
      "Epoch 262/1000\n",
      "63/63 [==============================] - 1s 13ms/step - loss: 0.0472 - val_loss: 0.2187\n",
      "Epoch 263/1000\n",
      "63/63 [==============================] - 1s 12ms/step - loss: 0.0469 - val_loss: 0.2125\n",
      "Epoch 264/1000\n",
      "63/63 [==============================] - 1s 12ms/step - loss: 0.0464 - val_loss: 0.2083\n",
      "Epoch 265/1000\n",
      "63/63 [==============================] - 1s 13ms/step - loss: 0.0469 - val_loss: 0.2133\n",
      "Epoch 266/1000\n",
      "63/63 [==============================] - 1s 12ms/step - loss: 0.0470 - val_loss: 0.2156\n",
      "Epoch 267/1000\n",
      "63/63 [==============================] - 1s 12ms/step - loss: 0.0467 - val_loss: 0.2044\n",
      "Epoch 268/1000\n",
      "63/63 [==============================] - 1s 11ms/step - loss: 0.0468 - val_loss: 0.2140\n",
      "Epoch 269/1000\n",
      "63/63 [==============================] - 1s 11ms/step - loss: 0.0470 - val_loss: 0.2150\n",
      "Epoch 270/1000\n",
      "63/63 [==============================] - 1s 12ms/step - loss: 0.0473 - val_loss: 0.2066\n",
      "Epoch 271/1000\n",
      "63/63 [==============================] - 1s 13ms/step - loss: 0.0461 - val_loss: 0.2108\n",
      "Epoch 272/1000\n",
      "63/63 [==============================] - 1s 12ms/step - loss: 0.0465 - val_loss: 0.2097\n",
      "Epoch 273/1000\n",
      "63/63 [==============================] - 1s 12ms/step - loss: 0.0464 - val_loss: 0.2166\n",
      "Epoch 274/1000\n",
      "63/63 [==============================] - 1s 12ms/step - loss: 0.0461 - val_loss: 0.2091\n",
      "Epoch 275/1000\n",
      "63/63 [==============================] - 1s 11ms/step - loss: 0.0460 - val_loss: 0.2118\n",
      "Epoch 276/1000\n",
      "63/63 [==============================] - 1s 13ms/step - loss: 0.0468 - val_loss: 0.2183\n",
      "Epoch 277/1000\n",
      "63/63 [==============================] - 1s 13ms/step - loss: 0.0468 - val_loss: 0.2113\n",
      "Epoch 278/1000\n",
      "63/63 [==============================] - 1s 13ms/step - loss: 0.0466 - val_loss: 0.2054\n",
      "Epoch 279/1000\n",
      "63/63 [==============================] - 1s 13ms/step - loss: 0.0458 - val_loss: 0.2132\n",
      "Epoch 280/1000\n",
      "63/63 [==============================] - 1s 12ms/step - loss: 0.0456 - val_loss: 0.2089\n",
      "Epoch 281/1000\n",
      "63/63 [==============================] - 1s 12ms/step - loss: 0.0459 - val_loss: 0.2202\n",
      "Epoch 282/1000\n",
      "63/63 [==============================] - 1s 12ms/step - loss: 0.0465 - val_loss: 0.2163\n",
      "Epoch 283/1000\n",
      "63/63 [==============================] - 1s 11ms/step - loss: 0.0466 - val_loss: 0.2114\n",
      "Epoch 284/1000\n",
      "63/63 [==============================] - 1s 12ms/step - loss: 0.0458 - val_loss: 0.2086\n",
      "Epoch 285/1000\n",
      "63/63 [==============================] - 1s 12ms/step - loss: 0.0468 - val_loss: 0.2127\n",
      "Epoch 286/1000\n",
      "63/63 [==============================] - 1s 12ms/step - loss: 0.0460 - val_loss: 0.2038\n",
      "Epoch 287/1000\n",
      "63/63 [==============================] - 1s 12ms/step - loss: 0.0459 - val_loss: 0.2135\n",
      "Epoch 288/1000\n",
      "63/63 [==============================] - 1s 11ms/step - loss: 0.0458 - val_loss: 0.2144\n",
      "Epoch 289/1000\n",
      "63/63 [==============================] - 1s 12ms/step - loss: 0.0457 - val_loss: 0.2167\n",
      "Epoch 290/1000\n",
      "63/63 [==============================] - 1s 12ms/step - loss: 0.0456 - val_loss: 0.2110\n",
      "Epoch 291/1000\n",
      "63/63 [==============================] - 1s 11ms/step - loss: 0.0452 - val_loss: 0.2074\n",
      "Epoch 292/1000\n",
      "63/63 [==============================] - 1s 11ms/step - loss: 0.0453 - val_loss: 0.2059\n",
      "Epoch 293/1000\n",
      "63/63 [==============================] - 1s 11ms/step - loss: 0.0456 - val_loss: 0.2149\n",
      "Epoch 294/1000\n",
      "63/63 [==============================] - 1s 10ms/step - loss: 0.0455 - val_loss: 0.2053\n",
      "Epoch 295/1000\n",
      "63/63 [==============================] - 1s 10ms/step - loss: 0.0452 - val_loss: 0.2093\n",
      "Epoch 296/1000\n",
      "63/63 [==============================] - 1s 11ms/step - loss: 0.0456 - val_loss: 0.2043\n",
      "Epoch 297/1000\n",
      "63/63 [==============================] - 1s 11ms/step - loss: 0.0454 - val_loss: 0.2048\n",
      "Epoch 298/1000\n",
      "63/63 [==============================] - 1s 11ms/step - loss: 0.0455 - val_loss: 0.2219\n",
      "Epoch 299/1000\n",
      "63/63 [==============================] - 1s 12ms/step - loss: 0.0453 - val_loss: 0.2061\n",
      "Epoch 300/1000\n",
      "63/63 [==============================] - 1s 11ms/step - loss: 0.0456 - val_loss: 0.2087\n",
      "Epoch 301/1000\n",
      "63/63 [==============================] - 1s 13ms/step - loss: 0.0450 - val_loss: 0.2238\n",
      "Epoch 302/1000\n",
      "63/63 [==============================] - 1s 12ms/step - loss: 0.0453 - val_loss: 0.2068\n",
      "Epoch 303/1000\n",
      "63/63 [==============================] - 1s 12ms/step - loss: 0.0455 - val_loss: 0.2103\n",
      "Epoch 304/1000\n",
      "63/63 [==============================] - 1s 11ms/step - loss: 0.0462 - val_loss: 0.2199\n",
      "Epoch 305/1000\n",
      "63/63 [==============================] - 1s 11ms/step - loss: 0.0451 - val_loss: 0.2161\n",
      "Epoch 306/1000\n",
      "63/63 [==============================] - 1s 11ms/step - loss: 0.0455 - val_loss: 0.2054\n",
      "Epoch 307/1000\n",
      "63/63 [==============================] - 1s 11ms/step - loss: 0.0454 - val_loss: 0.2159\n",
      "Epoch 308/1000\n",
      "63/63 [==============================] - 1s 11ms/step - loss: 0.0452 - val_loss: 0.2101\n",
      "Epoch 309/1000\n",
      "63/63 [==============================] - 1s 12ms/step - loss: 0.0450 - val_loss: 0.2150\n",
      "Epoch 310/1000\n",
      "63/63 [==============================] - 1s 12ms/step - loss: 0.0444 - val_loss: 0.2096\n",
      "Epoch 311/1000\n",
      "63/63 [==============================] - 1s 12ms/step - loss: 0.0453 - val_loss: 0.2129\n",
      "Epoch 312/1000\n",
      "63/63 [==============================] - 1s 12ms/step - loss: 0.0445 - val_loss: 0.2136\n",
      "Epoch 313/1000\n",
      "63/63 [==============================] - 1s 12ms/step - loss: 0.0449 - val_loss: 0.2136\n",
      "Epoch 314/1000\n",
      "63/63 [==============================] - 1s 12ms/step - loss: 0.0444 - val_loss: 0.2105\n",
      "Epoch 315/1000\n",
      "63/63 [==============================] - 1s 12ms/step - loss: 0.0446 - val_loss: 0.2150\n",
      "Epoch 316/1000\n",
      "63/63 [==============================] - 1s 12ms/step - loss: 0.0443 - val_loss: 0.2101\n",
      "Epoch 317/1000\n",
      "63/63 [==============================] - 1s 12ms/step - loss: 0.0444 - val_loss: 0.2069\n",
      "Epoch 318/1000\n",
      "63/63 [==============================] - 1s 12ms/step - loss: 0.0450 - val_loss: 0.2106\n",
      "Epoch 319/1000\n",
      "63/63 [==============================] - 1s 13ms/step - loss: 0.0439 - val_loss: 0.2159\n",
      "Epoch 320/1000\n",
      "63/63 [==============================] - 1s 12ms/step - loss: 0.0447 - val_loss: 0.2187\n"
     ]
    }
   ],
   "source": [
    "history = model_PI_second_type.fit([tf_data_train_1, tf_data_train_2], PI_train_0, epochs=1000, \n",
    "                       validation_data=([tf_data_test_1, tf_data_test_2], clean_PI_test_0), callbacks=[callback], verbose=1)"
   ]
  },
  {
   "cell_type": "code",
   "execution_count": 38,
   "id": "d1ee54fa-2b8e-463c-bb55-32863c64b9f0",
   "metadata": {},
   "outputs": [
    {
     "data": {
      "image/png": "[encoded data removed]",
      "text/plain": [
       "<Figure size 640x480 with 1 Axes>"
      ]
     },
     "metadata": {},
     "output_type": "display_data"
    }
   ],
   "source": [
    "plt.plot(np.array(history.history[\"loss\"][20:]))\n",
    "plt.plot(np.array(history.history[\"val_loss\"][20:]))\n",
    "plt.legend([\"loss\", \"val_loss\"])\n",
    "plt.show()"
   ]
  },
  {
   "cell_type": "code",
   "execution_count": 39,
   "id": "0026458b-b158-4589-9316-357ea9e8062f",
   "metadata": {},
   "outputs": [],
   "source": [
    "train_PI_prediction_0 = model_PI_second_type.predict([tf_data_train_1, tf_data_train_2])\n",
    "clean_PI_prediction_0 = model_PI_second_type.predict([tf_data_test_1, tf_data_test_2])"
   ]
  },
  {
   "cell_type": "markdown",
   "id": "8953d3ca-b1b2-4177-b5c2-d830d01430f2",
   "metadata": {},
   "source": [
    "---"
   ]
  },
  {
   "cell_type": "code",
   "execution_count": 46,
   "id": "2d04afc8-75fb-4f07-8fd9-49a0fc4630cd",
   "metadata": {},
   "outputs": [
    {
     "data": {
      "image/png": "[encoded data removed]",
      "text/plain": [
       "<Figure size 800x1000 with 6 Axes>"
      ]
     },
     "metadata": {},
     "output_type": "display_data"
    }
   ],
   "source": [
    "# Настройки стиля для статьи\n",
    "plt.style.use('seaborn-v0_8-whitegrid')\n",
    "\n",
    "# Размеры и параметры шрифта\n",
    "fig, axes = plt.subplots(3, 2, figsize=(8, 10), constrained_layout=True)\n",
    "# fig.suptitle(\"Comparison of Real and Predicted Density\", fontsize=18, fontweight='bold')\n",
    "\n",
    "for i in range(3):\n",
    "    # Реальная плотность (левая колонка)\n",
    "    ax = axes[i, 0]\n",
    "    im = ax.imshow(np.flip(np.reshape(PI_train_0[200*i+1], (50,50)), 0), cmap='jet', aspect='auto')\n",
    "    ax.set_xticks([])\n",
    "    ax.set_yticks([])\n",
    "    if i == 0:\n",
    "        ax.set_title(\"Real\", fontsize=14, fontweight='bold')\n",
    "    \n",
    "    # Предсказанная плотность (правая колонка)\n",
    "    ax = axes[i, 1]\n",
    "    im = ax.imshow(np.flip(np.reshape(train_PI_prediction_0[200*i+1], (50,50)), 0), cmap='jet', aspect='auto')\n",
    "    ax.set_xticks([])\n",
    "    ax.set_yticks([])\n",
    "    if i == 0:\n",
    "        ax.set_title(\"Predicted\", fontsize=14, fontweight='bold')\n",
    "\n",
    "\n",
    "# Сохранение графика в формате для статьи\n",
    "plt.savefig(\"comparison_plot_text_0_train.png\", dpi=300)\n",
    "plt.show()"
   ]
  },
  {
   "cell_type": "code",
   "execution_count": 45,
   "id": "ca63763c-b625-45f4-9e11-b03f7ce46d57",
   "metadata": {},
   "outputs": [
    {
     "data": {
      "image/png": "[encoded data removed]",
      "text/plain": [
       "<Figure size 800x1000 with 6 Axes>"
      ]
     },
     "metadata": {},
     "output_type": "display_data"
    }
   ],
   "source": [
    "# Настройки стиля для статьи\n",
    "plt.style.use('seaborn-v0_8-whitegrid')\n",
    "\n",
    "# Размеры и параметры шрифта\n",
    "fig, axes = plt.subplots(3, 2, figsize=(8, 10), constrained_layout=True)\n",
    "# fig.suptitle(\"Comparison of Real and Predicted Density\", fontsize=18, fontweight='bold')\n",
    "\n",
    "for i in range(3):\n",
    "    # Реальная плотность (левая колонка)\n",
    "    ax = axes[i, 0]\n",
    "    im = ax.imshow(np.flip(np.reshape(clean_PI_test_0[100*i+i+60], (50,50)), 0), cmap='jet', aspect='auto')\n",
    "    ax.set_xticks([])\n",
    "    ax.set_yticks([])\n",
    "    if i == 0:\n",
    "        ax.set_title(\"Real\", fontsize=14, fontweight='bold')\n",
    "    \n",
    "    # Предсказанная плотность (правая колонка)\n",
    "    ax = axes[i, 1]\n",
    "    im = ax.imshow(np.flip(np.reshape(clean_PI_prediction_0[100*i+i+60], (50,50)), 0), cmap='jet', aspect='auto')\n",
    "    ax.set_xticks([])\n",
    "    ax.set_yticks([])\n",
    "    if i == 0:\n",
    "        ax.set_title(\"Predicted\", fontsize=14, fontweight='bold')\n",
    "\n",
    "\n",
    "# Сохранение графика в формате для статьи\n",
    "plt.savefig(\"comparison_plot_text_0_test.png\", dpi=300)\n",
    "plt.show()"
   ]
  },
  {
   "cell_type": "code",
   "execution_count": null,
   "id": "3c0cac86-43e7-4c38-9c54-df43590ebf8a",
   "metadata": {},
   "outputs": [],
   "source": []
  }
 ],
 "metadata": {
  "kernelspec": {
   "display_name": "Python 3 (ipykernel)",
   "language": "python",
   "name": "python3"
  },
  "language_info": {
   "codemirror_mode": {
    "name": "ipython",
    "version": 3
   },
   "file_extension": ".py",
   "mimetype": "text/x-python",
   "name": "python",
   "nbconvert_exporter": "python",
   "pygments_lexer": "ipython3",
   "version": "3.10.11"
  }
 },
 "nbformat": 4,
 "nbformat_minor": 5
}
