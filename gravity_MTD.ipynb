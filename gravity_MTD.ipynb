{
 "cells": [
  {
   "cell_type": "code",
   "execution_count": 8,
   "id": "a1c6e59e-c1e3-49f2-8e92-7ef47f03d35a",
   "metadata": {
    "execution": {
     "iopub.execute_input": "2024-02-15T09:01:00.381258Z",
     "iopub.status.busy": "2024-02-15T09:01:00.380137Z",
     "iopub.status.idle": "2024-02-15T09:01:05.770291Z",
     "shell.execute_reply": "2024-02-15T09:01:05.769484Z",
     "shell.execute_reply.started": "2024-02-15T09:01:00.381189Z"
    }
   },
   "outputs": [
    {
     "name": "stdout",
     "output_type": "stream",
     "text": [
      "Number of noisy signals: 1000\n",
      "Number of timesteps per series: 8692\n"
     ]
    }
   ],
   "source": [
    "from giotto_tda.examples.data.generate_datasets import make_gravitational_waves\n",
    "from pathlib import Path\n",
    "import numpy as np\n",
    "\n",
    "R = 0.65\n",
    "n_signals = 1000\n",
    "DATA = Path(\"./giotto_tda/examples/data\")\n",
    "\n",
    "noisy_signals, gw_signals, labels = make_gravitational_waves(\n",
    "    path_to_data=DATA, n_signals=n_signals, r_min=R, r_max=R, n_snr_values=1\n",
    ")\n",
    "\n",
    "print(f\"Number of noisy signals: {len(noisy_signals)}\")\n",
    "print(f\"Number of timesteps per series: {len(noisy_signals[0])}\")"
   ]
  },
  {
   "cell_type": "code",
   "execution_count": 9,
   "id": "352bb58b-f443-4388-a1c6-63783a8d00c6",
   "metadata": {
    "execution": {
     "iopub.execute_input": "2024-02-15T09:01:05.772073Z",
     "iopub.status.busy": "2024-02-15T09:01:05.771718Z",
     "iopub.status.idle": "2024-02-15T09:01:05.776997Z",
     "shell.execute_reply": "2024-02-15T09:01:05.776305Z",
     "shell.execute_reply.started": "2024-02-15T09:01:05.772040Z"
    }
   },
   "outputs": [
    {
     "data": {
      "text/plain": [
       "(8692,)"
      ]
     },
     "execution_count": 9,
     "metadata": {},
     "output_type": "execute_result"
    }
   ],
   "source": [
    "noisy_signals[0].shape"
   ]
  },
  {
   "cell_type": "code",
   "execution_count": 10,
   "id": "8b7047c4-5747-4cf6-be07-71d5f1b7a037",
   "metadata": {
    "execution": {
     "iopub.execute_input": "2024-02-15T09:01:05.778448Z",
     "iopub.status.busy": "2024-02-15T09:01:05.777908Z",
     "iopub.status.idle": "2024-02-15T09:01:05.864261Z",
     "shell.execute_reply": "2024-02-15T09:01:05.863084Z",
     "shell.execute_reply.started": "2024-02-15T09:01:05.778415Z"
    }
   },
   "outputs": [
    {
     "data": {
      "text/plain": [
       "(8192,)"
      ]
     },
     "execution_count": 10,
     "metadata": {},
     "output_type": "execute_result"
    }
   ],
   "source": [
    "gw_signals[0].shape"
   ]
  },
  {
   "cell_type": "code",
   "execution_count": 11,
   "id": "93569475-368a-41ec-b449-960e2ac3e716",
   "metadata": {
    "execution": {
     "iopub.execute_input": "2024-02-15T09:01:05.866575Z",
     "iopub.status.busy": "2024-02-15T09:01:05.866228Z",
     "iopub.status.idle": "2024-02-15T09:01:05.958124Z",
     "shell.execute_reply": "2024-02-15T09:01:05.871891Z",
     "shell.execute_reply.started": "2024-02-15T09:01:05.866543Z"
    }
   },
   "outputs": [],
   "source": [
    "padded_gw_signal = np.pad(gw_signals[0], (0,len(noisy_signals[0]) - len(gw_signals[0])), \"constant\",constant_values= 0).reshape(1, -1)"
   ]
  },
  {
   "cell_type": "code",
   "execution_count": 12,
   "id": "048a1ec1-92b2-4450-8e11-bb024465b28f",
   "metadata": {
    "execution": {
     "iopub.execute_input": "2024-02-15T09:01:05.976861Z",
     "iopub.status.busy": "2024-02-15T09:01:05.976450Z",
     "iopub.status.idle": "2024-02-15T09:01:05.983402Z",
     "shell.execute_reply": "2024-02-15T09:01:05.982346Z",
     "shell.execute_reply.started": "2024-02-15T09:01:05.976827Z"
    }
   },
   "outputs": [
    {
     "data": {
      "text/plain": [
       "(1, 8692)"
      ]
     },
     "execution_count": 12,
     "metadata": {},
     "output_type": "execute_result"
    }
   ],
   "source": [
    "padded_gw_signal.shape"
   ]
  },
  {
   "cell_type": "code",
   "execution_count": null,
   "id": "c06c98ab-0c11-49e0-9647-3f9b90f1979b",
   "metadata": {},
   "outputs": [],
   "source": [
    "labels"
   ]
  },
  {
   "cell_type": "code",
   "execution_count": null,
   "id": "d895de05-cca5-4490-aa9a-ebccd46090d0",
   "metadata": {},
   "outputs": [],
   "source": [
    "import numpy as np\n",
    "from plotly.subplots import make_subplots\n",
    "import plotly.graph_objects as go\n",
    "\n",
    "# get the index corresponding to the first pure noise time series\n",
    "background_idx = np.argmin(labels)\n",
    "# get the index corresponding to the first noise + gravitational wave time series\n",
    "signal_idx = np.argmax(labels)\n",
    "\n",
    "ts_noise = noisy_signals[background_idx]\n",
    "ts_background = noisy_signals[signal_idx]\n",
    "ts_signal = gw_signals[signal_idx]\n",
    "\n",
    "fig = make_subplots(rows=1, cols=2)\n",
    "\n",
    "fig.add_trace(\n",
    "    go.Scatter(x=list(range(len(ts_noise))), y=ts_noise, mode=\"lines\", name=\"noise\"),\n",
    "    row=1,\n",
    "    col=1,\n",
    ")\n",
    "\n",
    "fig.add_trace(\n",
    "    go.Scatter(\n",
    "        x=list(range(len(ts_background))),\n",
    "        y=ts_background,\n",
    "        mode=\"lines\",\n",
    "        name=\"background\",\n",
    "    ),\n",
    "    row=1,\n",
    "    col=2,\n",
    ")\n",
    "\n",
    "fig.add_trace(\n",
    "    go.Scatter(x=list(range(len(ts_signal))), y=ts_signal, mode=\"lines\", name=\"signal\"),\n",
    "    row=1,\n",
    "    col=2,\n",
    ")\n",
    "fig.show()"
   ]
  },
  {
   "cell_type": "code",
   "execution_count": null,
   "id": "4b4333e4-aa36-4dda-90a6-59dd12be7ff3",
   "metadata": {},
   "outputs": [],
   "source": [
    "from gtda.time_series import SingleTakensEmbedding\n",
    "embedding_dimension = 200\n",
    "embedding_time_delay = 10\n",
    "stride = 10\n",
    "embedder = SingleTakensEmbedding(\n",
    "    parameters_type=\"search\", n_jobs=6, time_delay=embedding_time_delay, dimension=embedding_dimension, stride=stride\n",
    ")\n",
    "#signaal++noise\n",
    "y_gw_embedded = embedder.fit_transform(noisy_signals[signal_idx])\n",
    "y_gw_embedded.shape"
   ]
  },
  {
   "cell_type": "code",
   "execution_count": null,
   "id": "9fc35b2f-d29c-4fbe-93a5-c1ebf957697b",
   "metadata": {},
   "outputs": [],
   "source": [
    "embedding_dimension = 200\n",
    "embedding_time_delay = 10\n",
    "stride = 10\n",
    "\n",
    "embedder = SingleTakensEmbedding(\n",
    "    parameters_type=\"search\", n_jobs=6, time_delay=embedding_time_delay, dimension=embedding_dimension, stride=stride\n",
    ")\n",
    "\n",
    "y_noise_embedded = embedder.fit_transform(noisy_signals[background_idx])\n",
    "y_noise_embedded.shape"
   ]
  },
  {
   "cell_type": "code",
   "execution_count": null,
   "id": "a1640679-3589-4b21-8017-beec23e3d65d",
   "metadata": {
    "scrolled": true
   },
   "outputs": [],
   "source": [
    "import mtd\n",
    "n = 100\n",
    "barcs = [mtd.calc_cross_barcodes(y_gw_embedded, y_gw_embedded, batch_size1 = 300, batch_size2 = 600, pdist_device = \"cuda\", is_plot = False) for _ in range(n)]"
   ]
  },
  {
   "cell_type": "code",
   "execution_count": null,
   "id": "30f696ab-7f22-4d03-9800-6cbb8a06f264",
   "metadata": {},
   "outputs": [],
   "source": [
    "mtd_list_gw = [mtd.get_score(barc, 1, 'sum_length') for barc in barcs]"
   ]
  },
  {
   "cell_type": "code",
   "execution_count": null,
   "id": "31a6ebb5-cf57-43de-9f81-293c414a53db",
   "metadata": {},
   "outputs": [],
   "source": [
    "import mtd\n",
    "n = 100\n",
    "barcs = [mtd.calc_cross_barcodes(y_noise_embedded, y_noise_embedded, batch_size1 = 100, batch_size2 = 500, pdist_device = \"cuda\", is_plot = False) for _ in range(n)]"
   ]
  },
  {
   "cell_type": "code",
   "execution_count": null,
   "id": "ac55f169-2029-489a-9349-0ad674c29eee",
   "metadata": {},
   "outputs": [],
   "source": [
    "mtd_list_noise = [mtd.get_score(barc, 1, 'sum_length') for barc in barcs]"
   ]
  },
  {
   "cell_type": "code",
   "execution_count": null,
   "id": "194e5b09-49a1-4573-ad40-7534f2be9d7e",
   "metadata": {},
   "outputs": [],
   "source": [
    "import mtd\n",
    "n = 100\n",
    "barcs = [mtd.calc_cross_barcodes(y_gw_embedded, y_noise_embedded, batch_size1 = 100, batch_size2 = 500, pdist_device = \"cuda\", is_plot = False) for _ in range(n)]"
   ]
  },
  {
   "cell_type": "code",
   "execution_count": null,
   "id": "f413767a-cac6-4627-8750-42762430847e",
   "metadata": {},
   "outputs": [],
   "source": [
    "mtd_list_gw_noise = [mtd.get_score(barc, 1, 'sum_length') for barc in barcs]"
   ]
  },
  {
   "cell_type": "code",
   "execution_count": null,
   "id": "3af0ac3f-bf46-49f6-b272-18d2c4aa7df1",
   "metadata": {},
   "outputs": [],
   "source": [
    "import mtd\n",
    "n = 100\n",
    "barcs = [mtd.calc_cross_barcodes(y_noise_embedded , y_gw_embedded, batch_size1 = 100, batch_size2 = 500, pdist_device = \"cuda\", is_plot = False) for _ in range(n)]"
   ]
  },
  {
   "cell_type": "code",
   "execution_count": null,
   "id": "52384c08-7d6e-47f7-a7a4-a2deb7d5025e",
   "metadata": {},
   "outputs": [],
   "source": [
    "mtd_list_noise_gw = [mtd.get_score(barc, 1, 'sum_length') for barc in barcs]"
   ]
  },
  {
   "cell_type": "code",
   "execution_count": null,
   "id": "73d65597-d8c3-40a7-8a5a-b5ed74ceb270",
   "metadata": {},
   "outputs": [],
   "source": [
    "import seaborn as sns\n",
    "import matplotlib.pyplot as plt\n",
    "\n",
    "sns.kdeplot(mtd_list_noise, label=\"noise\")\n",
    "sns.kdeplot(mtd_list_gw,label=\"gw\")\n",
    "sns.kdeplot(mtd_list_gw_noise,label=\"gw_noise\")\n",
    "sns.kdeplot(mtd_list_noise_gw,label=\"noise_gw\")\n",
    "plt.legend()"
   ]
  },
  {
   "cell_type": "markdown",
   "id": "dfd8acf9-a05a-4e52-bd4a-4d6d1b0cf1c3",
   "metadata": {},
   "source": [
    "---"
   ]
  },
  {
   "cell_type": "markdown",
   "id": "6134e39b-120b-41bc-b549-ef03fcc74659",
   "metadata": {},
   "source": [
    "Let's check how it works on many examples"
   ]
  },
  {
   "cell_type": "code",
   "execution_count": null,
   "id": "32fc1ea6-1e10-421f-85b0-a8762c9e6f46",
   "metadata": {},
   "outputs": [],
   "source": [
    "from gtda.time_series import TakensEmbedding\n",
    "import numpy as np\n",
    "\n",
    "embedding_dimension = 200\n",
    "embedding_time_delay = 10\n",
    "stride = 10\n",
    "\n",
    "embedder = TakensEmbedding(time_delay=embedding_time_delay,\n",
    "                           dimension=embedding_dimension,\n",
    "                           stride=stride)"
   ]
  },
  {
   "cell_type": "code",
   "execution_count": null,
   "id": "c4a3069b-8482-4b4f-a25c-1a1588fc6a07",
   "metadata": {},
   "outputs": [],
   "source": [
    "features = np.array(embedder.fit_transform(noisy_signals))"
   ]
  },
  {
   "cell_type": "code",
   "execution_count": null,
   "id": "bd96830c-54c6-4760-8fc0-1773e452c075",
   "metadata": {},
   "outputs": [],
   "source": [
    "features.shape"
   ]
  },
  {
   "cell_type": "code",
   "execution_count": null,
   "id": "ddbc9638-f62f-44ba-bedb-ef8685afbb64",
   "metadata": {},
   "outputs": [],
   "source": [
    "noised_gw = features[labels==1]"
   ]
  },
  {
   "cell_type": "code",
   "execution_count": null,
   "id": "fd367bc3-2769-4d50-bfbb-3da358988137",
   "metadata": {},
   "outputs": [],
   "source": [
    "y_noise_embedded = features[0]"
   ]
  },
  {
   "cell_type": "code",
   "execution_count": null,
   "id": "c2887b23-b147-4ec5-9eed-39a768a47918",
   "metadata": {},
   "outputs": [],
   "source": [
    "noise = features[labels==0]"
   ]
  },
  {
   "cell_type": "code",
   "execution_count": null,
   "id": "436c4568-de2b-45b3-bbf7-67774b989d21",
   "metadata": {},
   "outputs": [],
   "source": [
    "import mtd\n",
    "from tqdm import tqdm\n",
    "\n",
    "mtd_noised_gw = []\n",
    "\n",
    "for cloud in tqdm(noised_gw):\n",
    "    mtd_noised_gw.append(mtd.calc_cross_barcodes(y_noise_embedded , cloud, batch_size1 = 100, batch_size2 = 500, pdist_device = \"cuda\", is_plot = False))"
   ]
  },
  {
   "cell_type": "code",
   "execution_count": null,
   "id": "fd664cd4-8d33-4083-beed-64092200f47b",
   "metadata": {},
   "outputs": [],
   "source": [
    "mtd_list_noise_gw = [mtd.get_score(barc, 1, 'sum_length') for barc in mtd_noised_gw]"
   ]
  },
  {
   "cell_type": "code",
   "execution_count": null,
   "id": "3a1aabb7-864a-4515-84e6-40af13fe3b92",
   "metadata": {},
   "outputs": [],
   "source": [
    "import mtd\n",
    "from tqdm import tqdm\n",
    "\n",
    "mtd_noised= []\n",
    "\n",
    "for cloud in tqdm(noise):\n",
    "    mtd_noised.append(mtd.calc_cross_barcodes(y_noise_embedded , cloud, batch_size1 = 100, batch_size2 = 500, pdist_device = \"cuda\", is_plot = False))"
   ]
  },
  {
   "cell_type": "code",
   "execution_count": null,
   "id": "662bf276-cfc4-4a3b-b2d8-ce2890148e37",
   "metadata": {},
   "outputs": [],
   "source": [
    "mtd_list_noise_all = [mtd.get_score(barc, 1, 'sum_length') for barc in mtd_noised]"
   ]
  },
  {
   "cell_type": "code",
   "execution_count": null,
   "id": "830fac34-feb7-4c5d-997e-eec66093c9e5",
   "metadata": {},
   "outputs": [],
   "source": [
    "import seaborn as sns\n",
    "import matplotlib.pyplot as plt\n",
    "\n",
    "sns.kdeplot(mtd_list_noise, label=\"noise\")\n",
    "plt.scatter(mtd_list_noise_gw,np.zeros(len(mtd_list_noise_gw)),c = \"red\", label = \"noise_gw\")\n",
    "plt.scatter(mtd_list_noise_all,np.zeros(len(mtd_list_noise_all)),c = \"green\", label = \"noise_noise\")\n",
    "plt.legend()"
   ]
  },
  {
   "cell_type": "markdown",
   "id": "dcc7911b-86f1-4638-8300-4ba9d1bda23d",
   "metadata": {},
   "source": [
    "---"
   ]
  },
  {
   "cell_type": "markdown",
   "id": "21e62bf1-409d-4709-a303-ecd259c5090e",
   "metadata": {},
   "source": [
    "Let's try add PCA"
   ]
  },
  {
   "cell_type": "code",
   "execution_count": null,
   "id": "feedf053-6953-4ed9-9cc0-0d8965521179",
   "metadata": {},
   "outputs": [],
   "source": [
    "from sklearn.decomposition import PCA\n",
    "\n",
    "pca = PCA(n_components=3)\n",
    "features_pca = [pca.fit_transform(cloud) for cloud in features]"
   ]
  },
  {
   "cell_type": "code",
   "execution_count": null,
   "id": "10d80cec-e356-4e76-8bfb-9b853137fc23",
   "metadata": {},
   "outputs": [],
   "source": [
    "features_pca = np.array(features_pca)"
   ]
  },
  {
   "cell_type": "code",
   "execution_count": null,
   "id": "ac9756d5-95e9-4d79-b17c-2c2b1401874a",
   "metadata": {},
   "outputs": [],
   "source": [
    "noised_gw_pca = features_pca[labels==1]\n",
    "noise_pca = features_pca[labels==0]\n",
    "y_noise_embedded_pca = features_pca[0]"
   ]
  },
  {
   "cell_type": "code",
   "execution_count": null,
   "id": "08245253-4957-47b7-9275-cd772eb4153b",
   "metadata": {},
   "outputs": [],
   "source": [
    "import mtd\n",
    "from tqdm import tqdm\n",
    "\n",
    "mtd_noised_gw_pca = []\n",
    "\n",
    "for cloud in tqdm(noised_gw_pca):\n",
    "    mtd_noised_gw_pca.append(mtd.calc_cross_barcodes(y_noise_embedded_pca , cloud, batch_size1 = 100, batch_size2 = 500, pdist_device = \"cuda\", is_plot = False))"
   ]
  },
  {
   "cell_type": "code",
   "execution_count": null,
   "id": "62278a6f-10c2-4843-b9bc-6c833917cd14",
   "metadata": {},
   "outputs": [],
   "source": [
    "mtd_list_noise_gw_pca = [mtd.get_score(barc, 1, 'sum_length') for barc in mtd_noised_gw_pca]"
   ]
  },
  {
   "cell_type": "code",
   "execution_count": null,
   "id": "2587e024-09d0-432e-a47f-d735670e87c3",
   "metadata": {},
   "outputs": [],
   "source": [
    "import mtd\n",
    "from tqdm import tqdm\n",
    "\n",
    "mtd_noised_pca= []\n",
    "\n",
    "for cloud in tqdm(noise_pca):\n",
    "    mtd_noised_pca.append(mtd.calc_cross_barcodes(y_noise_embedded_pca , cloud, batch_size1 = 100, batch_size2 = 500, pdist_device = \"cuda\", is_plot = False))"
   ]
  },
  {
   "cell_type": "code",
   "execution_count": null,
   "id": "944799c6-e2c5-4120-ae8c-c2ba0d0bc2a7",
   "metadata": {},
   "outputs": [],
   "source": [
    "mtd_list_noise_all_pca = [mtd.get_score(barc, 1, 'sum_length') for barc in mtd_noised_pca]"
   ]
  },
  {
   "cell_type": "code",
   "execution_count": null,
   "id": "892d9a79-170e-4890-9c07-9c404f951486",
   "metadata": {},
   "outputs": [],
   "source": [
    "n = 100\n",
    "barcs = [mtd.calc_cross_barcodes(y_noise_embedded_pca, y_noise_embedded_pca, batch_size1 = 100, batch_size2 = 500, pdist_device = \"cuda\", is_plot = False) for _ in range(n)]"
   ]
  },
  {
   "cell_type": "code",
   "execution_count": null,
   "id": "f899fa78-1e26-4e1d-a9a6-6bb1e3611c5c",
   "metadata": {},
   "outputs": [],
   "source": [
    "mtd_list_noise_pca = [mtd.get_score(barc, 1, 'sum_length') for barc in barcs]"
   ]
  },
  {
   "cell_type": "code",
   "execution_count": null,
   "id": "0a8f8cff-3fc1-4f17-badc-42717bc23da1",
   "metadata": {},
   "outputs": [],
   "source": [
    "n = 100\n",
    "barcs = [mtd.calc_cross_barcodes(features_pca[1], features_pca[1], batch_size1 = 100, batch_size2 = 500, pdist_device = \"cuda\", is_plot = False) for _ in range(n)]\n",
    "mtd_list_gw_pca = [mtd.get_score(barc, 1, 'sum_length') for barc in barcs]"
   ]
  },
  {
   "cell_type": "code",
   "execution_count": null,
   "id": "19233258-2aa5-4ee8-933c-f842c9f4157a",
   "metadata": {},
   "outputs": [],
   "source": [
    "import seaborn as sns\n",
    "import matplotlib.pyplot as plt\n",
    "\n",
    "sns.kdeplot(mtd_list_noise_pca, label=\"noise\")\n",
    "sns.kdeplot(mtd_list_gw_pca, label=\"gw\")\n",
    "plt.scatter(mtd_list_noise_gw_pca,np.zeros(len(mtd_list_noise_gw_pca)),c = \"red\", label = \"noise_gw\")\n",
    "plt.scatter(mtd_list_noise_all_pca,np.zeros(len(mtd_list_noise_all_pca)),c = \"green\", label = \"noise_noise\")\n",
    "plt.legend()"
   ]
  },
  {
   "cell_type": "markdown",
   "id": "dc7f6495-6e25-43f6-8f02-eb1fba7106b8",
   "metadata": {},
   "source": [
    "Предположительно проблема в том, что облака шумовые генерируются из разных временных рядов, чья топология может отличаться. В задаче с цифрами, мы имел 5 облаков всего и могли отличить двуу разных подоблака с помощью этого меетода. Но тут у нас 100 разных облаков, которые сами по сеебее отличаются, и пока не удаается их категоризировать с помощью MTD."
   ]
  },
  {
   "cell_type": "markdown",
   "id": "415efb97-5d16-4712-abe5-35d7ae908fad",
   "metadata": {},
   "source": [
    "---"
   ]
  },
  {
   "cell_type": "markdown",
   "id": "24f2124e-d8a1-4a23-af8e-7ca20b8ea689",
   "metadata": {},
   "source": [
    "### Now we want to reproduce author's experiments but with one substantial change. We will repllace barcode to cross-barcode"
   ]
  },
  {
   "cell_type": "code",
   "execution_count": 14,
   "id": "37a91289-65f9-4440-9397-c2ab8ea22730",
   "metadata": {
    "execution": {
     "iopub.execute_input": "2024-02-15T09:01:23.446777Z",
     "iopub.status.busy": "2024-02-15T09:01:23.446420Z",
     "iopub.status.idle": "2024-02-15T09:01:23.454703Z",
     "shell.execute_reply": "2024-02-15T09:01:23.453575Z",
     "shell.execute_reply.started": "2024-02-15T09:01:23.446744Z"
    }
   },
   "outputs": [],
   "source": [
    "from scipy.stats import entropy\n",
    "\n",
    "def my_entropy(cross_barcodes, normalize = False):\n",
    "    pers_entropy = np.zeros((len(cross_barcodes),2))\n",
    "\n",
    "    sum_lifespan = np.zeros(len(cross_barcodes))\n",
    "\n",
    "    \n",
    "    for barcode_idx in range(len(cross_barcodes)):\n",
    "        for hom_dim in [0, 1]:\n",
    "            lifespan_sums = cross_barcodes[barcode_idx][hom_dim][:, 1] - cross_barcodes[barcode_idx][hom_dim][:, 0]\n",
    "            sum_lifespan[barcode_idx] += np.sum(lifespan_sums)\n",
    "            entropy_dim = entropy(lifespan_sums, base = 2)\n",
    "            \n",
    "            pers_entropy[barcode_idx][hom_dim] = entropy_dim\n",
    "\n",
    "    if normalize:\n",
    "        pers_entropy /= np.log2(sum_lifespan[...,None])\n",
    "        \n",
    "    return pers_entropy\n",
    "        \n",
    "        \n",
    "        "
   ]
  },
  {
   "cell_type": "code",
   "execution_count": 16,
   "id": "bcd36b73-fc3b-4a39-b93e-e23d0d86f57d",
   "metadata": {
    "execution": {
     "iopub.execute_input": "2024-02-15T09:01:35.075662Z",
     "iopub.status.busy": "2024-02-15T09:01:35.074609Z",
     "iopub.status.idle": "2024-02-15T09:01:43.173089Z",
     "shell.execute_reply": "2024-02-15T09:01:43.172205Z",
     "shell.execute_reply.started": "2024-02-15T09:01:35.075608Z"
    }
   },
   "outputs": [],
   "source": [
    "from gtda.diagrams import PersistenceEntropy, Scaler\n",
    "from gtda.homology import VietorisRipsPersistence\n",
    "from gtda.time_series import TakensEmbedding\n",
    "from sklearn.decomposition import PCA\n",
    "import mtd\n",
    "\n",
    "embedding_dimension = 200\n",
    "embedding_time_delay = 10\n",
    "stride = 10\n",
    "\n",
    "embedder = TakensEmbedding(time_delay=embedding_time_delay,\n",
    "                           dimension=embedding_dimension,\n",
    "                           stride=stride)\n",
    "\n",
    "batch_pca = PCA(n_components=3)\n",
    "\n",
    "persistence = mtd.calc_cross_barcodes \n",
    "## желательно дописать обертку преварщающую выход в тензор: ndarray of shape (n_samples, n_features, 3)\n",
    "# Input data. Array of persistence diagrams, each a collection of\n",
    "# triples [b, d, q] \n",
    "\n",
    "# scaling = Scaler()\n",
    "\n",
    "# entropy = PersistenceEntropy(normalize=True, nan_fill_value=-10)\n",
    "\n",
    "\n",
    "# steps = [(\"embedder\", embedder),\n",
    "#          (\"pca\", batch_pca),\n",
    "#          (\"persistence\", persistence),\n",
    "#          (\"scaling\", scaling),\n",
    "#          (\"entropy\", entropy)]\n",
    "# topological_transfomer = Pipeline(steps)"
   ]
  },
  {
   "cell_type": "code",
   "execution_count": 18,
   "id": "a522cdbb-27a5-49a7-8e67-358221dd0e61",
   "metadata": {
    "execution": {
     "iopub.execute_input": "2024-02-15T09:02:11.018021Z",
     "iopub.status.busy": "2024-02-15T09:02:11.017514Z",
     "iopub.status.idle": "2024-02-15T09:45:44.960343Z",
     "shell.execute_reply": "2024-02-15T09:45:44.958345Z",
     "shell.execute_reply.started": "2024-02-15T09:02:11.017986Z"
    }
   },
   "outputs": [],
   "source": [
    "features = np.array(embedder.fit_transform(noisy_signals))\n",
    "\n",
    "features = [batch_pca.fit_transform(cloud) for cloud in features]"
   ]
  },
  {
   "cell_type": "code",
   "execution_count": 20,
   "id": "79622c03-2795-407e-a64d-707aab9eb52a",
   "metadata": {
    "execution": {
     "iopub.execute_input": "2024-02-15T10:00:24.809296Z",
     "iopub.status.busy": "2024-02-15T10:00:24.808461Z",
     "iopub.status.idle": "2024-02-15T10:00:27.160276Z",
     "shell.execute_reply": "2024-02-15T10:00:27.159190Z",
     "shell.execute_reply.started": "2024-02-15T10:00:24.809244Z"
    }
   },
   "outputs": [],
   "source": [
    "padded_gw = batch_pca.fit_transform(np.array(embedder.transform(padded_gw_signal))[0])"
   ]
  },
  {
   "cell_type": "code",
   "execution_count": 21,
   "id": "ed859ea7-5ec7-4562-b2e5-7813194371e5",
   "metadata": {
    "execution": {
     "iopub.execute_input": "2024-02-15T10:00:27.259051Z",
     "iopub.status.busy": "2024-02-15T10:00:27.258555Z",
     "iopub.status.idle": "2024-02-15T10:00:27.264459Z",
     "shell.execute_reply": "2024-02-15T10:00:27.263021Z",
     "shell.execute_reply.started": "2024-02-15T10:00:27.259015Z"
    }
   },
   "outputs": [],
   "source": [
    "first_noise = features[0]\n",
    "first_gw = features[1]"
   ]
  },
  {
   "cell_type": "code",
   "execution_count": 52,
   "id": "69f3a8ee-9d1d-462f-bdff-6b5704fcaf29",
   "metadata": {
    "execution": {
     "iopub.execute_input": "2024-02-16T14:38:12.059455Z",
     "iopub.status.busy": "2024-02-16T14:38:12.058976Z",
     "iopub.status.idle": "2024-02-16T15:11:44.980790Z",
     "shell.execute_reply": "2024-02-16T15:11:44.979680Z",
     "shell.execute_reply.started": "2024-02-16T14:38:12.059420Z"
    }
   },
   "outputs": [
    {
     "name": "stderr",
     "output_type": "stream",
     "text": [
      "100%|███████████████████████████████████████| 1000/1000 [33:32<00:00,  2.01s/it]\n"
     ]
    }
   ],
   "source": [
    "import mtd\n",
    "from tqdm import tqdm\n",
    "\n",
    "cross_barcodes = []\n",
    "\n",
    "for cloud in tqdm(features):\n",
    "    cross_barcodes.append(persistence(first_noise , cloud, batch_size1 = 600, batch_size2 = 600, pdist_device = \"cuda\", is_plot = False))\n",
    "\n",
    "entropyes_noise = my_entropy(cross_barcodes, normalize=False)\n",
    "mtd_noise = [mtd.get_score(barc, 1, 'sum_length') for barc in cross_barcodes]"
   ]
  },
  {
   "cell_type": "code",
   "execution_count": 53,
   "id": "238ad66a-1758-4228-b472-e09776c882c7",
   "metadata": {
    "execution": {
     "iopub.execute_input": "2024-02-16T15:11:44.982962Z",
     "iopub.status.busy": "2024-02-16T15:11:44.982658Z",
     "iopub.status.idle": "2024-02-16T15:44:51.684262Z",
     "shell.execute_reply": "2024-02-16T15:44:51.682865Z",
     "shell.execute_reply.started": "2024-02-16T15:11:44.982928Z"
    }
   },
   "outputs": [
    {
     "name": "stderr",
     "output_type": "stream",
     "text": [
      "100%|███████████████████████████████████████| 1000/1000 [33:06<00:00,  1.99s/it]\n"
     ]
    }
   ],
   "source": [
    "import mtd\n",
    "from tqdm import tqdm\n",
    "\n",
    "cross_barcodes = []\n",
    "\n",
    "for cloud in tqdm(features):\n",
    "    cross_barcodes.append(persistence(cloud, first_noise, batch_size1 = 600, batch_size2 = 600, pdist_device = \"cuda\", is_plot = False))\n",
    "\n",
    "entropyes_noise_rw = my_entropy(cross_barcodes, normalize=False)\n",
    "mtd_noise_rw = [mtd.get_score(barc, 1, 'sum_length') for barc in cross_barcodes]"
   ]
  },
  {
   "cell_type": "code",
   "execution_count": 54,
   "id": "27d75766-6e5f-4e35-a0ad-c4ec6f3acc32",
   "metadata": {
    "execution": {
     "iopub.execute_input": "2024-02-16T15:44:51.758261Z",
     "iopub.status.busy": "2024-02-16T15:44:51.685890Z",
     "iopub.status.idle": "2024-02-16T16:18:08.659804Z",
     "shell.execute_reply": "2024-02-16T16:18:08.658628Z",
     "shell.execute_reply.started": "2024-02-16T15:44:51.758191Z"
    }
   },
   "outputs": [
    {
     "name": "stderr",
     "output_type": "stream",
     "text": [
      "100%|███████████████████████████████████████| 1000/1000 [33:16<00:00,  2.00s/it]\n"
     ]
    }
   ],
   "source": [
    "import mtd\n",
    "from tqdm import tqdm\n",
    "\n",
    "cross_barcodes = []\n",
    "\n",
    "for cloud in tqdm(features):\n",
    "    cross_barcodes.append(persistence(first_gw , cloud, batch_size1 = 600, batch_size2 = 600, pdist_device = \"cuda\", is_plot = False))\n",
    "\n",
    "entropyes_gw = my_entropy(cross_barcodes, normalize=False)\n",
    "mtd_gw = [mtd.get_score(barc, 1, 'sum_length') for barc in cross_barcodes]"
   ]
  },
  {
   "cell_type": "code",
   "execution_count": 55,
   "id": "0e0ae2d5-9abc-4a2f-94cc-b804fae8af07",
   "metadata": {
    "execution": {
     "iopub.execute_input": "2024-02-16T16:18:08.662406Z",
     "iopub.status.busy": "2024-02-16T16:18:08.662013Z",
     "iopub.status.idle": "2024-02-16T16:51:52.381349Z",
     "shell.execute_reply": "2024-02-16T16:51:52.380128Z",
     "shell.execute_reply.started": "2024-02-16T16:18:08.662367Z"
    }
   },
   "outputs": [
    {
     "name": "stderr",
     "output_type": "stream",
     "text": [
      "100%|███████████████████████████████████████| 1000/1000 [33:43<00:00,  2.02s/it]\n"
     ]
    }
   ],
   "source": [
    "import mtd\n",
    "from tqdm import tqdm\n",
    "\n",
    "cross_barcodes = []\n",
    "\n",
    "for cloud in tqdm(features):\n",
    "    cross_barcodes.append(persistence(cloud, first_gw, batch_size1 = 600, batch_size2 = 600, pdist_device = \"cuda\", is_plot = False))\n",
    "\n",
    "entropyes_gw_rw = my_entropy(cross_barcodes, normalize=False)\n",
    "mtd_gw_rw = [mtd.get_score(barc, 1, 'sum_length') for barc in cross_barcodes]"
   ]
  },
  {
   "cell_type": "code",
   "execution_count": 56,
   "id": "9fa61547-c9ec-4664-b75e-91408e535e7d",
   "metadata": {
    "execution": {
     "iopub.execute_input": "2024-02-16T16:51:52.383750Z",
     "iopub.status.busy": "2024-02-16T16:51:52.383041Z",
     "iopub.status.idle": "2024-02-16T17:29:56.559785Z",
     "shell.execute_reply": "2024-02-16T17:29:56.558824Z",
     "shell.execute_reply.started": "2024-02-16T16:51:52.383717Z"
    }
   },
   "outputs": [
    {
     "name": "stderr",
     "output_type": "stream",
     "text": [
      "100%|███████████████████████████████████████| 1000/1000 [38:03<00:00,  2.28s/it]\n"
     ]
    }
   ],
   "source": [
    "import mtd\n",
    "from tqdm import tqdm\n",
    "\n",
    "cross_barcodes = []\n",
    "\n",
    "for cloud in tqdm(features):\n",
    "    cross_barcodes.append(persistence(padded_gw, cloud, batch_size1 = 600, batch_size2 = 600, pdist_device = \"cuda\", is_plot = False))\n",
    "\n",
    "entropyes_gw_pure = my_entropy(cross_barcodes, normalize=False)\n",
    "mtd_gw_pure = [mtd.get_score(barc, 1, 'sum_length') for barc in cross_barcodes]"
   ]
  },
  {
   "cell_type": "code",
   "execution_count": 57,
   "id": "bcabb399-0bbb-441f-97f4-a4e51697a644",
   "metadata": {
    "execution": {
     "iopub.execute_input": "2024-02-16T17:29:56.561199Z",
     "iopub.status.busy": "2024-02-16T17:29:56.560911Z",
     "iopub.status.idle": "2024-02-16T18:00:38.166195Z",
     "shell.execute_reply": "2024-02-16T18:00:38.165028Z",
     "shell.execute_reply.started": "2024-02-16T17:29:56.561166Z"
    }
   },
   "outputs": [
    {
     "name": "stderr",
     "output_type": "stream",
     "text": [
      "100%|███████████████████████████████████████| 1000/1000 [30:41<00:00,  1.84s/it]\n"
     ]
    }
   ],
   "source": [
    "import mtd\n",
    "from tqdm import tqdm\n",
    "\n",
    "cross_barcodes = []\n",
    "\n",
    "for cloud in tqdm(features):\n",
    "    cross_barcodes.append(persistence(cloud, padded_gw, batch_size1 = 600, batch_size2 = 500, pdist_device = \"cuda\", is_plot = False))\n",
    "\n",
    "entropyes_gw_pure_rw = my_entropy(cross_barcodes, normalize=False)\n",
    "mtd_gw_pure_rw = [mtd.get_score(barc, 1, 'sum_length') for barc in cross_barcodes]"
   ]
  },
  {
   "cell_type": "code",
   "execution_count": 59,
   "id": "864a987f-247a-4a49-847f-7e0a69cdeeba",
   "metadata": {
    "execution": {
     "iopub.execute_input": "2024-02-19T10:07:13.495822Z",
     "iopub.status.busy": "2024-02-19T10:07:13.495239Z",
     "iopub.status.idle": "2024-02-19T10:07:13.504320Z",
     "shell.execute_reply": "2024-02-19T10:07:13.503376Z",
     "shell.execute_reply.started": "2024-02-19T10:07:13.495777Z"
    }
   },
   "outputs": [],
   "source": [
    "mtd_noise = np.array(mtd_noise).reshape(-1,1)\n",
    "mtd_noise_rw = np.array(mtd_noise_rw).reshape(-1,1)\n",
    "mtd_gw = np.array(mtd_gw).reshape(-1,1)\n",
    "mtd_gw_rw = np.array(mtd_gw_rw).reshape(-1,1)\n",
    "mtd_gw_pure = np.array(mtd_gw_pure).reshape(-1,1)\n",
    "mtd_gw_pure_rw = np.array(mtd_gw_pure_rw).reshape(-1,1)"
   ]
  },
  {
   "cell_type": "markdown",
   "id": "198e2e99-8555-4fbb-82ff-14e77846951a",
   "metadata": {},
   "source": [
    "---"
   ]
  },
  {
   "cell_type": "code",
   "execution_count": 270,
   "id": "6727d929-21c6-4add-af9a-45a3c129f70f",
   "metadata": {
    "execution": {
     "iopub.execute_input": "2024-02-14T13:46:28.683107Z",
     "iopub.status.busy": "2024-02-14T13:46:28.682750Z",
     "iopub.status.idle": "2024-02-14T13:46:28.758389Z",
     "shell.execute_reply": "2024-02-14T13:46:28.685872Z",
     "shell.execute_reply.started": "2024-02-14T13:46:28.683074Z"
    }
   },
   "outputs": [],
   "source": [
    "# tmp = cross_barcodes[1][0]\n",
    "# tmp = np.concatenate((tmp, np.repeat(0,len(tmp))[...,None]),axis = 1)\n",
    "\n",
    "# tmp = tmp[None,...]\n",
    "\n",
    "# for item in cross_barcodes:\n",
    "#     for dim in item:\n",
    "#         tmp = np.concatenate((tmp, np.concatenate((dim, np.repeat(0,len(dim))[...,None]),axis = 1)[None,...] ),axis = 0)"
   ]
  },
  {
   "cell_type": "code",
   "execution_count": 271,
   "id": "a3e94586-c075-47ab-a7e2-2484d1a2a67c",
   "metadata": {
    "execution": {
     "iopub.execute_input": "2024-02-14T13:46:28.760542Z",
     "iopub.status.busy": "2024-02-14T13:46:28.759981Z",
     "iopub.status.idle": "2024-02-14T13:46:28.763801Z",
     "shell.execute_reply": "2024-02-14T13:46:28.763055Z",
     "shell.execute_reply.started": "2024-02-14T13:46:28.760507Z"
    }
   },
   "outputs": [],
   "source": [
    "# scaled_cross_barcodes = scaling.fit_transform(cross_barcodes)"
   ]
  },
  {
   "cell_type": "code",
   "execution_count": 272,
   "id": "2cad77b7-d248-444c-a478-f63dee34326a",
   "metadata": {
    "execution": {
     "iopub.execute_input": "2024-02-14T13:46:28.765270Z",
     "iopub.status.busy": "2024-02-14T13:46:28.764759Z",
     "iopub.status.idle": "2024-02-14T13:46:28.771466Z",
     "shell.execute_reply": "2024-02-14T13:46:28.770709Z",
     "shell.execute_reply.started": "2024-02-14T13:46:28.765236Z"
    }
   },
   "outputs": [],
   "source": [
    "# entropy_of_cross_barcodes = [entropy.fit_transform(item) for item in cross_barcodes]"
   ]
  },
  {
   "cell_type": "markdown",
   "id": "fcb9548b-031c-41fd-8179-cc20c172ceea",
   "metadata": {},
   "source": [
    "### Let's try to compute more features, as we have such opportunity"
   ]
  },
  {
   "cell_type": "code",
   "execution_count": 96,
   "id": "9866b3c8-9cf4-4369-b930-a3e1593acbc5",
   "metadata": {
    "execution": {
     "iopub.execute_input": "2024-02-19T10:23:19.022397Z",
     "iopub.status.busy": "2024-02-19T10:23:19.021584Z",
     "iopub.status.idle": "2024-02-19T10:23:19.028106Z",
     "shell.execute_reply": "2024-02-19T10:23:19.027259Z",
     "shell.execute_reply.started": "2024-02-19T10:23:19.022336Z"
    }
   },
   "outputs": [],
   "source": [
    "mtds = np.concatenate([mtd_noise, mtd_gw,\n",
    "                            mtd_noise_rw, mtd_gw_rw,\n",
    "                            mtd_gw_pure, mtd_gw_pure_rw\n",
    "                           ], axis = 1)*10**18"
   ]
  },
  {
   "cell_type": "code",
   "execution_count": 97,
   "id": "48be1b7b-d5b1-4096-b61a-38ac68868b0b",
   "metadata": {
    "execution": {
     "iopub.execute_input": "2024-02-19T10:23:19.264362Z",
     "iopub.status.busy": "2024-02-19T10:23:19.263619Z",
     "iopub.status.idle": "2024-02-19T10:23:19.271788Z",
     "shell.execute_reply": "2024-02-19T10:23:19.270366Z",
     "shell.execute_reply.started": "2024-02-19T10:23:19.264295Z"
    }
   },
   "outputs": [],
   "source": [
    "entropyes = np.concatenate([entropyes_noise, entropyes_gw,\n",
    "                            entropyes_noise_rw, entropyes_gw_rw,\n",
    "                            entropyes_gw_pure, entropyes_gw_pure_rw\n",
    "                           ], axis = 1)"
   ]
  },
  {
   "cell_type": "code",
   "execution_count": 98,
   "id": "fb148218-f05d-4587-a107-f4bc3a48ea7b",
   "metadata": {
    "execution": {
     "iopub.execute_input": "2024-02-19T10:23:19.453746Z",
     "iopub.status.busy": "2024-02-19T10:23:19.452669Z",
     "iopub.status.idle": "2024-02-19T10:23:19.462170Z",
     "shell.execute_reply": "2024-02-19T10:23:19.460722Z",
     "shell.execute_reply.started": "2024-02-19T10:23:19.453677Z"
    }
   },
   "outputs": [],
   "source": [
    "from sklearn.model_selection import train_test_split\n",
    "\n",
    "X_train, X_valid, y_train, y_valid = train_test_split(\n",
    "    entropyes, labels, test_size=0.2, random_state=42\n",
    ")"
   ]
  },
  {
   "cell_type": "code",
   "execution_count": 99,
   "id": "82132896-c10d-4462-b791-46d434331a1d",
   "metadata": {
    "execution": {
     "iopub.execute_input": "2024-02-19T10:23:19.617537Z",
     "iopub.status.busy": "2024-02-19T10:23:19.616575Z",
     "iopub.status.idle": "2024-02-19T10:23:19.658128Z",
     "shell.execute_reply": "2024-02-19T10:23:19.627323Z",
     "shell.execute_reply.started": "2024-02-19T10:23:19.617469Z"
    }
   },
   "outputs": [],
   "source": [
    "from sklearn.metrics import accuracy_score, roc_auc_score\n",
    "\n",
    "\n",
    "def print_scores(fitted_model):\n",
    "    res = {\n",
    "        \"Accuracy on train:\": accuracy_score(fitted_model.predict(X_train), y_train),\n",
    "        \"ROC AUC on train:\": roc_auc_score(\n",
    "            y_train, fitted_model.predict_proba(X_train)[:, 1]\n",
    "        ),\n",
    "        \"Accuracy on valid:\": accuracy_score(fitted_model.predict(X_valid), y_valid),\n",
    "        \"ROC AUC on valid:\": roc_auc_score(\n",
    "            y_valid, fitted_model.predict_proba(X_valid)[:, 1]\n",
    "        ),\n",
    "    }\n",
    "\n",
    "    for k, v in res.items():\n",
    "        print(k, round(v, 3))"
   ]
  },
  {
   "cell_type": "code",
   "execution_count": 100,
   "id": "0ccffbd8-a989-4cf2-ac71-a8fb1ec8e9c6",
   "metadata": {
    "execution": {
     "iopub.execute_input": "2024-02-19T10:23:19.809923Z",
     "iopub.status.busy": "2024-02-19T10:23:19.808956Z",
     "iopub.status.idle": "2024-02-19T10:23:20.659473Z",
     "shell.execute_reply": "2024-02-19T10:23:20.658634Z",
     "shell.execute_reply.started": "2024-02-19T10:23:19.809855Z"
    }
   },
   "outputs": [
    {
     "name": "stdout",
     "output_type": "stream",
     "text": [
      "Accuracy on train: 0.685\n",
      "ROC AUC on train: 0.747\n",
      "Accuracy on valid: 0.72\n",
      "ROC AUC on valid: 0.766\n"
     ]
    }
   ],
   "source": [
    "from sklearn.linear_model import LogisticRegression\n",
    "\n",
    "X_train, X_valid, y_train, y_valid = train_test_split(\n",
    "    entropyes, labels, test_size=0.2, random_state=42\n",
    ")\n",
    "\n",
    "model = LogisticRegression(max_iter = 1000)\n",
    "model.fit(X_train, y_train)\n",
    "print_scores(model)"
   ]
  },
  {
   "cell_type": "code",
   "execution_count": 101,
   "id": "5d033ada-a8e8-4763-ab4a-8ba80ff0661a",
   "metadata": {
    "execution": {
     "iopub.execute_input": "2024-02-19T10:23:20.661328Z",
     "iopub.status.busy": "2024-02-19T10:23:20.660930Z",
     "iopub.status.idle": "2024-02-19T10:23:20.779280Z",
     "shell.execute_reply": "2024-02-19T10:23:20.778154Z",
     "shell.execute_reply.started": "2024-02-19T10:23:20.661294Z"
    }
   },
   "outputs": [
    {
     "name": "stdout",
     "output_type": "stream",
     "text": [
      "Accuracy on train: 0.678\n",
      "ROC AUC on train: 0.731\n",
      "Accuracy on valid: 0.72\n",
      "ROC AUC on valid: 0.793\n"
     ]
    }
   ],
   "source": [
    "from sklearn.linear_model import LogisticRegression\n",
    "\n",
    "X_train, X_valid, y_train, y_valid = train_test_split(\n",
    "    mtds, labels, test_size=0.2, random_state=42\n",
    ")\n",
    "\n",
    "model = LogisticRegression(max_iter = 1000)\n",
    "model.fit(X_train, y_train)\n",
    "print_scores(model)"
   ]
  },
  {
   "cell_type": "code",
   "execution_count": 102,
   "id": "32cc7b49-cdc2-44e1-892a-1d61ea3f5191",
   "metadata": {
    "execution": {
     "iopub.execute_input": "2024-02-19T10:23:20.858633Z",
     "iopub.status.busy": "2024-02-19T10:23:20.858243Z",
     "iopub.status.idle": "2024-02-19T10:23:21.662968Z",
     "shell.execute_reply": "2024-02-19T10:23:21.661855Z",
     "shell.execute_reply.started": "2024-02-19T10:23:20.858598Z"
    },
    "scrolled": true
   },
   "outputs": [
    {
     "name": "stdout",
     "output_type": "stream",
     "text": [
      "Accuracy on train: 0.685\n",
      "ROC AUC on train: 0.751\n",
      "Accuracy on valid: 0.735\n",
      "ROC AUC on valid: 0.802\n"
     ]
    }
   ],
   "source": [
    "from sklearn.linear_model import LogisticRegression\n",
    "\n",
    "X_train, X_valid, y_train, y_valid = train_test_split(\n",
    "    np.concatenate([entropyes, mtds],axis = 1), labels, test_size=0.2, random_state=42\n",
    ")\n",
    "\n",
    "model = LogisticRegression(max_iter = 1000)\n",
    "model.fit(X_train, y_train)\n",
    "print_scores(model)"
   ]
  },
  {
   "cell_type": "markdown",
   "id": "79034b08-07a6-4352-8b8d-22dc2fc6b089",
   "metadata": {},
   "source": [
    "---"
   ]
  },
  {
   "cell_type": "code",
   "execution_count": null,
   "id": "e79e1e25-b1c4-4a97-88db-a1b401df360b",
   "metadata": {},
   "outputs": [],
   "source": []
  }
 ],
 "metadata": {
  "kernelspec": {
   "display_name": "Python 3 (ipykernel)",
   "language": "python",
   "name": "python3"
  },
  "language_info": {
   "codemirror_mode": {
    "name": "ipython",
    "version": 3
   },
   "file_extension": ".py",
   "mimetype": "text/x-python",
   "name": "python",
   "nbconvert_exporter": "python",
   "pygments_lexer": "ipython3",
   "version": "3.10.11"
  }
 },
 "nbformat": 4,
 "nbformat_minor": 5
}
